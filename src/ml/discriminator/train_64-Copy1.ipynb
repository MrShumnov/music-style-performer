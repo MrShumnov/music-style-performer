{
 "cells": [
  {
   "cell_type": "code",
   "execution_count": 1,
   "id": "b3d15641",
   "metadata": {},
   "outputs": [],
   "source": [
    "import os\n",
    "import numpy as np\n",
    "from matplotlib import pyplot as plt\n",
    "\n",
    "os.environ['XLA_FLAGS'] = '--xla_gpu_cuda_data_dir=/usr/lib/cuda'\n",
    "os.environ[\"CUDA_VISIBLE_DEVICES\"]=\"5\""
   ]
  },
  {
   "cell_type": "code",
   "execution_count": 2,
   "id": "16e8521e",
   "metadata": {},
   "outputs": [
    {
     "name": "stderr",
     "output_type": "stream",
     "text": [
      "2023-05-28 23:35:53.926318: I tensorflow/core/platform/cpu_feature_guard.cc:182] This TensorFlow binary is optimized to use available CPU instructions in performance-critical operations.\n",
      "To enable the following instructions: AVX2 AVX512F FMA, in other operations, rebuild TensorFlow with the appropriate compiler flags.\n",
      "2023-05-28 23:35:55.393618: W tensorflow/compiler/tf2tensorrt/utils/py_utils.cc:38] TF-TRT Warning: Could not find TensorRT\n"
     ]
    },
    {
     "name": "stdout",
     "output_type": "stream",
     "text": [
      "GPU available: 1\n"
     ]
    },
    {
     "name": "stderr",
     "output_type": "stream",
     "text": [
      "2023-05-28 23:35:57.068469: I tensorflow/compiler/xla/stream_executor/cuda/cuda_gpu_executor.cc:996] successful NUMA node read from SysFS had negative value (-1), but there must be at least one NUMA node, so returning NUMA node zero. See more at https://github.com/torvalds/linux/blob/v6.0/Documentation/ABI/testing/sysfs-bus-pci#L344-L355\n",
      "2023-05-28 23:35:57.129190: I tensorflow/compiler/xla/stream_executor/cuda/cuda_gpu_executor.cc:996] successful NUMA node read from SysFS had negative value (-1), but there must be at least one NUMA node, so returning NUMA node zero. See more at https://github.com/torvalds/linux/blob/v6.0/Documentation/ABI/testing/sysfs-bus-pci#L344-L355\n",
      "2023-05-28 23:35:57.130979: I tensorflow/compiler/xla/stream_executor/cuda/cuda_gpu_executor.cc:996] successful NUMA node read from SysFS had negative value (-1), but there must be at least one NUMA node, so returning NUMA node zero. See more at https://github.com/torvalds/linux/blob/v6.0/Documentation/ABI/testing/sysfs-bus-pci#L344-L355\n"
     ]
    }
   ],
   "source": [
    "import tensorflow as tf\n",
    "from tensorflow import keras\n",
    "\n",
    "print(\"GPU available:\", len(tf.config.list_physical_devices('GPU')))"
   ]
  },
  {
   "cell_type": "code",
   "execution_count": 3,
   "id": "238eb1c3",
   "metadata": {},
   "outputs": [],
   "source": [
    "from data_preprocessing import DataProcessor, Dataset\n",
    "from model import OCCModel\n",
    "from autoencoder import MLPAutoencoder\n",
    "from var_autoencoder import MLPVarAutoencoder\n",
    "from loss import WeightedMSE"
   ]
  },
  {
   "cell_type": "code",
   "execution_count": 4,
   "id": "d66b63d4",
   "metadata": {},
   "outputs": [],
   "source": [
    "PROJECT_PATH = '/raid/shumnov/music-style-performer/'"
   ]
  },
  {
   "cell_type": "code",
   "execution_count": 5,
   "id": "7670e00b",
   "metadata": {},
   "outputs": [],
   "source": [
    "architecture = [((256, 128), (0, 0), (128, 256), (0, 0)), \n",
    "                ((256, 128, 128), (0.1, 0.1, 0.1), (128, 128, 256), (0.1, 0.1, 0.1)), \n",
    "                ((256, 256, 128), (0.4, 0.2, 0.1), (128, 256, 256), (0.1, 0.1, 0.1)),\n",
    "                ((128, 64, 64), (0, 0, 0), (64, 64, 128), (0, 0, 0))]\n",
    "noise = [0.02, 0.08, 0.2]\n",
    "latent_dim = [64, 32, 128]\n",
    "absolute_velocities = [True, False]"
   ]
  },
  {
   "cell_type": "code",
   "execution_count": 6,
   "id": "b1e26041",
   "metadata": {},
   "outputs": [],
   "source": [
    "def test(av, ld, n, arch, name, legw=1, checkpoint_id=None, epochs=10):\n",
    "    print(name)\n",
    "    \n",
    "    dp = DataProcessor(\n",
    "        notes_qty=64, \n",
    "        include_first_tone=False, \n",
    "        absolute_velocities=av)\n",
    "    \n",
    "    dset = Dataset(dp, 64)\n",
    "    \n",
    "    print('Loading dataset...')\n",
    "    dset.load_dset(PROJECT_PATH + 'data/dset64.npy', 2000)\n",
    "    print('Dataset loaded')\n",
    "    \n",
    "    autoencoder = MLPAutoencoder(\n",
    "        input_size=dp.input_size,\n",
    "        latent_dim=ld,\n",
    "        noise=n,\n",
    "        encoder_layers=arch[0],\n",
    "        encoder_dropout=arch[1],\n",
    "        decoder_layers=arch[2],\n",
    "        decoder_dropout=arch[3])\n",
    "    \n",
    "    loss = WeightedMSE(\n",
    "        vel_mask=dp.vel_mask, \n",
    "        leg_mask=dp.leg_mask, \n",
    "        first_last_mask=dp.first_last_mask, \n",
    "        vel_weight=1, \n",
    "        leg_weight=legw,\n",
    "        first_last_weight=1)\n",
    "    \n",
    "    model = OCCModel(\n",
    "        autoencoder=autoencoder,\n",
    "        dataprocessor=dp,\n",
    "        dist_weight=1, \n",
    "        vel_weight=1, \n",
    "        leg_weight=legw\n",
    "    )\n",
    "    model.compile(\n",
    "        modelsdir=PROJECT_PATH+'traindata/ae/64',\n",
    "        name=name, \n",
    "        optimizer=keras.optimizers.Adam(3e-5),\n",
    "        loss=loss,\n",
    "        ckpt_epochs=1\n",
    "    )\n",
    "    model.summary()\n",
    "    \n",
    "    if checkpoint_id is not None:\n",
    "        model.restore(checkpoint_id)\n",
    "    \n",
    "    print('Start training...')\n",
    "    model.fit(dset, epochs, 3)"
   ]
  },
  {
   "cell_type": "code",
   "execution_count": null,
   "id": "c7758594",
   "metadata": {
    "scrolled": true
   },
   "outputs": [],
   "source": [
    "for ld in range(len(latent_dim)):\n",
    "    for av in range(len(absolute_velocities)):\n",
    "        for n in range(len(noise)):\n",
    "            for a in range(len(architecture)):\n",
    "                test(absolute_velocities[av], latent_dim[ld], noise[n], architecture[a], f'{ld}{av}{n}{a}')"
   ]
  },
  {
   "cell_type": "code",
   "execution_count": null,
   "id": "19b6e658",
   "metadata": {},
   "outputs": [],
   "source": []
  },
  {
   "cell_type": "code",
   "execution_count": null,
   "id": "9c2e12e3",
   "metadata": {},
   "outputs": [
    {
     "name": "stdout",
     "output_type": "stream",
     "text": [
      "1023\n",
      "Loading dataset...\n"
     ]
    },
    {
     "name": "stderr",
     "output_type": "stream",
     "text": [
      "/raid/shumnov/anaconda3/envs/tf/lib/python3.9/site-packages/scipy/stats/_continuous_distns.py:411: RuntimeWarning: Mean of empty slice.\n",
      "  loc = data.mean()\n",
      "/raid/shumnov/anaconda3/envs/tf/lib/python3.9/site-packages/numpy/core/_methods.py:189: RuntimeWarning: invalid value encountered in true_divide\n",
      "  ret = ret.dtype.type(ret / rcount)\n",
      "/raid/shumnov/anaconda3/envs/tf/lib/python3.9/site-packages/scipy/stats/_continuous_distns.py:416: RuntimeWarning: Mean of empty slice.\n",
      "  scale = np.sqrt(((data - loc)**2).mean())\n"
     ]
    },
    {
     "name": "stdout",
     "output_type": "stream",
     "text": [
      "Dataset loaded\n"
     ]
    },
    {
     "name": "stderr",
     "output_type": "stream",
     "text": [
      "2023-05-28 23:36:38.761372: I tensorflow/compiler/xla/stream_executor/cuda/cuda_gpu_executor.cc:996] successful NUMA node read from SysFS had negative value (-1), but there must be at least one NUMA node, so returning NUMA node zero. See more at https://github.com/torvalds/linux/blob/v6.0/Documentation/ABI/testing/sysfs-bus-pci#L344-L355\n",
      "2023-05-28 23:36:38.763183: I tensorflow/compiler/xla/stream_executor/cuda/cuda_gpu_executor.cc:996] successful NUMA node read from SysFS had negative value (-1), but there must be at least one NUMA node, so returning NUMA node zero. See more at https://github.com/torvalds/linux/blob/v6.0/Documentation/ABI/testing/sysfs-bus-pci#L344-L355\n",
      "2023-05-28 23:36:38.764815: I tensorflow/compiler/xla/stream_executor/cuda/cuda_gpu_executor.cc:996] successful NUMA node read from SysFS had negative value (-1), but there must be at least one NUMA node, so returning NUMA node zero. See more at https://github.com/torvalds/linux/blob/v6.0/Documentation/ABI/testing/sysfs-bus-pci#L344-L355\n",
      "2023-05-28 23:36:39.730493: I tensorflow/compiler/xla/stream_executor/cuda/cuda_gpu_executor.cc:996] successful NUMA node read from SysFS had negative value (-1), but there must be at least one NUMA node, so returning NUMA node zero. See more at https://github.com/torvalds/linux/blob/v6.0/Documentation/ABI/testing/sysfs-bus-pci#L344-L355\n",
      "2023-05-28 23:36:39.732320: I tensorflow/compiler/xla/stream_executor/cuda/cuda_gpu_executor.cc:996] successful NUMA node read from SysFS had negative value (-1), but there must be at least one NUMA node, so returning NUMA node zero. See more at https://github.com/torvalds/linux/blob/v6.0/Documentation/ABI/testing/sysfs-bus-pci#L344-L355\n",
      "2023-05-28 23:36:39.733953: I tensorflow/compiler/xla/stream_executor/cuda/cuda_gpu_executor.cc:996] successful NUMA node read from SysFS had negative value (-1), but there must be at least one NUMA node, so returning NUMA node zero. See more at https://github.com/torvalds/linux/blob/v6.0/Documentation/ABI/testing/sysfs-bus-pci#L344-L355\n",
      "2023-05-28 23:36:39.735557: I tensorflow/core/common_runtime/gpu/gpu_device.cc:1635] Created device /job:localhost/replica:0/task:0/device:GPU:0 with 24944 MB memory:  -> device: 0, name: Tesla V100-SXM3-32GB, pci bus id: 0000:0a:00.0, compute capability: 7.0\n"
     ]
    },
    {
     "name": "stdout",
     "output_type": "stream",
     "text": [
      "Start training...\n",
      "Epoch 1/40\n"
     ]
    },
    {
     "name": "stderr",
     "output_type": "stream",
     "text": [
      "2023-05-28 23:37:02.866099: I tensorflow/compiler/xla/service/service.cc:169] XLA service 0x20bb6e60 initialized for platform CUDA (this does not guarantee that XLA will be used). Devices:\n",
      "2023-05-28 23:37:02.866147: I tensorflow/compiler/xla/service/service.cc:177]   StreamExecutor device (0): Tesla V100-SXM3-32GB, Compute Capability 7.0\n",
      "2023-05-28 23:37:02.872787: I tensorflow/compiler/mlir/tensorflow/utils/dump_mlir_util.cc:269] disabling MLIR crash reproducer, set env var `MLIR_CRASH_REPRODUCER_DIRECTORY` to enable.\n",
      "2023-05-28 23:37:03.101860: I tensorflow/compiler/xla/stream_executor/cuda/cuda_dnn.cc:424] Loaded cuDNN version 8600\n",
      "2023-05-28 23:37:03.195974: E tensorflow/compiler/xla/stream_executor/gpu/asm_compiler.cc:114] *** WARNING *** You are using ptxas 9.1.108, which is older than 11.1. ptxas before 11.1 is known to miscompile XLA code, leading to incorrect results or invalid-address errors.\n",
      "\n",
      "2023-05-28 23:37:03.269184: I ./tensorflow/compiler/jit/device_compiler.h:180] Compiled cluster using XLA!  This line is logged at most once for the lifetime of the process.\n",
      "2023-05-28 23:37:03.360868: E tensorflow/compiler/xla/stream_executor/gpu/asm_compiler.cc:114] *** WARNING *** You are using ptxas 9.1.108, which is older than 11.1. ptxas before 11.1 is known to miscompile XLA code, leading to incorrect results or invalid-address errors.\n",
      "\n",
      "2023-05-28 23:37:03.505264: E tensorflow/compiler/xla/stream_executor/gpu/asm_compiler.cc:114] *** WARNING *** You are using ptxas 9.1.108, which is older than 11.1. ptxas before 11.1 is known to miscompile XLA code, leading to incorrect results or invalid-address errors.\n",
      "\n",
      "2023-05-28 23:37:03.653680: E tensorflow/compiler/xla/stream_executor/gpu/asm_compiler.cc:114] *** WARNING *** You are using ptxas 9.1.108, which is older than 11.1. ptxas before 11.1 is known to miscompile XLA code, leading to incorrect results or invalid-address errors.\n",
      "\n",
      "2023-05-28 23:37:04.013473: E tensorflow/compiler/xla/stream_executor/gpu/asm_compiler.cc:114] *** WARNING *** You are using ptxas 9.1.108, which is older than 11.1. ptxas before 11.1 is known to miscompile XLA code, leading to incorrect results or invalid-address errors.\n",
      "\n",
      "2023-05-28 23:37:04.460180: E tensorflow/compiler/xla/stream_executor/gpu/asm_compiler.cc:114] *** WARNING *** You are using ptxas 9.1.108, which is older than 11.1. ptxas before 11.1 is known to miscompile XLA code, leading to incorrect results or invalid-address errors.\n",
      "\n"
     ]
    },
    {
     "name": "stdout",
     "output_type": "stream",
     "text": [
      "82301/82301 - 285s - loss: 0.2733 - val_loss: 0.2313 - occ_accuracy: 0.2774 - 285s/epoch - 3ms/step\n",
      "Epoch 2/40\n",
      "82301/82301 - 279s - loss: 0.2289 - val_loss: 0.2227 - occ_accuracy: 0.2781 - 279s/epoch - 3ms/step\n",
      "Epoch 3/40\n",
      "82301/82301 - 278s - loss: 0.2269 - val_loss: 0.2221 - occ_accuracy: 0.2780 - 278s/epoch - 3ms/step\n",
      "Epoch 4/40\n",
      "82301/82301 - 280s - loss: 0.2266 - val_loss: 0.2219 - occ_accuracy: 0.2779 - 280s/epoch - 3ms/step\n",
      "Epoch 5/40\n",
      "82301/82301 - 277s - loss: 0.2261 - val_loss: 0.2215 - occ_accuracy: 0.2779 - 277s/epoch - 3ms/step\n",
      "Epoch 7/40\n",
      "82301/82301 - 278s - loss: 0.2245 - val_loss: 0.2127 - occ_accuracy: 0.2772 - 278s/epoch - 3ms/step\n",
      "Epoch 8/40\n",
      "82301/82301 - 278s - loss: 0.2136 - val_loss: 0.2060 - occ_accuracy: 0.2780 - 278s/epoch - 3ms/step\n",
      "Epoch 9/40\n",
      "82301/82301 - 277s - loss: 0.2090 - val_loss: 0.2022 - occ_accuracy: 0.2780 - 277s/epoch - 3ms/step\n",
      "Epoch 10/40\n",
      "82301/82301 - 278s - loss: 0.2081 - val_loss: 0.2019 - occ_accuracy: 0.2781 - 278s/epoch - 3ms/step\n",
      "Epoch 11/40\n",
      "82301/82301 - 276s - loss: 0.2078 - val_loss: 0.2017 - occ_accuracy: 0.2783 - 276s/epoch - 3ms/step\n",
      "Epoch 12/40\n",
      "82301/82301 - 276s - loss: 0.2077 - val_loss: 0.2016 - occ_accuracy: 0.2784 - 276s/epoch - 3ms/step\n",
      "Epoch 13/40\n",
      "82301/82301 - 276s - loss: 0.2076 - val_loss: 0.2015 - occ_accuracy: 0.2784 - 276s/epoch - 3ms/step\n",
      "Epoch 14/40\n",
      "82301/82301 - 276s - loss: 0.2075 - val_loss: 0.2014 - occ_accuracy: 0.2784 - 276s/epoch - 3ms/step\n",
      "Epoch 15/40\n",
      "82301/82301 - 276s - loss: 0.2075 - val_loss: 0.2014 - occ_accuracy: 0.2784 - 276s/epoch - 3ms/step\n",
      "Epoch 16/40\n",
      "82301/82301 - 275s - loss: 0.2075 - val_loss: 0.2014 - occ_accuracy: 0.2784 - 275s/epoch - 3ms/step\n",
      "Epoch 17/40\n",
      "82301/82301 - 277s - loss: 0.2075 - val_loss: 0.2014 - occ_accuracy: 0.2784 - 277s/epoch - 3ms/step\n",
      "Epoch 18/40\n",
      "82301/82301 - 277s - loss: 0.2074 - val_loss: 0.2014 - occ_accuracy: 0.2784 - 277s/epoch - 3ms/step\n",
      "Epoch 19/40\n",
      "82301/82301 - 277s - loss: 0.2074 - val_loss: 0.2013 - occ_accuracy: 0.2784 - 277s/epoch - 3ms/step\n",
      "Epoch 20/40\n",
      "82301/82301 - 276s - loss: 0.2074 - val_loss: 0.2013 - occ_accuracy: 0.2784 - 276s/epoch - 3ms/step\n",
      "Epoch 21/40\n"
     ]
    },
    {
     "name": "stderr",
     "output_type": "stream",
     "text": [
      "/raid/shumnov/music-style-performer/src/ml/discriminator/data_preprocessing.py:236: RuntimeWarning: More than 20 figures have been opened. Figures created through the pyplot interface (`matplotlib.pyplot.figure`) are retained until explicitly closed and may consume too much memory. (To control this warning, see the rcParam `figure.max_open_warning`). Consider using `matplotlib.pyplot.close()`.\n",
      "  fig, axs = plt.subplots(3, 2, figsize=(10, 10))\n"
     ]
    },
    {
     "name": "stdout",
     "output_type": "stream",
     "text": [
      "82301/82301 - 277s - loss: 0.2074 - val_loss: 0.2012 - occ_accuracy: 0.2784 - 277s/epoch - 3ms/step\n",
      "Epoch 22/40\n",
      "82301/82301 - 276s - loss: 0.2074 - val_loss: 0.2012 - occ_accuracy: 0.2784 - 276s/epoch - 3ms/step\n",
      "Epoch 23/40\n",
      "82301/82301 - 277s - loss: 0.2074 - val_loss: 0.2013 - occ_accuracy: 0.2784 - 277s/epoch - 3ms/step\n",
      "Epoch 24/40\n",
      "82301/82301 - 276s - loss: 0.2074 - val_loss: 0.2013 - occ_accuracy: 0.2784 - 276s/epoch - 3ms/step\n",
      "Epoch 25/40\n",
      "82301/82301 - 276s - loss: 0.2074 - val_loss: 0.2013 - occ_accuracy: 0.2784 - 276s/epoch - 3ms/step\n",
      "Epoch 26/40\n",
      "82301/82301 - 275s - loss: 0.2074 - val_loss: 0.2012 - occ_accuracy: 0.2784 - 275s/epoch - 3ms/step\n",
      "Epoch 27/40\n",
      "82301/82301 - 277s - loss: 0.2073 - val_loss: 0.2012 - occ_accuracy: 0.2784 - 277s/epoch - 3ms/step\n",
      "Epoch 28/40\n",
      "82301/82301 - 276s - loss: 0.2073 - val_loss: 0.2012 - occ_accuracy: 0.2784 - 276s/epoch - 3ms/step\n",
      "Epoch 29/40\n",
      "82301/82301 - 276s - loss: 0.2073 - val_loss: 0.2012 - occ_accuracy: 0.2784 - 276s/epoch - 3ms/step\n",
      "Epoch 30/40\n",
      "82301/82301 - 278s - loss: 0.2073 - val_loss: 0.2012 - occ_accuracy: 0.2784 - 278s/epoch - 3ms/step\n",
      "Epoch 31/40\n",
      "82301/82301 - 276s - loss: 0.2073 - val_loss: 0.2013 - occ_accuracy: 0.2784 - 276s/epoch - 3ms/step\n",
      "Epoch 32/40\n",
      "82301/82301 - 277s - loss: 0.2073 - val_loss: 0.2012 - occ_accuracy: 0.2784 - 277s/epoch - 3ms/step\n",
      "Epoch 33/40\n",
      "82301/82301 - 279s - loss: 0.2073 - val_loss: 0.2011 - occ_accuracy: 0.2784 - 279s/epoch - 3ms/step\n",
      "Epoch 34/40\n",
      "82301/82301 - 277s - loss: 0.2073 - val_loss: 0.2012 - occ_accuracy: 0.2784 - 277s/epoch - 3ms/step\n",
      "Epoch 35/40\n",
      "82301/82301 - 277s - loss: 0.2073 - val_loss: 0.2012 - occ_accuracy: 0.2784 - 277s/epoch - 3ms/step\n",
      "Epoch 36/40\n",
      "82301/82301 - 277s - loss: 0.2072 - val_loss: 0.2011 - occ_accuracy: 0.2784 - 277s/epoch - 3ms/step\n",
      "Epoch 37/40\n",
      "82301/82301 - 277s - loss: 0.2072 - val_loss: 0.2011 - occ_accuracy: 0.2785 - 277s/epoch - 3ms/step\n",
      "Epoch 38/40\n",
      "82301/82301 - 278s - loss: 0.2072 - val_loss: 0.2010 - occ_accuracy: 0.2784 - 278s/epoch - 3ms/step\n",
      "Epoch 39/40\n",
      "82301/82301 - 279s - loss: 0.2071 - val_loss: 0.2010 - occ_accuracy: 0.2784 - 279s/epoch - 3ms/step\n",
      "Epoch 40/40\n"
     ]
    }
   ],
   "source": [
    "test(absolute_velocities[0], latent_dim[1], noise[2], architecture[3], f'1023', legw=1, epochs=40)"
   ]
  },
  {
   "cell_type": "code",
   "execution_count": null,
   "id": "053205bd",
   "metadata": {},
   "outputs": [],
   "source": []
  }
 ],
 "metadata": {
  "kernelspec": {
   "display_name": "Python 3 (ipykernel)",
   "language": "python",
   "name": "python3"
  },
  "language_info": {
   "codemirror_mode": {
    "name": "ipython",
    "version": 3
   },
   "file_extension": ".py",
   "mimetype": "text/x-python",
   "name": "python",
   "nbconvert_exporter": "python",
   "pygments_lexer": "ipython3",
   "version": "3.9.16"
  }
 },
 "nbformat": 4,
 "nbformat_minor": 5
}
