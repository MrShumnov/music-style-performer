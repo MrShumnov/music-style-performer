{
 "cells": [
  {
   "cell_type": "code",
   "execution_count": 1,
   "id": "b3d15641",
   "metadata": {},
   "outputs": [],
   "source": [
    "import os\n",
    "import numpy as np\n",
    "from matplotlib import pyplot as plt\n",
    "\n",
    "os.environ['XLA_FLAGS'] = '--xla_gpu_cuda_data_dir=/usr/lib/cuda'\n",
    "os.environ[\"CUDA_VISIBLE_DEVICES\"]=\"2\""
   ]
  },
  {
   "cell_type": "code",
   "execution_count": 2,
   "id": "16e8521e",
   "metadata": {},
   "outputs": [
    {
     "name": "stderr",
     "output_type": "stream",
     "text": [
      "2023-05-21 04:03:52.608671: I tensorflow/core/platform/cpu_feature_guard.cc:182] This TensorFlow binary is optimized to use available CPU instructions in performance-critical operations.\n",
      "To enable the following instructions: AVX2 AVX512F FMA, in other operations, rebuild TensorFlow with the appropriate compiler flags.\n"
     ]
    },
    {
     "name": "stdout",
     "output_type": "stream",
     "text": [
      "GPU available: 1\n"
     ]
    }
   ],
   "source": [
    "import tensorflow as tf\n",
    "from tensorflow import keras\n",
    "\n",
    "print(\"GPU available:\", len(tf.config.list_physical_devices('GPU')))"
   ]
  },
  {
   "cell_type": "code",
   "execution_count": 3,
   "id": "238eb1c3",
   "metadata": {},
   "outputs": [],
   "source": [
    "from data_preprocessing import DataProcessor, Dataset\n",
    "from model import OCCModel\n",
    "from autoencoder import MLPAutoencoder\n",
    "from var_autoencoder import MLPVarAutoencoder\n",
    "from loss import WeightedMSE"
   ]
  },
  {
   "cell_type": "code",
   "execution_count": 4,
   "id": "d66b63d4",
   "metadata": {},
   "outputs": [],
   "source": [
    "PROJECT_PATH = '/raid/shumnov/music-style-performer/'"
   ]
  },
  {
   "cell_type": "code",
   "execution_count": 5,
   "id": "7670e00b",
   "metadata": {},
   "outputs": [],
   "source": [
    "architecture = [((256, 128), (0, 0), (128, 256), (0, 0)), \n",
    "                ((256, 128, 128), (0.2, 0.2, 0.2), (128, 128, 256), (0.2, 0.2, 0.2))]\n",
    "noise = [0.02, 0.1]\n",
    "latent_dim = [64, 32]\n",
    "absolute_velocities = [True, False]"
   ]
  },
  {
   "cell_type": "code",
   "execution_count": 6,
   "id": "b1e26041",
   "metadata": {},
   "outputs": [],
   "source": [
    "def test(av, ld, n, arch, name):\n",
    "    print(name)\n",
    "    dp = DataProcessor(\n",
    "        notes_qty=64, \n",
    "        include_first_tone=False, \n",
    "        absolute_velocities=av)\n",
    "    \n",
    "    dset = Dataset(dp, 64)\n",
    "    \n",
    "    print('Loading dataset...')\n",
    "    dset.load_dset(PROJECT_PATH + 'data/dset64.npy', 2000)\n",
    "    print('Dataset loaded')\n",
    "    \n",
    "    loss = WeightedMSE(\n",
    "        vel_mask=dp.vel_mask, \n",
    "        leg_mask=dp.leg_mask, \n",
    "        first_last_mask=dp.first_last_mask, \n",
    "        vel_weight=1, \n",
    "        leg_weight=3, \n",
    "        first_last_weight=1)\n",
    "    \n",
    "    autoencoder = MLPVarAutoencoder(\n",
    "        input_size=dp.input_size,\n",
    "        latent_dim=ld,\n",
    "        noise=n,\n",
    "        encoder_layers=arch[0],\n",
    "        encoder_dropout=arch[1],\n",
    "        decoder_layers=arch[2],\n",
    "        decoder_dropout=arch[3],\n",
    "        beta=0.5,\n",
    "        mse_loss=loss\n",
    "    )\n",
    "    \n",
    "    model = OCCModel(\n",
    "        autoencoder=autoencoder,\n",
    "        dataprocessor=dp,\n",
    "        dist_weight=1, \n",
    "        vel_weight=1, \n",
    "        leg_weight=3\n",
    "    )\n",
    "    model.compile(\n",
    "        modelsdir=PROJECT_PATH+'traindata/vae/64',\n",
    "        name=name, \n",
    "        optimizer=keras.optimizers.Adam(3e-4),\n",
    "        loss=loss,\n",
    "        ckpt_epochs=1,\n",
    "        compile_loss=False\n",
    "    )\n",
    "    model.summary()\n",
    "    \n",
    "    print('Start training...')\n",
    "    model.fit(dset, 20, 4)"
   ]
  },
  {
   "cell_type": "code",
   "execution_count": null,
   "id": "c7758594",
   "metadata": {},
   "outputs": [
    {
     "name": "stdout",
     "output_type": "stream",
     "text": [
      "0000\n",
      "Loading dataset...\n"
     ]
    },
    {
     "name": "stderr",
     "output_type": "stream",
     "text": [
      "/raid/shumnov/anaconda3/envs/tf/lib/python3.9/site-packages/scipy/stats/_continuous_distns.py:411: RuntimeWarning: Mean of empty slice.\n",
      "  loc = data.mean()\n",
      "/raid/shumnov/anaconda3/envs/tf/lib/python3.9/site-packages/numpy/core/_methods.py:189: RuntimeWarning: invalid value encountered in true_divide\n",
      "  ret = ret.dtype.type(ret / rcount)\n",
      "/raid/shumnov/anaconda3/envs/tf/lib/python3.9/site-packages/scipy/stats/_continuous_distns.py:416: RuntimeWarning: Mean of empty slice.\n",
      "  scale = np.sqrt(((data - loc)**2).mean())\n"
     ]
    }
   ],
   "source": [
    "for ld in range(len(latent_dim)):\n",
    "    for av in range(len(absolute_velocities)):\n",
    "        for n in range(len(noise)):\n",
    "            for a in range(len(architecture)):\n",
    "                test(absolute_velocities[av], latent_dim[ld], noise[n], architecture[a], f'{ld}{av}{n}{a}')"
   ]
  },
  {
   "cell_type": "code",
   "execution_count": null,
   "id": "9ea085a8",
   "metadata": {},
   "outputs": [],
   "source": []
  }
 ],
 "metadata": {
  "kernelspec": {
   "display_name": "Python 3 (ipykernel)",
   "language": "python",
   "name": "python3"
  },
  "language_info": {
   "codemirror_mode": {
    "name": "ipython",
    "version": 3
   },
   "file_extension": ".py",
   "mimetype": "text/x-python",
   "name": "python",
   "nbconvert_exporter": "python",
   "pygments_lexer": "ipython3",
   "version": "3.9.16"
  }
 },
 "nbformat": 4,
 "nbformat_minor": 5
}
