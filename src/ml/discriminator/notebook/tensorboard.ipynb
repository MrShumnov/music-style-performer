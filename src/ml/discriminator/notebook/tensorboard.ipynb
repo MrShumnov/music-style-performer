{
 "cells": [
  {
   "cell_type": "code",
   "execution_count": 5,
   "id": "29442ccc",
   "metadata": {},
   "outputs": [],
   "source": [
    "import os\n",
    "os.environ['XLA_FLAGS'] = '--xla_gpu_cuda_data_dir=/usr/lib/cuda'"
   ]
  },
  {
   "cell_type": "code",
   "execution_count": 2,
   "id": "9f3d3777",
   "metadata": {
    "scrolled": false
   },
   "outputs": [
    {
     "data": {
      "text/plain": [
       "Reusing TensorBoard on port 6015 (pid 12273), started 2 days, 10:19:36 ago. (Use '!kill 12273' to kill it.)"
      ]
     },
     "metadata": {},
     "output_type": "display_data"
    },
    {
     "data": {
      "text/html": [
       "\n",
       "      <iframe id=\"tensorboard-frame-87167b739ee421d7\" width=\"100%\" height=\"800\" frameborder=\"0\">\n",
       "      </iframe>\n",
       "      <script>\n",
       "        (function() {\n",
       "          const frame = document.getElementById(\"tensorboard-frame-87167b739ee421d7\");\n",
       "          const url = new URL(\"/\", window.location);\n",
       "          const port = 6015;\n",
       "          if (port) {\n",
       "            url.port = port;\n",
       "          }\n",
       "          frame.src = url;\n",
       "        })();\n",
       "      </script>\n",
       "    "
      ],
      "text/plain": [
       "<IPython.core.display.HTML object>"
      ]
     },
     "metadata": {},
     "output_type": "display_data"
    }
   ],
   "source": [
    "%reload_ext tensorboard\n",
    "%tensorboard --logdir {'/raid/shumnov/music-style-performer/traindata/ae/64'} --host \"0.0.0.0\" --port=6015"
   ]
  },
  {
   "cell_type": "code",
   "execution_count": 9,
   "id": "165f468b",
   "metadata": {},
   "outputs": [
    {
     "name": "stdout",
     "output_type": "stream",
     "text": [
      "32080 /raid/shumnov/anaconda3/envs/tf/bin/python /raid/shumnov/anaconda3/envs/tf/bin/tensorboard --logdir /raid/shumnov/music-style-performer/traindata/ae --host 0.0.0.0 --port=6015\r\n",
      "33054 /raid/veliseev/anaconda3/envs/mmtrack_new/bin/python3.8 /raid/veliseev/anaconda3/envs/mmtrack_new/bin/tensorboard --logdir work_dirs/ --host 195.19.43.12\r\n"
     ]
    }
   ],
   "source": [
    "!pgrep tensorboard -a"
   ]
  },
  {
   "cell_type": "code",
   "execution_count": 10,
   "id": "d69f7797",
   "metadata": {},
   "outputs": [],
   "source": [
    "!kill 32080          "
   ]
  },
  {
   "cell_type": "code",
   "execution_count": null,
   "id": "227a3ca4",
   "metadata": {},
   "outputs": [],
   "source": []
  }
 ],
 "metadata": {
  "kernelspec": {
   "display_name": "Python 3 (ipykernel)",
   "language": "python",
   "name": "python3"
  },
  "language_info": {
   "codemirror_mode": {
    "name": "ipython",
    "version": 3
   },
   "file_extension": ".py",
   "mimetype": "text/x-python",
   "name": "python",
   "nbconvert_exporter": "python",
   "pygments_lexer": "ipython3",
   "version": "3.9.16"
  }
 },
 "nbformat": 4,
 "nbformat_minor": 5
}
