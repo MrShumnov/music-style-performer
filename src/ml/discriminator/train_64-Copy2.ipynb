{
 "cells": [
  {
   "cell_type": "code",
   "execution_count": 1,
   "id": "b3d15641",
   "metadata": {},
   "outputs": [],
   "source": [
    "import os\n",
    "import numpy as np\n",
    "from matplotlib import pyplot as plt\n",
    "\n",
    "os.environ['XLA_FLAGS'] = '--xla_gpu_cuda_data_dir=/usr/lib/cuda'\n",
    "os.environ[\"CUDA_VISIBLE_DEVICES\"]=\"6\""
   ]
  },
  {
   "cell_type": "code",
   "execution_count": 2,
   "id": "16e8521e",
   "metadata": {},
   "outputs": [
    {
     "name": "stderr",
     "output_type": "stream",
     "text": [
      "2023-05-28 20:52:37.273184: I tensorflow/core/platform/cpu_feature_guard.cc:182] This TensorFlow binary is optimized to use available CPU instructions in performance-critical operations.\n",
      "To enable the following instructions: AVX2 AVX512F FMA, in other operations, rebuild TensorFlow with the appropriate compiler flags.\n",
      "2023-05-28 20:52:38.179434: W tensorflow/compiler/tf2tensorrt/utils/py_utils.cc:38] TF-TRT Warning: Could not find TensorRT\n"
     ]
    },
    {
     "name": "stdout",
     "output_type": "stream",
     "text": [
      "GPU available: 1\n"
     ]
    },
    {
     "name": "stderr",
     "output_type": "stream",
     "text": [
      "2023-05-28 20:52:39.273359: I tensorflow/compiler/xla/stream_executor/cuda/cuda_gpu_executor.cc:996] successful NUMA node read from SysFS had negative value (-1), but there must be at least one NUMA node, so returning NUMA node zero. See more at https://github.com/torvalds/linux/blob/v6.0/Documentation/ABI/testing/sysfs-bus-pci#L344-L355\n",
      "2023-05-28 20:52:39.313982: I tensorflow/compiler/xla/stream_executor/cuda/cuda_gpu_executor.cc:996] successful NUMA node read from SysFS had negative value (-1), but there must be at least one NUMA node, so returning NUMA node zero. See more at https://github.com/torvalds/linux/blob/v6.0/Documentation/ABI/testing/sysfs-bus-pci#L344-L355\n",
      "2023-05-28 20:52:39.315827: I tensorflow/compiler/xla/stream_executor/cuda/cuda_gpu_executor.cc:996] successful NUMA node read from SysFS had negative value (-1), but there must be at least one NUMA node, so returning NUMA node zero. See more at https://github.com/torvalds/linux/blob/v6.0/Documentation/ABI/testing/sysfs-bus-pci#L344-L355\n"
     ]
    }
   ],
   "source": [
    "import tensorflow as tf\n",
    "from tensorflow import keras\n",
    "\n",
    "print(\"GPU available:\", len(tf.config.list_physical_devices('GPU')))"
   ]
  },
  {
   "cell_type": "code",
   "execution_count": 3,
   "id": "238eb1c3",
   "metadata": {},
   "outputs": [],
   "source": [
    "from data_preprocessing import DataProcessor, Dataset\n",
    "from model import OCCModel\n",
    "from autoencoder import MLPAutoencoder\n",
    "from var_autoencoder import MLPVarAutoencoder\n",
    "from loss import WeightedMSE"
   ]
  },
  {
   "cell_type": "code",
   "execution_count": 4,
   "id": "d66b63d4",
   "metadata": {},
   "outputs": [],
   "source": [
    "PROJECT_PATH = '/raid/shumnov/music-style-performer/'"
   ]
  },
  {
   "cell_type": "code",
   "execution_count": 5,
   "id": "7670e00b",
   "metadata": {},
   "outputs": [],
   "source": [
    "architecture = [((256, 128), (0, 0), (128, 256), (0, 0)), \n",
    "                ((256, 128, 128), (0.1, 0.1, 0.1), (128, 128, 256), (0.1, 0.1, 0.1)), \n",
    "                ((256, 256, 128), (0.4, 0.2, 0.1), (128, 256, 256), (0.1, 0.1, 0.1)),\n",
    "                ((128, 64, 64), (0, 0, 0), (64, 64, 128), (0, 0, 0))]\n",
    "noise = [0.02, 0.08, 0.2, 0.4]\n",
    "latent_dim = [64, 32]\n",
    "absolute_velocities = [True, False]"
   ]
  },
  {
   "cell_type": "code",
   "execution_count": 6,
   "id": "b1e26041",
   "metadata": {},
   "outputs": [],
   "source": [
    "def test(av, ld, n, arch, name, legw=1, checkpoint_id=None, epochs=10):\n",
    "    print(name)\n",
    "    \n",
    "    dp = DataProcessor(\n",
    "        notes_qty=64, \n",
    "        include_first_tone=False, \n",
    "        absolute_velocities=av)\n",
    "    \n",
    "    dset = Dataset(dp, 64)\n",
    "    \n",
    "    print('Loading dataset...')\n",
    "    dset.load_dset(PROJECT_PATH + 'data/dset64.npy', 2000)\n",
    "    print('Dataset loaded')\n",
    "    \n",
    "    autoencoder = MLPAutoencoder(\n",
    "        input_size=dp.input_size,\n",
    "        latent_dim=ld,\n",
    "        noise=n,\n",
    "        encoder_layers=arch[0],\n",
    "        encoder_dropout=arch[1],\n",
    "        decoder_layers=arch[2],\n",
    "        decoder_dropout=arch[3])\n",
    "    \n",
    "    loss = WeightedMSE(\n",
    "        vel_mask=dp.vel_mask, \n",
    "        leg_mask=dp.leg_mask, \n",
    "        first_last_mask=dp.first_last_mask, \n",
    "        vel_weight=1, \n",
    "        leg_weight=legw,\n",
    "        first_last_weight=1)\n",
    "    \n",
    "    model = OCCModel(\n",
    "        autoencoder=autoencoder,\n",
    "        dataprocessor=dp,\n",
    "        dist_weight=1, \n",
    "        vel_weight=1, \n",
    "        leg_weight=legw\n",
    "    )\n",
    "    model.compile(\n",
    "        modelsdir=PROJECT_PATH+'traindata/ae/64',\n",
    "        name=name, \n",
    "        optimizer=keras.optimizers.Adam(3e-5),\n",
    "        loss=loss,\n",
    "        ckpt_epochs=1\n",
    "    )\n",
    "    model.summary()\n",
    "    \n",
    "    if checkpoint_id is not None:\n",
    "        model.restore(checkpoint_id)\n",
    "    \n",
    "    print('Start training...')\n",
    "    model.fit(dset, epochs, 3)"
   ]
  },
  {
   "cell_type": "code",
   "execution_count": null,
   "id": "c7758594",
   "metadata": {
    "scrolled": true
   },
   "outputs": [],
   "source": [
    "for ld in range(len(latent_dim)):\n",
    "    for av in range(len(absolute_velocities)):\n",
    "        for n in range(len(noise)):\n",
    "            for a in range(len(architecture)):\n",
    "                test(absolute_velocities[av], latent_dim[ld], noise[n], architecture[a], f'{ld}{av}{n}{a}')"
   ]
  },
  {
   "cell_type": "code",
   "execution_count": null,
   "id": "19b6e658",
   "metadata": {},
   "outputs": [],
   "source": []
  },
  {
   "cell_type": "code",
   "execution_count": null,
   "id": "9c2e12e3",
   "metadata": {},
   "outputs": [
    {
     "name": "stdout",
     "output_type": "stream",
     "text": [
      "0023\n",
      "Loading dataset...\n"
     ]
    },
    {
     "name": "stderr",
     "output_type": "stream",
     "text": [
      "/raid/shumnov/anaconda3/envs/tf/lib/python3.9/site-packages/scipy/stats/_continuous_distns.py:411: RuntimeWarning: Mean of empty slice.\n",
      "  loc = data.mean()\n",
      "/raid/shumnov/anaconda3/envs/tf/lib/python3.9/site-packages/numpy/core/_methods.py:189: RuntimeWarning: invalid value encountered in true_divide\n",
      "  ret = ret.dtype.type(ret / rcount)\n",
      "/raid/shumnov/anaconda3/envs/tf/lib/python3.9/site-packages/scipy/stats/_continuous_distns.py:416: RuntimeWarning: Mean of empty slice.\n",
      "  scale = np.sqrt(((data - loc)**2).mean())\n"
     ]
    },
    {
     "name": "stdout",
     "output_type": "stream",
     "text": [
      "Dataset loaded\n"
     ]
    },
    {
     "name": "stderr",
     "output_type": "stream",
     "text": [
      "2023-05-28 20:53:20.434395: I tensorflow/compiler/xla/stream_executor/cuda/cuda_gpu_executor.cc:996] successful NUMA node read from SysFS had negative value (-1), but there must be at least one NUMA node, so returning NUMA node zero. See more at https://github.com/torvalds/linux/blob/v6.0/Documentation/ABI/testing/sysfs-bus-pci#L344-L355\n",
      "2023-05-28 20:53:20.436280: I tensorflow/compiler/xla/stream_executor/cuda/cuda_gpu_executor.cc:996] successful NUMA node read from SysFS had negative value (-1), but there must be at least one NUMA node, so returning NUMA node zero. See more at https://github.com/torvalds/linux/blob/v6.0/Documentation/ABI/testing/sysfs-bus-pci#L344-L355\n",
      "2023-05-28 20:53:20.437938: I tensorflow/compiler/xla/stream_executor/cuda/cuda_gpu_executor.cc:996] successful NUMA node read from SysFS had negative value (-1), but there must be at least one NUMA node, so returning NUMA node zero. See more at https://github.com/torvalds/linux/blob/v6.0/Documentation/ABI/testing/sysfs-bus-pci#L344-L355\n",
      "2023-05-28 20:53:21.348780: I tensorflow/compiler/xla/stream_executor/cuda/cuda_gpu_executor.cc:996] successful NUMA node read from SysFS had negative value (-1), but there must be at least one NUMA node, so returning NUMA node zero. See more at https://github.com/torvalds/linux/blob/v6.0/Documentation/ABI/testing/sysfs-bus-pci#L344-L355\n",
      "2023-05-28 20:53:21.350554: I tensorflow/compiler/xla/stream_executor/cuda/cuda_gpu_executor.cc:996] successful NUMA node read from SysFS had negative value (-1), but there must be at least one NUMA node, so returning NUMA node zero. See more at https://github.com/torvalds/linux/blob/v6.0/Documentation/ABI/testing/sysfs-bus-pci#L344-L355\n",
      "2023-05-28 20:53:21.352237: I tensorflow/compiler/xla/stream_executor/cuda/cuda_gpu_executor.cc:996] successful NUMA node read from SysFS had negative value (-1), but there must be at least one NUMA node, so returning NUMA node zero. See more at https://github.com/torvalds/linux/blob/v6.0/Documentation/ABI/testing/sysfs-bus-pci#L344-L355\n",
      "2023-05-28 20:53:21.353877: I tensorflow/core/common_runtime/gpu/gpu_device.cc:1635] Created device /job:localhost/replica:0/task:0/device:GPU:0 with 30411 MB memory:  -> device: 0, name: Tesla V100-SXM3-32GB, pci bus id: 0000:0b:00.0, compute capability: 7.0\n"
     ]
    },
    {
     "name": "stdout",
     "output_type": "stream",
     "text": [
      "Start training...\n",
      "Epoch 1/40\n"
     ]
    },
    {
     "name": "stderr",
     "output_type": "stream",
     "text": [
      "2023-05-28 20:53:44.694846: I tensorflow/compiler/xla/service/service.cc:169] XLA service 0x21be3800 initialized for platform CUDA (this does not guarantee that XLA will be used). Devices:\n",
      "2023-05-28 20:53:44.694893: I tensorflow/compiler/xla/service/service.cc:177]   StreamExecutor device (0): Tesla V100-SXM3-32GB, Compute Capability 7.0\n",
      "2023-05-28 20:53:44.700687: I tensorflow/compiler/mlir/tensorflow/utils/dump_mlir_util.cc:269] disabling MLIR crash reproducer, set env var `MLIR_CRASH_REPRODUCER_DIRECTORY` to enable.\n",
      "2023-05-28 20:53:44.933380: I tensorflow/compiler/xla/stream_executor/cuda/cuda_dnn.cc:424] Loaded cuDNN version 8600\n",
      "2023-05-28 20:53:45.021054: E tensorflow/compiler/xla/stream_executor/gpu/asm_compiler.cc:114] *** WARNING *** You are using ptxas 9.1.108, which is older than 11.1. ptxas before 11.1 is known to miscompile XLA code, leading to incorrect results or invalid-address errors.\n",
      "\n",
      "2023-05-28 20:53:45.071170: I ./tensorflow/compiler/jit/device_compiler.h:180] Compiled cluster using XLA!  This line is logged at most once for the lifetime of the process.\n",
      "2023-05-28 20:53:45.160032: E tensorflow/compiler/xla/stream_executor/gpu/asm_compiler.cc:114] *** WARNING *** You are using ptxas 9.1.108, which is older than 11.1. ptxas before 11.1 is known to miscompile XLA code, leading to incorrect results or invalid-address errors.\n",
      "\n",
      "2023-05-28 20:53:45.297666: E tensorflow/compiler/xla/stream_executor/gpu/asm_compiler.cc:114] *** WARNING *** You are using ptxas 9.1.108, which is older than 11.1. ptxas before 11.1 is known to miscompile XLA code, leading to incorrect results or invalid-address errors.\n",
      "\n",
      "2023-05-28 20:53:45.434407: E tensorflow/compiler/xla/stream_executor/gpu/asm_compiler.cc:114] *** WARNING *** You are using ptxas 9.1.108, which is older than 11.1. ptxas before 11.1 is known to miscompile XLA code, leading to incorrect results or invalid-address errors.\n",
      "\n",
      "2023-05-28 20:53:45.678918: E tensorflow/compiler/xla/stream_executor/gpu/asm_compiler.cc:114] *** WARNING *** You are using ptxas 9.1.108, which is older than 11.1. ptxas before 11.1 is known to miscompile XLA code, leading to incorrect results or invalid-address errors.\n",
      "\n"
     ]
    },
    {
     "name": "stdout",
     "output_type": "stream",
     "text": [
      "82301/82301 - 277s - loss: 0.2516 - val_loss: 0.1991 - occ_accuracy: 0.2737 - 277s/epoch - 3ms/step\n",
      "Epoch 2/40\n"
     ]
    }
   ],
   "source": [
    "test(absolute_velocities[0], latent_dim[0], noise[3], architecture[0], f'0030', legw=1, epochs=40)"
   ]
  },
  {
   "cell_type": "code",
   "execution_count": null,
   "id": "5b84510a",
   "metadata": {},
   "outputs": [],
   "source": []
  }
 ],
 "metadata": {
  "kernelspec": {
   "display_name": "Python 3 (ipykernel)",
   "language": "python",
   "name": "python3"
  },
  "language_info": {
   "codemirror_mode": {
    "name": "ipython",
    "version": 3
   },
   "file_extension": ".py",
   "mimetype": "text/x-python",
   "name": "python",
   "nbconvert_exporter": "python",
   "pygments_lexer": "ipython3",
   "version": "3.9.16"
  }
 },
 "nbformat": 4,
 "nbformat_minor": 5
}
