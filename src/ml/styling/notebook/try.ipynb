{
 "cells": [
  {
   "cell_type": "code",
   "execution_count": 33,
   "id": "525e6097",
   "metadata": {},
   "outputs": [],
   "source": [
    "import mido\n",
    "from matplotlib import pyplot as plt\n",
    "import numpy as np\n",
    "import os\n",
    "from math import sqrt\n",
    "\n",
    "np.set_printoptions(suppress=True)"
   ]
  },
  {
   "cell_type": "markdown",
   "id": "75b8ae17",
   "metadata": {},
   "source": [
    "# Discriminator"
   ]
  },
  {
   "cell_type": "code",
   "execution_count": 2,
   "id": "e7fec0ac",
   "metadata": {},
   "outputs": [
    {
     "name": "stderr",
     "output_type": "stream",
     "text": [
      "2023-05-04 18:15:38.274936: I tensorflow/stream_executor/platform/default/dso_loader.cc:49] Successfully opened dynamic library libcudart.so.10.1\n"
     ]
    },
    {
     "name": "stdout",
     "output_type": "stream",
     "text": [
      "2.4.1\n",
      "GPU available: 8\n"
     ]
    },
    {
     "name": "stderr",
     "output_type": "stream",
     "text": [
      "2023-05-04 18:15:39.445752: I tensorflow/stream_executor/platform/default/dso_loader.cc:49] Successfully opened dynamic library libcuda.so.1\n",
      "2023-05-04 18:15:39.574229: I tensorflow/stream_executor/cuda/cuda_gpu_executor.cc:941] successful NUMA node read from SysFS had negative value (-1), but there must be at least one NUMA node, so returning NUMA node zero\n",
      "2023-05-04 18:15:39.576013: I tensorflow/core/common_runtime/gpu/gpu_device.cc:1720] Found device 0 with properties: \n",
      "pciBusID: 0000:05:00.0 name: Tesla V100-SXM3-32GB computeCapability: 7.0\n",
      "coreClock: 1.597GHz coreCount: 80 deviceMemorySize: 31.75GiB deviceMemoryBandwidth: 913.62GiB/s\n",
      "2023-05-04 18:15:39.576136: I tensorflow/stream_executor/cuda/cuda_gpu_executor.cc:941] successful NUMA node read from SysFS had negative value (-1), but there must be at least one NUMA node, so returning NUMA node zero\n",
      "2023-05-04 18:15:39.577832: I tensorflow/core/common_runtime/gpu/gpu_device.cc:1720] Found device 1 with properties: \n",
      "pciBusID: 0000:06:00.0 name: Tesla V100-SXM3-32GB computeCapability: 7.0\n",
      "coreClock: 1.597GHz coreCount: 80 deviceMemorySize: 31.75GiB deviceMemoryBandwidth: 913.62GiB/s\n",
      "2023-05-04 18:15:39.577923: I tensorflow/stream_executor/cuda/cuda_gpu_executor.cc:941] successful NUMA node read from SysFS had negative value (-1), but there must be at least one NUMA node, so returning NUMA node zero\n",
      "2023-05-04 18:15:39.579154: I tensorflow/core/common_runtime/gpu/gpu_device.cc:1720] Found device 2 with properties: \n",
      "pciBusID: 0000:07:00.0 name: Tesla V100-SXM3-32GB computeCapability: 7.0\n",
      "coreClock: 1.597GHz coreCount: 80 deviceMemorySize: 31.75GiB deviceMemoryBandwidth: 913.62GiB/s\n",
      "2023-05-04 18:15:39.579222: I tensorflow/stream_executor/cuda/cuda_gpu_executor.cc:941] successful NUMA node read from SysFS had negative value (-1), but there must be at least one NUMA node, so returning NUMA node zero\n",
      "2023-05-04 18:15:39.580438: I tensorflow/core/common_runtime/gpu/gpu_device.cc:1720] Found device 3 with properties: \n",
      "pciBusID: 0000:08:00.0 name: Tesla V100-SXM3-32GB computeCapability: 7.0\n",
      "coreClock: 1.597GHz coreCount: 80 deviceMemorySize: 31.75GiB deviceMemoryBandwidth: 913.62GiB/s\n",
      "2023-05-04 18:15:39.580500: I tensorflow/stream_executor/cuda/cuda_gpu_executor.cc:941] successful NUMA node read from SysFS had negative value (-1), but there must be at least one NUMA node, so returning NUMA node zero\n",
      "2023-05-04 18:15:39.581802: I tensorflow/core/common_runtime/gpu/gpu_device.cc:1720] Found device 4 with properties: \n",
      "pciBusID: 0000:09:00.0 name: Tesla V100-SXM3-32GB computeCapability: 7.0\n",
      "coreClock: 1.597GHz coreCount: 80 deviceMemorySize: 31.75GiB deviceMemoryBandwidth: 913.62GiB/s\n",
      "2023-05-04 18:15:39.581938: I tensorflow/stream_executor/cuda/cuda_gpu_executor.cc:941] successful NUMA node read from SysFS had negative value (-1), but there must be at least one NUMA node, so returning NUMA node zero\n",
      "2023-05-04 18:15:39.583472: I tensorflow/core/common_runtime/gpu/gpu_device.cc:1720] Found device 5 with properties: \n",
      "pciBusID: 0000:0a:00.0 name: Tesla V100-SXM3-32GB computeCapability: 7.0\n",
      "coreClock: 1.597GHz coreCount: 80 deviceMemorySize: 31.75GiB deviceMemoryBandwidth: 913.62GiB/s\n",
      "2023-05-04 18:15:39.583533: I tensorflow/stream_executor/cuda/cuda_gpu_executor.cc:941] successful NUMA node read from SysFS had negative value (-1), but there must be at least one NUMA node, so returning NUMA node zero\n",
      "2023-05-04 18:15:39.586408: I tensorflow/core/common_runtime/gpu/gpu_device.cc:1720] Found device 6 with properties: \n",
      "pciBusID: 0000:0b:00.0 name: Tesla V100-SXM3-32GB computeCapability: 7.0\n",
      "coreClock: 1.597GHz coreCount: 80 deviceMemorySize: 31.75GiB deviceMemoryBandwidth: 913.62GiB/s\n",
      "2023-05-04 18:15:39.586547: I tensorflow/stream_executor/cuda/cuda_gpu_executor.cc:941] successful NUMA node read from SysFS had negative value (-1), but there must be at least one NUMA node, so returning NUMA node zero\n",
      "2023-05-04 18:15:39.588052: I tensorflow/core/common_runtime/gpu/gpu_device.cc:1720] Found device 7 with properties: \n",
      "pciBusID: 0000:0c:00.0 name: Tesla V100-SXM3-32GB computeCapability: 7.0\n",
      "coreClock: 1.597GHz coreCount: 80 deviceMemorySize: 31.75GiB deviceMemoryBandwidth: 913.62GiB/s\n",
      "2023-05-04 18:15:39.588106: I tensorflow/stream_executor/platform/default/dso_loader.cc:49] Successfully opened dynamic library libcudart.so.10.1\n",
      "2023-05-04 18:15:39.592132: I tensorflow/stream_executor/platform/default/dso_loader.cc:49] Successfully opened dynamic library libcublas.so.10\n",
      "2023-05-04 18:15:39.592217: I tensorflow/stream_executor/platform/default/dso_loader.cc:49] Successfully opened dynamic library libcublasLt.so.10\n",
      "2023-05-04 18:15:39.595249: I tensorflow/stream_executor/platform/default/dso_loader.cc:49] Successfully opened dynamic library libcufft.so.10\n",
      "2023-05-04 18:15:39.596053: I tensorflow/stream_executor/platform/default/dso_loader.cc:49] Successfully opened dynamic library libcurand.so.10\n",
      "2023-05-04 18:15:39.599854: I tensorflow/stream_executor/platform/default/dso_loader.cc:49] Successfully opened dynamic library libcusolver.so.10\n",
      "2023-05-04 18:15:39.602265: I tensorflow/stream_executor/platform/default/dso_loader.cc:49] Successfully opened dynamic library libcusparse.so.10\n",
      "2023-05-04 18:15:39.613152: I tensorflow/stream_executor/platform/default/dso_loader.cc:49] Successfully opened dynamic library libcudnn.so.7\n",
      "2023-05-04 18:15:39.613341: I tensorflow/stream_executor/cuda/cuda_gpu_executor.cc:941] successful NUMA node read from SysFS had negative value (-1), but there must be at least one NUMA node, so returning NUMA node zero\n",
      "2023-05-04 18:15:39.615116: I tensorflow/stream_executor/cuda/cuda_gpu_executor.cc:941] successful NUMA node read from SysFS had negative value (-1), but there must be at least one NUMA node, so returning NUMA node zero\n",
      "2023-05-04 18:15:39.616857: I tensorflow/stream_executor/cuda/cuda_gpu_executor.cc:941] successful NUMA node read from SysFS had negative value (-1), but there must be at least one NUMA node, so returning NUMA node zero\n",
      "2023-05-04 18:15:39.618072: I tensorflow/stream_executor/cuda/cuda_gpu_executor.cc:941] successful NUMA node read from SysFS had negative value (-1), but there must be at least one NUMA node, so returning NUMA node zero\n",
      "2023-05-04 18:15:39.619295: I tensorflow/stream_executor/cuda/cuda_gpu_executor.cc:941] successful NUMA node read from SysFS had negative value (-1), but there must be at least one NUMA node, so returning NUMA node zero\n",
      "2023-05-04 18:15:39.620555: I tensorflow/stream_executor/cuda/cuda_gpu_executor.cc:941] successful NUMA node read from SysFS had negative value (-1), but there must be at least one NUMA node, so returning NUMA node zero\n",
      "2023-05-04 18:15:39.622221: I tensorflow/stream_executor/cuda/cuda_gpu_executor.cc:941] successful NUMA node read from SysFS had negative value (-1), but there must be at least one NUMA node, so returning NUMA node zero\n",
      "2023-05-04 18:15:39.623450: I tensorflow/stream_executor/cuda/cuda_gpu_executor.cc:941] successful NUMA node read from SysFS had negative value (-1), but there must be at least one NUMA node, so returning NUMA node zero\n",
      "2023-05-04 18:15:39.627236: I tensorflow/stream_executor/cuda/cuda_gpu_executor.cc:941] successful NUMA node read from SysFS had negative value (-1), but there must be at least one NUMA node, so returning NUMA node zero\n",
      "2023-05-04 18:15:39.629221: I tensorflow/stream_executor/cuda/cuda_gpu_executor.cc:941] successful NUMA node read from SysFS had negative value (-1), but there must be at least one NUMA node, so returning NUMA node zero\n",
      "2023-05-04 18:15:39.630901: I tensorflow/stream_executor/cuda/cuda_gpu_executor.cc:941] successful NUMA node read from SysFS had negative value (-1), but there must be at least one NUMA node, so returning NUMA node zero\n",
      "2023-05-04 18:15:39.632162: I tensorflow/stream_executor/cuda/cuda_gpu_executor.cc:941] successful NUMA node read from SysFS had negative value (-1), but there must be at least one NUMA node, so returning NUMA node zero\n",
      "2023-05-04 18:15:39.633431: I tensorflow/stream_executor/cuda/cuda_gpu_executor.cc:941] successful NUMA node read from SysFS had negative value (-1), but there must be at least one NUMA node, so returning NUMA node zero\n",
      "2023-05-04 18:15:39.634659: I tensorflow/stream_executor/cuda/cuda_gpu_executor.cc:941] successful NUMA node read from SysFS had negative value (-1), but there must be at least one NUMA node, so returning NUMA node zero\n",
      "2023-05-04 18:15:39.636217: I tensorflow/stream_executor/cuda/cuda_gpu_executor.cc:941] successful NUMA node read from SysFS had negative value (-1), but there must be at least one NUMA node, so returning NUMA node zero\n",
      "2023-05-04 18:15:39.637465: I tensorflow/stream_executor/cuda/cuda_gpu_executor.cc:941] successful NUMA node read from SysFS had negative value (-1), but there must be at least one NUMA node, so returning NUMA node zero\n",
      "2023-05-04 18:15:39.638877: I tensorflow/core/common_runtime/gpu/gpu_device.cc:1862] Adding visible gpu devices: 0, 1, 2, 3, 4, 5, 6, 7\n"
     ]
    }
   ],
   "source": [
    "import tensorflow as tf\n",
    "from tensorflow import keras\n",
    "\n",
    "os.environ['TF_XLA_FLAGS'] = '--tf_xla_enable_xla_devices'\n",
    "\n",
    "print(tf.__version__)\n",
    "print(\"GPU available:\", len(tf.config.list_physical_devices('GPU')))\n",
    "\n",
    "gpus = tf.config.experimental.list_physical_devices('GPU')\n",
    "tf.config.experimental.set_visible_devices(gpus[5], 'GPU')\n",
    "\n",
    "# tf.compat.v1.disable_eager_execution()\n",
    "tf.config.run_functions_eagerly(True)"
   ]
  },
  {
   "cell_type": "code",
   "execution_count": 3,
   "id": "a8cf7e14",
   "metadata": {},
   "outputs": [],
   "source": [
    "NOTES_QTY = 16\n",
    "NOTE_PARAMS = 3\n",
    "LATENT_DIM = 24"
   ]
  },
  {
   "cell_type": "code",
   "execution_count": 4,
   "id": "9ba17634",
   "metadata": {},
   "outputs": [],
   "source": [
    "class MultiLayerAutoencoder(keras.Model):\n",
    "    def __init__(self):\n",
    "        super(MultiLayerAutoencoder, self).__init__()\n",
    "        \n",
    "        self.build_encoder()\n",
    "        self.build_decoder()\n",
    "        \n",
    "    def build_encoder(self):        \n",
    "        self.encoder = keras.Sequential([\n",
    "            keras.layers.Flatten(),\n",
    "            \n",
    "            keras.layers.Dense(64, activation='relu'), # 48x64 64x64 64x32 32x32\n",
    "            # keras.layers.Dropout(0.5),\n",
    "            keras.layers.Dense(64, activation='relu'), \n",
    "            # keras.layers.Dropout(0.5),\n",
    "            keras.layers.Dense(32, activation='relu'),\n",
    "            # keras.layers.Dropout(0.5),\n",
    "            keras.layers.Dense(LATENT_DIM, activation='tanh'),\n",
    "        ])\n",
    "        \n",
    "    def build_decoder(self):\n",
    "        self.decoder = keras.Sequential([\n",
    "            keras.layers.Input(shape=(LATENT_DIM)), # 32x32 32x64 64x64 64x48\n",
    "            \n",
    "            keras.layers.Dense(32, activation='relu'),\n",
    "            # keras.layers.Dropout(0.5),\n",
    "            keras.layers.Dense(64, activation='relu'),\n",
    "            # keras.layers.Dropout(0.5),\n",
    "            keras.layers.Dense(64, activation='relu'),\n",
    "            # keras.layers.Dropout(0.5),\n",
    "            keras.layers.Dense(NOTES_QTY * NOTE_PARAMS, activation='linear'),\n",
    "            \n",
    "            keras.layers.Reshape((NOTES_QTY, NOTE_PARAMS))\n",
    "        ])\n",
    "\n",
    "    def call(self, x, training=True):\n",
    "        encoded = self.encoder(x, training=training)\n",
    "        decoded = self.decoder(encoded, training=training)\n",
    "        return decoded"
   ]
  },
  {
   "cell_type": "code",
   "execution_count": 5,
   "id": "4b0b5bf0",
   "metadata": {},
   "outputs": [
    {
     "name": "stderr",
     "output_type": "stream",
     "text": [
      "2023-05-04 18:16:01.823163: I tensorflow/core/platform/cpu_feature_guard.cc:142] This TensorFlow binary is optimized with oneAPI Deep Neural Network Library (oneDNN) to use the following CPU instructions in performance-critical operations:  SSE4.1 SSE4.2 AVX AVX2 AVX512F FMA\n",
      "To enable them in other operations, rebuild TensorFlow with the appropriate compiler flags.\n",
      "2023-05-04 18:16:01.834982: I tensorflow/core/platform/profile_utils/cpu_utils.cc:112] CPU Frequency: 2693670000 Hz\n",
      "2023-05-04 18:16:01.839249: I tensorflow/compiler/xla/service/service.cc:168] XLA service 0x2399700 initialized for platform Host (this does not guarantee that XLA will be used). Devices:\n",
      "2023-05-04 18:16:01.839287: I tensorflow/compiler/xla/service/service.cc:176]   StreamExecutor device (0): Host, Default Version\n",
      "2023-05-04 18:16:02.019458: I tensorflow/stream_executor/cuda/cuda_gpu_executor.cc:941] successful NUMA node read from SysFS had negative value (-1), but there must be at least one NUMA node, so returning NUMA node zero\n",
      "2023-05-04 18:16:02.021484: I tensorflow/compiler/xla/service/service.cc:168] XLA service 0x1f2a660 initialized for platform CUDA (this does not guarantee that XLA will be used). Devices:\n",
      "2023-05-04 18:16:02.021521: I tensorflow/compiler/xla/service/service.cc:176]   StreamExecutor device (0): Tesla V100-SXM3-32GB, Compute Capability 7.0\n",
      "2023-05-04 18:16:02.022368: I tensorflow/stream_executor/cuda/cuda_gpu_executor.cc:941] successful NUMA node read from SysFS had negative value (-1), but there must be at least one NUMA node, so returning NUMA node zero\n",
      "2023-05-04 18:16:02.023899: I tensorflow/core/common_runtime/gpu/gpu_device.cc:1720] Found device 0 with properties: \n",
      "pciBusID: 0000:0a:00.0 name: Tesla V100-SXM3-32GB computeCapability: 7.0\n",
      "coreClock: 1.597GHz coreCount: 80 deviceMemorySize: 31.75GiB deviceMemoryBandwidth: 913.62GiB/s\n",
      "2023-05-04 18:16:02.023949: I tensorflow/stream_executor/platform/default/dso_loader.cc:49] Successfully opened dynamic library libcudart.so.10.1\n",
      "2023-05-04 18:16:02.023977: I tensorflow/stream_executor/platform/default/dso_loader.cc:49] Successfully opened dynamic library libcublas.so.10\n",
      "2023-05-04 18:16:02.023987: I tensorflow/stream_executor/platform/default/dso_loader.cc:49] Successfully opened dynamic library libcublasLt.so.10\n",
      "2023-05-04 18:16:02.023996: I tensorflow/stream_executor/platform/default/dso_loader.cc:49] Successfully opened dynamic library libcufft.so.10\n",
      "2023-05-04 18:16:02.024007: I tensorflow/stream_executor/platform/default/dso_loader.cc:49] Successfully opened dynamic library libcurand.so.10\n",
      "2023-05-04 18:16:02.024025: I tensorflow/stream_executor/platform/default/dso_loader.cc:49] Successfully opened dynamic library libcusolver.so.10\n",
      "2023-05-04 18:16:02.024035: I tensorflow/stream_executor/platform/default/dso_loader.cc:49] Successfully opened dynamic library libcusparse.so.10\n",
      "2023-05-04 18:16:02.024052: I tensorflow/stream_executor/platform/default/dso_loader.cc:49] Successfully opened dynamic library libcudnn.so.7\n",
      "2023-05-04 18:16:02.024120: I tensorflow/stream_executor/cuda/cuda_gpu_executor.cc:941] successful NUMA node read from SysFS had negative value (-1), but there must be at least one NUMA node, so returning NUMA node zero\n",
      "2023-05-04 18:16:02.025747: I tensorflow/stream_executor/cuda/cuda_gpu_executor.cc:941] successful NUMA node read from SysFS had negative value (-1), but there must be at least one NUMA node, so returning NUMA node zero\n",
      "2023-05-04 18:16:02.027262: I tensorflow/core/common_runtime/gpu/gpu_device.cc:1862] Adding visible gpu devices: 5\n",
      "2023-05-04 18:16:02.027357: I tensorflow/stream_executor/platform/default/dso_loader.cc:49] Successfully opened dynamic library libcudart.so.10.1\n",
      "2023-05-04 18:16:02.617386: I tensorflow/core/common_runtime/gpu/gpu_device.cc:1261] Device interconnect StreamExecutor with strength 1 edge matrix:\n",
      "2023-05-04 18:16:02.617440: I tensorflow/core/common_runtime/gpu/gpu_device.cc:1267]      5 \n",
      "2023-05-04 18:16:02.617447: I tensorflow/core/common_runtime/gpu/gpu_device.cc:1280] 5:   N \n",
      "2023-05-04 18:16:02.617817: I tensorflow/stream_executor/cuda/cuda_gpu_executor.cc:941] successful NUMA node read from SysFS had negative value (-1), but there must be at least one NUMA node, so returning NUMA node zero\n",
      "2023-05-04 18:16:02.619477: I tensorflow/stream_executor/cuda/cuda_gpu_executor.cc:941] successful NUMA node read from SysFS had negative value (-1), but there must be at least one NUMA node, so returning NUMA node zero\n",
      "2023-05-04 18:16:02.621083: I tensorflow/core/common_runtime/gpu/gpu_device.cc:1406] Created TensorFlow device (/job:localhost/replica:0/task:0/device:GPU:0 with 23070 MB memory) -> physical GPU (device: 5, name: Tesla V100-SXM3-32GB, pci bus id: 0000:0a:00.0, compute capability: 7.0)\n",
      "2023-05-04 18:16:03.184339: I tensorflow/stream_executor/platform/default/dso_loader.cc:49] Successfully opened dynamic library libcublas.so.10\n"
     ]
    }
   ],
   "source": [
    "autoencoder = MultiLayerAutoencoder()\n",
    "\n",
    "test_out = autoencoder(np.zeros([1, 16, 3]), training=False)"
   ]
  },
  {
   "cell_type": "code",
   "execution_count": 6,
   "id": "afb3041c",
   "metadata": {},
   "outputs": [
    {
     "data": {
      "text/plain": [
       "<tensorflow.python.training.tracking.util.CheckpointLoadStatus at 0x7f21c47dab20>"
      ]
     },
     "execution_count": 6,
     "metadata": {},
     "output_type": "execute_result"
    }
   ],
   "source": [
    "checkpoint = tf.train.Checkpoint(autoencoder=autoencoder)\n",
    "\n",
    "PROJECT_PATH = '/raid/shumnov/music-style-performer/'\n",
    "checkpoint_dir = PROJECT_PATH + 'train_data/ocgan_mlp_1/checkpoints'\n",
    "checkpoint.restore(checkpoint_dir + '/ckpt-1')"
   ]
  },
  {
   "cell_type": "code",
   "execution_count": 7,
   "id": "b0bc6382",
   "metadata": {},
   "outputs": [],
   "source": [
    "@tf.function\n",
    "def predict(x):\n",
    "    y = autoencoder(x)\n",
    "    \n",
    "    err = tf.math.square(x[..., 2] - y[..., 2])\n",
    "    # err = tf.math.reduce_mean(err, axis=2)\n",
    "    err = tf.math.reduce_mean(err, axis=1)\n",
    "    \n",
    "    err = tf.math.sqrt(err)\n",
    "    \n",
    "    return err"
   ]
  },
  {
   "cell_type": "markdown",
   "id": "2dc024f8",
   "metadata": {},
   "source": [
    "# Data"
   ]
  },
  {
   "cell_type": "code",
   "execution_count": 8,
   "id": "9d0df778",
   "metadata": {},
   "outputs": [],
   "source": [
    "def Note(tone, time, duration, velocity, dt):\n",
    "    return [tone, time, duration, velocity, dt]"
   ]
  },
  {
   "cell_type": "code",
   "execution_count": 9,
   "id": "a2241ff6",
   "metadata": {},
   "outputs": [],
   "source": [
    "def track2line(track):\n",
    "    line = []\n",
    "\n",
    "    time = 0\n",
    "    for m in track:\n",
    "        time += m.time\n",
    "\n",
    "        if m.type == 'note_on' and m.velocity > 0:\n",
    "            if len(line) > 0:\n",
    "                line[-1][4] = time - line[-1][1]\n",
    "            line.append(Note(m.note, time, -1, m.velocity, -1))\n",
    "            \n",
    "        elif m.type == 'note_off' or (m.type == 'note_on' and m.velocity == 0):\n",
    "            i = 1\n",
    "            while line[-i][0] != m.note:\n",
    "                i += 1\n",
    "            \n",
    "            line[-i][2] = time - line[-i][1]\n",
    "            \n",
    "    line[-1][4] = line[-1][2]\n",
    "            \n",
    "    return line\n",
    "\n",
    "\n",
    "def split_line(line):\n",
    "    lines = []\n",
    "    prev = 0\n",
    "    \n",
    "    for i in range(1, len(line)):\n",
    "        diff = line[i][1] - line[i - 1][1]\n",
    "        \n",
    "        if diff > 10000 or (line[i - 1][2] > 100 and line[i - 1][2] * 5 < diff):\n",
    "            print(diff, line[i - 1][2])\n",
    "            # if i - prev > LINE_MIN_LENGTH:\n",
    "            lines.append(line[prev:i])\n",
    "            lines[-1][-1][4] = lines[-1][-1][2]\n",
    "                \n",
    "            prev = i\n",
    "            \n",
    "    # if len(line) - prev > LINE_MIN_LENGTH:\n",
    "    lines.append(line[prev:])\n",
    "        \n",
    "    return lines\n",
    "\n",
    "def process_line(line):\n",
    "    prev = line[0][0]\n",
    "    line[0][0] = 0\n",
    "    for i in range(1, len(line)):\n",
    "        line[i][0] = line[i][0] - prev\n",
    "        prev += line[i][0]\n",
    "\n",
    "    line[..., 1] -= line[0][1]"
   ]
  },
  {
   "cell_type": "code",
   "execution_count": 10,
   "id": "eb3990cd",
   "metadata": {},
   "outputs": [],
   "source": [
    "params = (-0.0006052263335607262, 4.132044170275806, 5.560632707014063, 0.9528834736310532, 70.6449790510276, 15.86987401301365)\n",
    "\n",
    "def normalize(notes, durs, vels, params=params):\n",
    "    note_mean, note_std, dur_mean, dur_std, vel_mean, vel_std = params\n",
    "\n",
    "    if notes is not None:\n",
    "        notes = (notes - note_mean) / note_std    \n",
    "    if durs is not None:\n",
    "        print(durs)\n",
    "        durs = tf.math.log(durs)\n",
    "        print(durs)\n",
    "        durs = (durs - dur_mean) / dur_std\n",
    "        print(durs)\n",
    "    if vels is not None:\n",
    "        vels = (vels - vel_mean) / vel_std\n",
    "    \n",
    "    return notes, durs, vels"
   ]
  },
  {
   "cell_type": "code",
   "execution_count": 11,
   "id": "c2836fb1",
   "metadata": {},
   "outputs": [],
   "source": [
    "def graph_line(line):\n",
    "    x = list(map(lambda x: x[1], line))\n",
    "    y = list(map(lambda x: x[0], line))\n",
    "    \n",
    "    plt.plot(x, y, 'o-')\n",
    "    plt.show()"
   ]
  },
  {
   "cell_type": "code",
   "execution_count": 12,
   "id": "d263d2c3",
   "metadata": {},
   "outputs": [],
   "source": [
    "mid1 = mido.MidiFile('satie.mid')\n",
    "mid2 = mido.MidiFile('prokofiev.mid')"
   ]
  },
  {
   "cell_type": "code",
   "execution_count": 13,
   "id": "18e0d242",
   "metadata": {},
   "outputs": [
    {
     "name": "stdout",
     "output_type": "stream",
     "text": [
      "tf.Tensor(\n",
      "[ 754.   590.   200.   362.   416.8  562.   175.2  384.   398.8  549.2\n",
      "  202.   386.   372.   394.   392.   752.   374.   394.   784.   372.\n",
      "  390.   784.   752.  1136.   400.   768.   576.   192.   384.   418.8\n",
      "  543.2  188.8  385.2  404.8  537.2  216.   378.   376.   392.   384.\n",
      "  748.   406.   386.   772.   376.   384.  1370. ], shape=(47,), dtype=float32)\n",
      "tf.Tensor(\n",
      "[6.6253924 6.3801227 5.2983174 5.8916445 6.0326066 6.331502  5.1659284\n",
      " 5.9506426 5.98846   6.3084626 5.3082676 5.9558372 5.918894  5.976351\n",
      " 5.971262  6.6227365 5.924256  5.976351  6.664409  5.918894  5.966147\n",
      " 6.664409  6.6227365 7.035269  5.9914646 6.64379   6.3561077 5.2574954\n",
      " 5.9506426 6.0373936 6.2974777 5.2406883 5.9537625 6.003393  6.2863703\n",
      " 5.3752785 5.934894  5.9295893 5.971262  5.9506426 6.617403  6.0063534\n",
      " 5.9558372 6.6489844 5.9295893 5.9506426 7.222566 ], shape=(47,), dtype=float32)\n",
      "tf.Tensor(\n",
      "[ 1.1174082   0.8600107  -0.27528578  0.34737906  0.49531123  0.8089858\n",
      " -0.414221    0.4092944   0.44898182  0.7848073  -0.2648436   0.41474593\n",
      "  0.3759758   0.43627378  0.43093336  1.1146208   0.38160294  0.43627378\n",
      "  1.158354    0.3759758   0.4255654   1.158354    1.1146208   1.5475513\n",
      "  0.45213494  1.1367152   0.8348083  -0.31812632  0.4092944   0.5003349\n",
      "  0.77327925 -0.33576444  0.41256863  0.4646533   0.76162255 -0.19451931\n",
      "  0.3927672   0.3872001   0.43093336  0.4092944   1.1090237   0.46775988\n",
      "  0.41474593  1.1421666   0.3872001   0.4092944   1.7441097 ], shape=(47,), dtype=float32)\n"
     ]
    }
   ],
   "source": [
    "line = track2line(mid2.tracks[0])\n",
    "np_line = np.array(line)\n",
    "process_line(np_line)\n",
    "\n",
    "notes = tf.convert_to_tensor(np_line[..., 0], dtype=tf.float32)\n",
    "durs = tf.convert_to_tensor(np_line[..., 4], dtype=tf.float32)\n",
    "\n",
    "durs /= 2.5\n",
    "\n",
    "notes, durs, _ = normalize(notes, durs, None)"
   ]
  },
  {
   "cell_type": "code",
   "execution_count": 14,
   "id": "78ebe8da",
   "metadata": {},
   "outputs": [
    {
     "data": {
      "image/png": "[encoded data removed]",
      "text/plain": [
       "<Figure size 640x480 with 1 Axes>"
      ]
     },
     "metadata": {},
     "output_type": "display_data"
    }
   ],
   "source": [
    "graph_line(line)"
   ]
  },
  {
   "cell_type": "code",
   "execution_count": 70,
   "id": "e3431a5a",
   "metadata": {},
   "outputs": [],
   "source": [
    "A = 0.05\n",
    "B = 0\n",
    "C = 1"
   ]
  },
  {
   "cell_type": "code",
   "execution_count": 71,
   "id": "ee781223",
   "metadata": {},
   "outputs": [],
   "source": [
    "@tf.function()\n",
    "def style_loss(pred): \n",
    "    return 7 - tf.math.reduce_std(pred)\n",
    "    # return tf.math.abs(tf.math.reduce_std(pred) - tf.math.reduce_std(style))\n",
    "\n",
    "@tf.function()\n",
    "def content_loss(pred):\n",
    "    return 0\n",
    "    # return tf.math.reduce_mean(tf.math.square(pred - content))\n",
    "\n",
    "@tf.function()\n",
    "def quality_loss(pred):\n",
    "    loss = 0\n",
    "    \n",
    "    _, _, vels = normalize(None, None, pred)\n",
    "    xline = tf.stack([notes, durs, vels], axis=1)\n",
    "    \n",
    "    for i in range(len(notes) - NOTES_QTY):\n",
    "        x = tf.expand_dims(xline[i:i+NOTES_QTY], axis=0)\n",
    "        loss += predict(x)[0] ** 2\n",
    "        \n",
    "    loss /= len(notes) - NOTES_QTY\n",
    "    loss = tf.math.sqrt(loss)\n",
    "    \n",
    "    return loss\n",
    "\n",
    "@tf.function()\n",
    "def overall_loss(pred):\n",
    "    return A * style_loss(pred) + B * content_loss(pred) + C * quality_loss(pred)"
   ]
  },
  {
   "cell_type": "code",
   "execution_count": 72,
   "id": "98f702bf",
   "metadata": {},
   "outputs": [],
   "source": [
    "content = None\n",
    "style = None\n",
    "\n",
    "@tf.function()\n",
    "def train_step(vel):    \n",
    "    with tf.GradientTape() as tape:\n",
    "        tape.watch(vel)\n",
    "        loss = overall_loss(vel)\n",
    "\n",
    "    grad = tape.gradient(loss, vel)\n",
    "    opt.apply_gradients([(grad, vel)])\n",
    "    \n",
    "    return loss"
   ]
  },
  {
   "cell_type": "code",
   "execution_count": 73,
   "id": "c9a4bff6",
   "metadata": {},
   "outputs": [],
   "source": [
    "opt = tf.keras.optimizers.Adam(learning_rate=0.02, beta_1=0.99, epsilon=1e-1)\n",
    "sgd = tf.keras.optimizers.SGD()"
   ]
  },
  {
   "cell_type": "code",
   "execution_count": 75,
   "id": "6d5b6f93",
   "metadata": {},
   "outputs": [
    {
     "data": {
      "text/plain": [
       "<tf.Variable 'Variable:0' shape=(47,) dtype=float32, numpy=\n",
       "array([82.876076, 83.04145 , 83.01003 , 83.231544, 82.93578 , 82.88006 ,\n",
       "       83.04694 , 83.0411  , 82.798096, 82.92649 , 82.868034, 82.76599 ,\n",
       "       83.17125 , 83.087616, 83.07308 , 83.173   , 83.052666, 83.10314 ,\n",
       "       83.14363 , 83.10745 , 83.034584, 83.11031 , 83.00673 , 83.049965,\n",
       "       82.963356, 83.017876, 82.987045, 82.90028 , 83.03873 , 83.06818 ,\n",
       "       82.960884, 82.87456 , 83.020615, 83.01508 , 82.76031 , 83.08383 ,\n",
       "       83.09139 , 83.063995, 83.00202 , 82.93171 , 82.94093 , 82.957   ,\n",
       "       83.15321 , 82.95045 , 83.00921 , 82.890594, 82.83995 ],\n",
       "      dtype=float32)>"
      ]
     },
     "execution_count": 75,
     "metadata": {},
     "output_type": "execute_result"
    }
   ],
   "source": [
    "start = np.random.normal(83, 0.1, (len(line)))\n",
    "\n",
    "vel = tf.Variable(start, dtype=tf.float32)\n",
    "vel\n",
    "# vel = tf.Variable(np.array(line)[..., 3], dtype=tf.float32)"
   ]
  },
  {
   "cell_type": "code",
   "execution_count": null,
   "id": "38ccdfa4",
   "metadata": {},
   "outputs": [
    {
     "name": "stdout",
     "output_type": "stream",
     "text": [
      "Step: 200 | style_loss: 5.576166152954102 | quality_loss: 0.08331192284822464\n",
      "Step: 400 | style_loss: 5.547534465789795 | quality_loss: 0.08357551693916321\n"
     ]
    }
   ],
   "source": [
    "import time\n",
    "start = time.time()\n",
    "\n",
    "epochs = 30\n",
    "steps_per_epoch = 200\n",
    "\n",
    "step = 0\n",
    "for n in range(epochs):\n",
    "    for m in range(steps_per_epoch):\n",
    "        step += 1\n",
    "        loss = train_step(vel)\n",
    "    print(f\"Step: {step} | style_loss: {style_loss(vel)} | quality_loss: {quality_loss(vel)}\")\n",
    "\n",
    "end = time.time()\n",
    "print(\"Total time: {:.1f}\".format(end-start))"
   ]
  },
  {
   "cell_type": "code",
   "execution_count": null,
   "id": "65f5d93b",
   "metadata": {
    "scrolled": false
   },
   "outputs": [],
   "source": [
    "x = list(map(lambda x: x[1], line))\n",
    "y = vel.numpy()\n",
    "\n",
    "plt.plot(x, y, 'o-')\n",
    "plt.show()"
   ]
  },
  {
   "cell_type": "code",
   "execution_count": null,
   "id": "b08e77a8",
   "metadata": {},
   "outputs": [],
   "source": [
    "i = 0\n",
    "\n",
    "for m in mid2.tracks[0]:\n",
    "    if m.type == 'note_on' and m.velocity > 0:\n",
    "        m.velocity = int(vel[i])\n",
    "        \n",
    "        i += 1\n",
    "        \n",
    "mid2.save('result1.mid')"
   ]
  },
  {
   "cell_type": "code",
   "execution_count": null,
   "id": "197fb0c5",
   "metadata": {},
   "outputs": [],
   "source": []
  }
 ],
 "metadata": {
  "kernelspec": {
   "display_name": "Python 3 (ipykernel)",
   "language": "python",
   "name": "python3"
  },
  "language_info": {
   "codemirror_mode": {
    "name": "ipython",
    "version": 3
   },
   "file_extension": ".py",
   "mimetype": "text/x-python",
   "name": "python",
   "nbconvert_exporter": "python",
   "pygments_lexer": "ipython3",
   "version": "3.9.16"
  }
 },
 "nbformat": 4,
 "nbformat_minor": 5
}
