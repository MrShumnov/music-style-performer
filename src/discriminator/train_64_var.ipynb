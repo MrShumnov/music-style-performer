{
 "cells": [
  {
   "cell_type": "code",
   "execution_count": 7,
   "id": "b3d15641",
   "metadata": {},
   "outputs": [],
   "source": [
    "import os\n",
    "import numpy as np\n",
    "from matplotlib import pyplot as plt\n",
    "\n",
    "os.environ['XLA_FLAGS'] = '--xla_gpu_cuda_data_dir=/usr/lib/cuda'\n",
    "os.environ[\"CUDA_VISIBLE_DEVICES\"]=\"0\""
   ]
  },
  {
   "cell_type": "code",
   "execution_count": 8,
   "id": "16e8521e",
   "metadata": {},
   "outputs": [
    {
     "name": "stdout",
     "output_type": "stream",
     "text": [
      "GPU available: 1\n"
     ]
    }
   ],
   "source": [
    "import tensorflow as tf\n",
    "from tensorflow import keras\n",
    "\n",
    "print(\"GPU available:\", len(tf.config.list_physical_devices('GPU')))"
   ]
  },
  {
   "cell_type": "code",
   "execution_count": 9,
   "id": "238eb1c3",
   "metadata": {},
   "outputs": [],
   "source": [
    "from data_preprocessing import DataProcessor, Dataset\n",
    "from model import OCCModel\n",
    "from autoencoder import MLPAutoencoder\n",
    "from var_autoencoder import MLPVarAutoencoder\n",
    "from loss import WeightedMSE"
   ]
  },
  {
   "cell_type": "code",
   "execution_count": 10,
   "id": "d66b63d4",
   "metadata": {},
   "outputs": [],
   "source": [
    "PROJECT_PATH = '/raid/shumnov/music-style-performer/'"
   ]
  },
  {
   "cell_type": "code",
   "execution_count": 11,
   "id": "7670e00b",
   "metadata": {},
   "outputs": [],
   "source": [
    "architecture = [((256, 128), (0, 0), (128, 256), (0, 0)), \n",
    "                ((256, 128, 128), (0.2, 0.2, 0.2), (128, 128, 256), (0.2, 0.2, 0.2))]\n",
    "noise = [0.02, 0.1]\n",
    "latent_dim = [64, 32]\n",
    "absolute_velocities = [True, False]"
   ]
  },
  {
   "cell_type": "code",
   "execution_count": 12,
   "id": "b1e26041",
   "metadata": {},
   "outputs": [],
   "source": [
    "def test(av, ld, n, arch, name):\n",
    "    dp = DataProcessor(\n",
    "        notes_qty=64, \n",
    "        include_first_tone=False, \n",
    "        absolute_velocities=av)\n",
    "    \n",
    "    dset = Dataset(dp, 64)\n",
    "    dset.load_dset(PROJECT_PATH + 'data/dset64.npy', 2000)\n",
    "    \n",
    "    autoencoder = MLPAutoencoder(\n",
    "        input_size=dp.input_size,\n",
    "        latent_dim=ld,\n",
    "        noise=n,\n",
    "        encoder_layers=arch[0],\n",
    "        encoder_dropout=arch[1],\n",
    "        decoder_layers=arch[2],\n",
    "        decoder_dropout=arch[3])\n",
    "    \n",
    "    loss = WeightedMSE(\n",
    "        vel_mask=dp.vel_mask, \n",
    "        leg_mask=dp.leg_mask, \n",
    "        first_last_mask=dp.first_last_mask, \n",
    "        vel_weight=1, \n",
    "        leg_weight=3, \n",
    "        first_last_weight=1)\n",
    "    \n",
    "    model = OCCModel(\n",
    "        autoencoder=autoencoder,\n",
    "        dataprocessor=dp,\n",
    "        dist_weight=1, \n",
    "        vel_weight=1, \n",
    "        leg_weight=3\n",
    "    )\n",
    "    model.compile(\n",
    "        modelsdir=PROJECT_PATH+'traindata/ae/64',\n",
    "        name=name, \n",
    "        optimizer=keras.optimizers.Adam(3e-4),\n",
    "        loss=loss,\n",
    "        ckpt_epochs=1\n",
    "    )\n",
    "    \n",
    "    model.fit(dset, 10, 2)"
   ]
  },
  {
   "cell_type": "code",
   "execution_count": 13,
   "id": "c7758594",
   "metadata": {},
   "outputs": [
    {
     "ename": "KeyboardInterrupt",
     "evalue": "",
     "output_type": "error",
     "traceback": [
      "\u001b[0;31m---------------------------------------------------------------------------\u001b[0m",
      "\u001b[0;31mKeyboardInterrupt\u001b[0m                         Traceback (most recent call last)",
      "Cell \u001b[0;32mIn[13], line 5\u001b[0m\n\u001b[1;32m      3\u001b[0m \u001b[38;5;28;01mfor\u001b[39;00m n \u001b[38;5;129;01min\u001b[39;00m \u001b[38;5;28mrange\u001b[39m(\u001b[38;5;28mlen\u001b[39m(noise)):\n\u001b[1;32m      4\u001b[0m     \u001b[38;5;28;01mfor\u001b[39;00m a \u001b[38;5;129;01min\u001b[39;00m \u001b[38;5;28mrange\u001b[39m(\u001b[38;5;28mlen\u001b[39m(architecture)):\n\u001b[0;32m----> 5\u001b[0m         \u001b[43mtest\u001b[49m\u001b[43m(\u001b[49m\u001b[43mabsolute_velocities\u001b[49m\u001b[43m[\u001b[49m\u001b[43mav\u001b[49m\u001b[43m]\u001b[49m\u001b[43m,\u001b[49m\u001b[43m \u001b[49m\u001b[43mlatent_dim\u001b[49m\u001b[43m[\u001b[49m\u001b[43mld\u001b[49m\u001b[43m]\u001b[49m\u001b[43m,\u001b[49m\u001b[43m \u001b[49m\u001b[43mnoise\u001b[49m\u001b[43m[\u001b[49m\u001b[43mn\u001b[49m\u001b[43m]\u001b[49m\u001b[43m,\u001b[49m\u001b[43m \u001b[49m\u001b[43marchitecture\u001b[49m\u001b[43m[\u001b[49m\u001b[43ma\u001b[49m\u001b[43m]\u001b[49m\u001b[43m,\u001b[49m\u001b[43m \u001b[49m\u001b[38;5;124;43mf\u001b[39;49m\u001b[38;5;124;43m'\u001b[39;49m\u001b[38;5;132;43;01m{\u001b[39;49;00m\u001b[43mld\u001b[49m\u001b[38;5;132;43;01m}\u001b[39;49;00m\u001b[38;5;132;43;01m{\u001b[39;49;00m\u001b[43mav\u001b[49m\u001b[38;5;132;43;01m}\u001b[39;49;00m\u001b[38;5;132;43;01m{\u001b[39;49;00m\u001b[43mn\u001b[49m\u001b[38;5;132;43;01m}\u001b[39;49;00m\u001b[38;5;132;43;01m{\u001b[39;49;00m\u001b[43ma\u001b[49m\u001b[38;5;132;43;01m}\u001b[39;49;00m\u001b[38;5;124;43m'\u001b[39;49m\u001b[43m)\u001b[49m\n",
      "Cell \u001b[0;32mIn[12], line 8\u001b[0m, in \u001b[0;36mtest\u001b[0;34m(av, ld, n, arch, name)\u001b[0m\n\u001b[1;32m      2\u001b[0m dp \u001b[38;5;241m=\u001b[39m DataProcessor(\n\u001b[1;32m      3\u001b[0m     notes_qty\u001b[38;5;241m=\u001b[39m\u001b[38;5;241m64\u001b[39m, \n\u001b[1;32m      4\u001b[0m     include_first_tone\u001b[38;5;241m=\u001b[39m\u001b[38;5;28;01mFalse\u001b[39;00m, \n\u001b[1;32m      5\u001b[0m     absolute_velocities\u001b[38;5;241m=\u001b[39mav)\n\u001b[1;32m      7\u001b[0m dset \u001b[38;5;241m=\u001b[39m Dataset(dp, \u001b[38;5;241m64\u001b[39m)\n\u001b[0;32m----> 8\u001b[0m \u001b[43mdset\u001b[49m\u001b[38;5;241;43m.\u001b[39;49m\u001b[43mload_dset\u001b[49m\u001b[43m(\u001b[49m\u001b[43mPROJECT_PATH\u001b[49m\u001b[43m \u001b[49m\u001b[38;5;241;43m+\u001b[39;49m\u001b[43m \u001b[49m\u001b[38;5;124;43m'\u001b[39;49m\u001b[38;5;124;43mdata/dset64.npy\u001b[39;49m\u001b[38;5;124;43m'\u001b[39;49m\u001b[43m,\u001b[49m\u001b[43m \u001b[49m\u001b[38;5;241;43m2000\u001b[39;49m\u001b[43m)\u001b[49m\n\u001b[1;32m     10\u001b[0m autoencoder \u001b[38;5;241m=\u001b[39m MLPAutoencoder(\n\u001b[1;32m     11\u001b[0m     input_size\u001b[38;5;241m=\u001b[39mdp\u001b[38;5;241m.\u001b[39minput_size,\n\u001b[1;32m     12\u001b[0m     latent_dim\u001b[38;5;241m=\u001b[39mld,\n\u001b[0;32m   (...)\u001b[0m\n\u001b[1;32m     16\u001b[0m     decoder_layers\u001b[38;5;241m=\u001b[39march[\u001b[38;5;241m2\u001b[39m],\n\u001b[1;32m     17\u001b[0m     decoder_dropout\u001b[38;5;241m=\u001b[39march[\u001b[38;5;241m3\u001b[39m])\n\u001b[1;32m     19\u001b[0m loss \u001b[38;5;241m=\u001b[39m WeightedMSE(\n\u001b[1;32m     20\u001b[0m     vel_mask\u001b[38;5;241m=\u001b[39mdp\u001b[38;5;241m.\u001b[39mvel_mask, \n\u001b[1;32m     21\u001b[0m     leg_mask\u001b[38;5;241m=\u001b[39mdp\u001b[38;5;241m.\u001b[39mleg_mask, \n\u001b[0;32m   (...)\u001b[0m\n\u001b[1;32m     24\u001b[0m     leg_weight\u001b[38;5;241m=\u001b[39m\u001b[38;5;241m3\u001b[39m, \n\u001b[1;32m     25\u001b[0m     first_last_weight\u001b[38;5;241m=\u001b[39m\u001b[38;5;241m1\u001b[39m)\n",
      "File \u001b[0;32m~/music-style-performer/src/discriminator/data_preprocessing.py:21\u001b[0m, in \u001b[0;36mDataset.load_dset\u001b[0;34m(self, train_file, test_len, test_file)\u001b[0m\n\u001b[1;32m     20\u001b[0m \u001b[38;5;28;01mdef\u001b[39;00m \u001b[38;5;21mload_dset\u001b[39m(\u001b[38;5;28mself\u001b[39m, train_file, test_len\u001b[38;5;241m=\u001b[39m\u001b[38;5;241m1000\u001b[39m, test_file\u001b[38;5;241m=\u001b[39m\u001b[38;5;28;01mNone\u001b[39;00m):\n\u001b[0;32m---> 21\u001b[0m     dset \u001b[38;5;241m=\u001b[39m \u001b[43mnp\u001b[49m\u001b[38;5;241;43m.\u001b[39;49m\u001b[43mload\u001b[49m\u001b[43m(\u001b[49m\u001b[43mtrain_file\u001b[49m\u001b[43m)\u001b[49m\n\u001b[1;32m     23\u001b[0m     np\u001b[38;5;241m.\u001b[39mrandom\u001b[38;5;241m.\u001b[39mseed(\u001b[38;5;241m1\u001b[39m)\n\u001b[1;32m     25\u001b[0m     \u001b[38;5;28;01mif\u001b[39;00m test_file:\n",
      "File \u001b[0;32m~/anaconda3/envs/tf/lib/python3.9/site-packages/numpy/lib/npyio.py:430\u001b[0m, in \u001b[0;36mload\u001b[0;34m(file, mmap_mode, allow_pickle, fix_imports, encoding)\u001b[0m\n\u001b[1;32m    428\u001b[0m         \u001b[38;5;28;01mreturn\u001b[39;00m \u001b[38;5;28mformat\u001b[39m\u001b[38;5;241m.\u001b[39mopen_memmap(file, mode\u001b[38;5;241m=\u001b[39mmmap_mode)\n\u001b[1;32m    429\u001b[0m     \u001b[38;5;28;01melse\u001b[39;00m:\n\u001b[0;32m--> 430\u001b[0m         \u001b[38;5;28;01mreturn\u001b[39;00m \u001b[38;5;28;43mformat\u001b[39;49m\u001b[38;5;241;43m.\u001b[39;49m\u001b[43mread_array\u001b[49m\u001b[43m(\u001b[49m\u001b[43mfid\u001b[49m\u001b[43m,\u001b[49m\u001b[43m \u001b[49m\u001b[43mallow_pickle\u001b[49m\u001b[38;5;241;43m=\u001b[39;49m\u001b[43mallow_pickle\u001b[49m\u001b[43m,\u001b[49m\n\u001b[1;32m    431\u001b[0m \u001b[43m                                 \u001b[49m\u001b[43mpickle_kwargs\u001b[49m\u001b[38;5;241;43m=\u001b[39;49m\u001b[43mpickle_kwargs\u001b[49m\u001b[43m)\u001b[49m\n\u001b[1;32m    432\u001b[0m \u001b[38;5;28;01melse\u001b[39;00m:\n\u001b[1;32m    433\u001b[0m     \u001b[38;5;66;03m# Try a pickle\u001b[39;00m\n\u001b[1;32m    434\u001b[0m     \u001b[38;5;28;01mif\u001b[39;00m \u001b[38;5;129;01mnot\u001b[39;00m allow_pickle:\n",
      "File \u001b[0;32m~/anaconda3/envs/tf/lib/python3.9/site-packages/numpy/lib/format.py:756\u001b[0m, in \u001b[0;36mread_array\u001b[0;34m(fp, allow_pickle, pickle_kwargs)\u001b[0m\n\u001b[1;32m    753\u001b[0m \u001b[38;5;28;01melse\u001b[39;00m:\n\u001b[1;32m    754\u001b[0m     \u001b[38;5;28;01mif\u001b[39;00m isfileobj(fp):\n\u001b[1;32m    755\u001b[0m         \u001b[38;5;66;03m# We can use the fast fromfile() function.\u001b[39;00m\n\u001b[0;32m--> 756\u001b[0m         array \u001b[38;5;241m=\u001b[39m \u001b[43mnumpy\u001b[49m\u001b[38;5;241;43m.\u001b[39;49m\u001b[43mfromfile\u001b[49m\u001b[43m(\u001b[49m\u001b[43mfp\u001b[49m\u001b[43m,\u001b[49m\u001b[43m \u001b[49m\u001b[43mdtype\u001b[49m\u001b[38;5;241;43m=\u001b[39;49m\u001b[43mdtype\u001b[49m\u001b[43m,\u001b[49m\u001b[43m \u001b[49m\u001b[43mcount\u001b[49m\u001b[38;5;241;43m=\u001b[39;49m\u001b[43mcount\u001b[49m\u001b[43m)\u001b[49m\n\u001b[1;32m    757\u001b[0m     \u001b[38;5;28;01melse\u001b[39;00m:\n\u001b[1;32m    758\u001b[0m         \u001b[38;5;66;03m# This is not a real file. We have to read it the\u001b[39;00m\n\u001b[1;32m    759\u001b[0m         \u001b[38;5;66;03m# memory-intensive way.\u001b[39;00m\n\u001b[0;32m   (...)\u001b[0m\n\u001b[1;32m    767\u001b[0m         \u001b[38;5;66;03m# not correctly instantiate zero-width string dtypes; see\u001b[39;00m\n\u001b[1;32m    768\u001b[0m         \u001b[38;5;66;03m# https://github.com/numpy/numpy/pull/6430\u001b[39;00m\n\u001b[1;32m    769\u001b[0m         array \u001b[38;5;241m=\u001b[39m numpy\u001b[38;5;241m.\u001b[39mndarray(count, dtype\u001b[38;5;241m=\u001b[39mdtype)\n",
      "\u001b[0;31mKeyboardInterrupt\u001b[0m: "
     ]
    }
   ],
   "source": [
    "for ld in range(len(latent_dim)):\n",
    "    for av in range(len(absolute_velocities)):\n",
    "        for n in range(len(noise)):\n",
    "            for a in range(len(architecture)):\n",
    "                test(absolute_velocities[av], latent_dim[ld], noise[n], architecture[a], f'{ld}{av}{n}{a}')"
   ]
  },
  {
   "cell_type": "code",
   "execution_count": null,
   "id": "9ea085a8",
   "metadata": {},
   "outputs": [],
   "source": []
  }
 ],
 "metadata": {
  "kernelspec": {
   "display_name": "Python 3 (ipykernel)",
   "language": "python",
   "name": "python3"
  },
  "language_info": {
   "codemirror_mode": {
    "name": "ipython",
    "version": 3
   },
   "file_extension": ".py",
   "mimetype": "text/x-python",
   "name": "python",
   "nbconvert_exporter": "python",
   "pygments_lexer": "ipython3",
   "version": "3.9.16"
  }
 },
 "nbformat": 4,
 "nbformat_minor": 5
}
