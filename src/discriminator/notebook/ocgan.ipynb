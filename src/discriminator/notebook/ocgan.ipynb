{
 "cells": [
  {
   "cell_type": "code",
   "execution_count": 2,
   "id": "078651c6",
   "metadata": {},
   "outputs": [],
   "source": [
    "import numpy as np\n",
    "import random\n",
    "import sklearn\n",
    "from sklearn import metrics, ensemble, preprocessing\n",
    "from matplotlib import pyplot as plt\n",
    "from scipy.stats import norm\n",
    "import os\n",
    "import datetime\n",
    "\n",
    "np.set_printoptions(suppress=True)\n",
    "np.random.seed(100)\n",
    "random.seed(100)"
   ]
  },
  {
   "cell_type": "code",
   "execution_count": 3,
   "id": "3ebd4d0d",
   "metadata": {},
   "outputs": [
    {
     "name": "stderr",
     "output_type": "stream",
     "text": [
      "2023-04-29 01:01:46.811878: I tensorflow/stream_executor/platform/default/dso_loader.cc:49] Successfully opened dynamic library libcudart.so.10.1\n"
     ]
    },
    {
     "name": "stdout",
     "output_type": "stream",
     "text": [
      "2.4.1\n",
      "GPU available: 8\n"
     ]
    },
    {
     "name": "stderr",
     "output_type": "stream",
     "text": [
      "2023-04-29 01:01:47.835702: I tensorflow/stream_executor/platform/default/dso_loader.cc:49] Successfully opened dynamic library libcuda.so.1\n",
      "2023-04-29 01:01:47.975003: I tensorflow/stream_executor/cuda/cuda_gpu_executor.cc:941] successful NUMA node read from SysFS had negative value (-1), but there must be at least one NUMA node, so returning NUMA node zero\n",
      "2023-04-29 01:01:47.976859: I tensorflow/core/common_runtime/gpu/gpu_device.cc:1720] Found device 0 with properties: \n",
      "pciBusID: 0000:05:00.0 name: Tesla V100-SXM3-32GB computeCapability: 7.0\n",
      "coreClock: 1.597GHz coreCount: 80 deviceMemorySize: 31.75GiB deviceMemoryBandwidth: 913.62GiB/s\n",
      "2023-04-29 01:01:47.977063: I tensorflow/stream_executor/cuda/cuda_gpu_executor.cc:941] successful NUMA node read from SysFS had negative value (-1), but there must be at least one NUMA node, so returning NUMA node zero\n",
      "2023-04-29 01:01:47.978730: I tensorflow/core/common_runtime/gpu/gpu_device.cc:1720] Found device 1 with properties: \n",
      "pciBusID: 0000:06:00.0 name: Tesla V100-SXM3-32GB computeCapability: 7.0\n",
      "coreClock: 1.597GHz coreCount: 80 deviceMemorySize: 31.75GiB deviceMemoryBandwidth: 913.62GiB/s\n",
      "2023-04-29 01:01:47.978823: I tensorflow/stream_executor/cuda/cuda_gpu_executor.cc:941] successful NUMA node read from SysFS had negative value (-1), but there must be at least one NUMA node, so returning NUMA node zero\n",
      "2023-04-29 01:01:47.980366: I tensorflow/core/common_runtime/gpu/gpu_device.cc:1720] Found device 2 with properties: \n",
      "pciBusID: 0000:07:00.0 name: Tesla V100-SXM3-32GB computeCapability: 7.0\n",
      "coreClock: 1.597GHz coreCount: 80 deviceMemorySize: 31.75GiB deviceMemoryBandwidth: 913.62GiB/s\n",
      "2023-04-29 01:01:47.980467: I tensorflow/stream_executor/cuda/cuda_gpu_executor.cc:941] successful NUMA node read from SysFS had negative value (-1), but there must be at least one NUMA node, so returning NUMA node zero\n",
      "2023-04-29 01:01:47.981754: I tensorflow/core/common_runtime/gpu/gpu_device.cc:1720] Found device 3 with properties: \n",
      "pciBusID: 0000:08:00.0 name: Tesla V100-SXM3-32GB computeCapability: 7.0\n",
      "coreClock: 1.597GHz coreCount: 80 deviceMemorySize: 31.75GiB deviceMemoryBandwidth: 913.62GiB/s\n",
      "2023-04-29 01:01:47.981839: I tensorflow/stream_executor/cuda/cuda_gpu_executor.cc:941] successful NUMA node read from SysFS had negative value (-1), but there must be at least one NUMA node, so returning NUMA node zero\n",
      "2023-04-29 01:01:47.983049: I tensorflow/core/common_runtime/gpu/gpu_device.cc:1720] Found device 4 with properties: \n",
      "pciBusID: 0000:09:00.0 name: Tesla V100-SXM3-32GB computeCapability: 7.0\n",
      "coreClock: 1.597GHz coreCount: 80 deviceMemorySize: 31.75GiB deviceMemoryBandwidth: 913.62GiB/s\n",
      "2023-04-29 01:01:47.983135: I tensorflow/stream_executor/cuda/cuda_gpu_executor.cc:941] successful NUMA node read from SysFS had negative value (-1), but there must be at least one NUMA node, so returning NUMA node zero\n",
      "2023-04-29 01:01:47.984772: I tensorflow/core/common_runtime/gpu/gpu_device.cc:1720] Found device 5 with properties: \n",
      "pciBusID: 0000:0a:00.0 name: Tesla V100-SXM3-32GB computeCapability: 7.0\n",
      "coreClock: 1.597GHz coreCount: 80 deviceMemorySize: 31.75GiB deviceMemoryBandwidth: 913.62GiB/s\n",
      "2023-04-29 01:01:47.984862: I tensorflow/stream_executor/cuda/cuda_gpu_executor.cc:941] successful NUMA node read from SysFS had negative value (-1), but there must be at least one NUMA node, so returning NUMA node zero\n",
      "2023-04-29 01:01:47.986020: I tensorflow/core/common_runtime/gpu/gpu_device.cc:1720] Found device 6 with properties: \n",
      "pciBusID: 0000:0b:00.0 name: Tesla V100-SXM3-32GB computeCapability: 7.0\n",
      "coreClock: 1.597GHz coreCount: 80 deviceMemorySize: 31.75GiB deviceMemoryBandwidth: 913.62GiB/s\n",
      "2023-04-29 01:01:47.986084: I tensorflow/stream_executor/cuda/cuda_gpu_executor.cc:941] successful NUMA node read from SysFS had negative value (-1), but there must be at least one NUMA node, so returning NUMA node zero\n",
      "2023-04-29 01:01:47.987690: I tensorflow/core/common_runtime/gpu/gpu_device.cc:1720] Found device 7 with properties: \n",
      "pciBusID: 0000:0c:00.0 name: Tesla V100-SXM3-32GB computeCapability: 7.0\n",
      "coreClock: 1.597GHz coreCount: 80 deviceMemorySize: 31.75GiB deviceMemoryBandwidth: 913.62GiB/s\n",
      "2023-04-29 01:01:47.987758: I tensorflow/stream_executor/platform/default/dso_loader.cc:49] Successfully opened dynamic library libcudart.so.10.1\n",
      "2023-04-29 01:01:47.991485: I tensorflow/stream_executor/platform/default/dso_loader.cc:49] Successfully opened dynamic library libcublas.so.10\n",
      "2023-04-29 01:01:47.991600: I tensorflow/stream_executor/platform/default/dso_loader.cc:49] Successfully opened dynamic library libcublasLt.so.10\n",
      "2023-04-29 01:01:47.994376: I tensorflow/stream_executor/platform/default/dso_loader.cc:49] Successfully opened dynamic library libcufft.so.10\n",
      "2023-04-29 01:01:47.995122: I tensorflow/stream_executor/platform/default/dso_loader.cc:49] Successfully opened dynamic library libcurand.so.10\n",
      "2023-04-29 01:01:47.998681: I tensorflow/stream_executor/platform/default/dso_loader.cc:49] Successfully opened dynamic library libcusolver.so.10\n",
      "2023-04-29 01:01:48.000945: I tensorflow/stream_executor/platform/default/dso_loader.cc:49] Successfully opened dynamic library libcusparse.so.10\n",
      "2023-04-29 01:01:48.011136: I tensorflow/stream_executor/platform/default/dso_loader.cc:49] Successfully opened dynamic library libcudnn.so.7\n",
      "2023-04-29 01:01:48.011380: I tensorflow/stream_executor/cuda/cuda_gpu_executor.cc:941] successful NUMA node read from SysFS had negative value (-1), but there must be at least one NUMA node, so returning NUMA node zero\n",
      "2023-04-29 01:01:48.013133: I tensorflow/stream_executor/cuda/cuda_gpu_executor.cc:941] successful NUMA node read from SysFS had negative value (-1), but there must be at least one NUMA node, so returning NUMA node zero\n",
      "2023-04-29 01:01:48.014820: I tensorflow/stream_executor/cuda/cuda_gpu_executor.cc:941] successful NUMA node read from SysFS had negative value (-1), but there must be at least one NUMA node, so returning NUMA node zero\n",
      "2023-04-29 01:01:48.016422: I tensorflow/stream_executor/cuda/cuda_gpu_executor.cc:941] successful NUMA node read from SysFS had negative value (-1), but there must be at least one NUMA node, so returning NUMA node zero\n",
      "2023-04-29 01:01:48.017692: I tensorflow/stream_executor/cuda/cuda_gpu_executor.cc:941] successful NUMA node read from SysFS had negative value (-1), but there must be at least one NUMA node, so returning NUMA node zero\n",
      "2023-04-29 01:01:48.018923: I tensorflow/stream_executor/cuda/cuda_gpu_executor.cc:941] successful NUMA node read from SysFS had negative value (-1), but there must be at least one NUMA node, so returning NUMA node zero\n",
      "2023-04-29 01:01:48.020660: I tensorflow/stream_executor/cuda/cuda_gpu_executor.cc:941] successful NUMA node read from SysFS had negative value (-1), but there must be at least one NUMA node, so returning NUMA node zero\n",
      "2023-04-29 01:01:48.021895: I tensorflow/stream_executor/cuda/cuda_gpu_executor.cc:941] successful NUMA node read from SysFS had negative value (-1), but there must be at least one NUMA node, so returning NUMA node zero\n",
      "2023-04-29 01:01:48.023570: I tensorflow/stream_executor/cuda/cuda_gpu_executor.cc:941] successful NUMA node read from SysFS had negative value (-1), but there must be at least one NUMA node, so returning NUMA node zero\n",
      "2023-04-29 01:01:48.025200: I tensorflow/stream_executor/cuda/cuda_gpu_executor.cc:941] successful NUMA node read from SysFS had negative value (-1), but there must be at least one NUMA node, so returning NUMA node zero\n",
      "2023-04-29 01:01:48.027000: I tensorflow/stream_executor/cuda/cuda_gpu_executor.cc:941] successful NUMA node read from SysFS had negative value (-1), but there must be at least one NUMA node, so returning NUMA node zero\n",
      "2023-04-29 01:01:48.028629: I tensorflow/stream_executor/cuda/cuda_gpu_executor.cc:941] successful NUMA node read from SysFS had negative value (-1), but there must be at least one NUMA node, so returning NUMA node zero\n",
      "2023-04-29 01:01:48.029876: I tensorflow/stream_executor/cuda/cuda_gpu_executor.cc:941] successful NUMA node read from SysFS had negative value (-1), but there must be at least one NUMA node, so returning NUMA node zero\n",
      "2023-04-29 01:01:48.031107: I tensorflow/stream_executor/cuda/cuda_gpu_executor.cc:941] successful NUMA node read from SysFS had negative value (-1), but there must be at least one NUMA node, so returning NUMA node zero\n",
      "2023-04-29 01:01:48.032799: I tensorflow/stream_executor/cuda/cuda_gpu_executor.cc:941] successful NUMA node read from SysFS had negative value (-1), but there must be at least one NUMA node, so returning NUMA node zero\n",
      "2023-04-29 01:01:48.034001: I tensorflow/stream_executor/cuda/cuda_gpu_executor.cc:941] successful NUMA node read from SysFS had negative value (-1), but there must be at least one NUMA node, so returning NUMA node zero\n",
      "2023-04-29 01:01:48.035596: I tensorflow/core/common_runtime/gpu/gpu_device.cc:1862] Adding visible gpu devices: 0, 1, 2, 3, 4, 5, 6, 7\n"
     ]
    }
   ],
   "source": [
    "import tensorflow as tf\n",
    "from tensorflow import keras\n",
    "\n",
    "os.environ['TF_XLA_FLAGS'] = '--tf_xla_enable_xla_devices'\n",
    "\n",
    "print(tf.__version__)\n",
    "print(\"GPU available:\", len(tf.config.list_physical_devices('GPU')))\n",
    "\n",
    "gpus = tf.config.experimental.list_physical_devices('GPU')\n",
    "tf.config.experimental.set_visible_devices(gpus[1], 'GPU')\n",
    "\n",
    "# tf.compat.v1.disable_eager_execution()\n",
    "tf.config.run_functions_eagerly(True)"
   ]
  },
  {
   "cell_type": "code",
   "execution_count": 4,
   "id": "539f694e",
   "metadata": {},
   "outputs": [],
   "source": [
    "PROJECT_PATH = '/raid/shumnov/music-style-performer/'"
   ]
  },
  {
   "cell_type": "code",
   "execution_count": 5,
   "id": "fc422a30",
   "metadata": {},
   "outputs": [],
   "source": [
    "NOTES_QTY = 16\n",
    "NOTE_PARAMS = 3\n",
    "TEST_LEN = 10000"
   ]
  },
  {
   "cell_type": "code",
   "execution_count": 6,
   "id": "58b1cabb",
   "metadata": {},
   "outputs": [],
   "source": [
    "def prepare(dset):\n",
    "    res = np.delete(dset, (1, 2), axis=2)\n",
    "    \n",
    "    tmp = res[..., 1].copy()\n",
    "    res[..., 1] = res[..., 2]\n",
    "    res[..., 2] = tmp\n",
    "    \n",
    "    # 0 - note\n",
    "    # 1 - duration\n",
    "    # 2 - velocity\n",
    "    \n",
    "    return res"
   ]
  },
  {
   "cell_type": "code",
   "execution_count": 7,
   "id": "6d82689e",
   "metadata": {},
   "outputs": [],
   "source": [
    "def normalize_train(dset):\n",
    "    notes_scaler = sklearn.preprocessing.RobustScaler()\n",
    "    notes_scaler.fit(dset[..., 0])\n",
    "    dset[..., 0] = notes_scaler.transform(dset[..., 0])\n",
    "    \n",
    "    duration_scaler = sklearn.preprocessing.MaxAbsScaler()\n",
    "    duration_scaler.fit(dset[..., 1])\n",
    "    dset[..., 1] = duration_scaler.transform(dset[..., 1])\n",
    "    \n",
    "    dset[..., 2] /= 127\n",
    "    \n",
    "    return (notes_scaler, duration_scaler)\n",
    "\n",
    "def normalize_test(dset, params):\n",
    "    notes_scaler, duration_scaler = params\n",
    "    \n",
    "    dset[..., 0] = notes_scaler.transform(dset[..., 0])\n",
    "    dset[..., 1] = duration_scaler.transform(dset[..., 1])\n",
    "    dset[..., 2] /= 127\n",
    "    "
   ]
  },
  {
   "cell_type": "code",
   "execution_count": 8,
   "id": "e04015ce",
   "metadata": {},
   "outputs": [],
   "source": [
    "def mess_n(lines, n):\n",
    "    mu, std = norm.fit(lines[..., 2].flatten())\n",
    "    \n",
    "    for line in lines:\n",
    "        idxs = random.sample(range(len(line)), n)\n",
    "\n",
    "        for idx in idxs:\n",
    "            line[idx][2] = np.random.normal(mu, std)\n",
    "            \n",
    "def mess(test):\n",
    "    test_messed = test.copy()\n",
    "    for i in range(NOTES_QTY):\n",
    "        mess_n(test_messed[i * TEST_LEN: (i + 1) * TEST_LEN], i+1)\n",
    "        \n",
    "    return test_messed"
   ]
  },
  {
   "cell_type": "code",
   "execution_count": 9,
   "id": "12cf4406",
   "metadata": {},
   "outputs": [],
   "source": [
    "dset = np.load(PROJECT_PATH + 'data/dset16.npy')\n",
    "dset = dset.astype(float)"
   ]
  },
  {
   "cell_type": "code",
   "execution_count": 10,
   "id": "15bdee12",
   "metadata": {},
   "outputs": [],
   "source": [
    "# unique, counts = np.unique(dset[...,3], return_counts=True)\n",
    "# plt.plot(unique, counts, '.-')\n",
    "# plt.show()"
   ]
  },
  {
   "cell_type": "code",
   "execution_count": 11,
   "id": "aad30a3e",
   "metadata": {
    "scrolled": true
   },
   "outputs": [],
   "source": [
    "processed = prepare(dset)\n",
    "np.random.shuffle(processed)"
   ]
  },
  {
   "cell_type": "code",
   "execution_count": 12,
   "id": "89364d97",
   "metadata": {},
   "outputs": [
    {
     "name": "stdout",
     "output_type": "stream",
     "text": [
      "train: (4912011, 16, 3), test: (160000, 16, 3), messed: (160000, 16, 3)\n"
     ]
    }
   ],
   "source": [
    "full_test_len = NOTES_QTY * TEST_LEN\n",
    "\n",
    "train = processed[:-full_test_len] \n",
    "test = processed[-full_test_len:]\n",
    "test_messed = mess(test)\n",
    "\n",
    "params = normalize_train(train)\n",
    "normalize_test(test, params)\n",
    "normalize_test(test_messed, params)\n",
    "\n",
    "print(f'train: {train.shape}, test: {test.shape}, messed: {test_messed.shape}')"
   ]
  },
  {
   "cell_type": "code",
   "execution_count": 13,
   "id": "744a5674",
   "metadata": {},
   "outputs": [
    {
     "data": {
      "image/png": "[encoded data removed]",
      "text/plain": [
       "<Figure size 640x480 with 1 Axes>"
      ]
     },
     "metadata": {},
     "output_type": "display_data"
    }
   ],
   "source": [
    "plt.hist(test_messed[..., 2].flatten(), bins=32, label='messed')\n",
    "plt.hist(test[..., 2].flatten(), bins=32, label='true', alpha=0.9)\n",
    "plt.legend()\n",
    "plt.show()"
   ]
  },
  {
   "cell_type": "markdown",
   "id": "2c55ae1e",
   "metadata": {},
   "source": [
    "# Models"
   ]
  },
  {
   "cell_type": "code",
   "execution_count": 14,
   "id": "2b899f9a",
   "metadata": {},
   "outputs": [],
   "source": [
    "LATENT_DIM = 32\n",
    "I = 0.01 # noise"
   ]
  },
  {
   "cell_type": "markdown",
   "id": "97962cf8",
   "metadata": {},
   "source": [
    "## Autoencoder"
   ]
  },
  {
   "cell_type": "code",
   "execution_count": 15,
   "id": "2c3f732b",
   "metadata": {},
   "outputs": [],
   "source": [
    "class LstmAutoencoder(keras.Model):\n",
    "    def __init__(self):\n",
    "        super(LstmAutoencoder, self).__init__()\n",
    "        \n",
    "        self.build_encoder()\n",
    "        self.build_decoder()\n",
    "        \n",
    "    def build_encoder(self):        \n",
    "        self.encoder = keras.Sequential([\n",
    "            keras.layers.Input(shape=(NOTES_QTY, NOTE_PARAMS)),\n",
    "            keras.layers.LSTM(LATENT_DIM, activation=\"tanh\"),\n",
    "        ])\n",
    "        \n",
    "    def build_decoder(self):\n",
    "        self.decoder = keras.Sequential([\n",
    "            keras.layers.RepeatVector(NOTES_QTY),\n",
    "            keras.layers.LSTM(NOTE_PARAMS, return_sequences=True)\n",
    "        ])\n",
    "\n",
    "    def call(self, x, training=True):\n",
    "        encoded = self.encoder(x, training=training)\n",
    "        decoded = self.decoder(encoded, training=training)\n",
    "        return decoded\n"
   ]
  },
  {
   "cell_type": "code",
   "execution_count": 16,
   "id": "4ded6227",
   "metadata": {},
   "outputs": [],
   "source": [
    "class MultiLayerAutoencoder(keras.Model):\n",
    "    def __init__(self):\n",
    "        super(MultiLayerAutoencoder, self).__init__()\n",
    "        \n",
    "        self.build_encoder()\n",
    "        self.build_decoder()\n",
    "        \n",
    "    def build_encoder(self):        \n",
    "        self.encoder = keras.Sequential([\n",
    "            keras.layers.Flatten(),\n",
    "            \n",
    "            keras.layers.Dense(NOTES_QTY * NOTE_PARAMS, activation='relu'),\n",
    "            keras.layers.Dense(32, activation='relu'),\n",
    "            keras.layers.Dense(LATENT_DIM, activation='tanh'),\n",
    "        ])\n",
    "        \n",
    "    def build_decoder(self):\n",
    "        self.decoder = keras.Sequential([\n",
    "            keras.layers.Input(shape=(LATENT_DIM)),\n",
    "            \n",
    "            keras.layers.Dense(32, activation='relu'),\n",
    "            keras.layers.Dense(32, activation='relu'),\n",
    "            keras.layers.Dense(NOTES_QTY * NOTE_PARAMS, activation='tanh'),\n",
    "            \n",
    "            keras.layers.Reshape((NOTES_QTY, NOTE_PARAMS))\n",
    "        ])\n",
    "\n",
    "    def call(self, x, training=True):\n",
    "        encoded = self.encoder(x, training=training)\n",
    "        decoded = self.decoder(encoded, training=training)\n",
    "        return decoded"
   ]
  },
  {
   "cell_type": "code",
   "execution_count": 17,
   "id": "030109f3",
   "metadata": {
    "scrolled": true
   },
   "outputs": [
    {
     "name": "stderr",
     "output_type": "stream",
     "text": [
      "2023-04-29 01:02:12.606318: I tensorflow/core/platform/cpu_feature_guard.cc:142] This TensorFlow binary is optimized with oneAPI Deep Neural Network Library (oneDNN) to use the following CPU instructions in performance-critical operations:  SSE4.1 SSE4.2 AVX AVX2 AVX512F FMA\n",
      "To enable them in other operations, rebuild TensorFlow with the appropriate compiler flags.\n",
      "2023-04-29 01:02:12.617111: I tensorflow/core/platform/profile_utils/cpu_utils.cc:112] CPU Frequency: 2693670000 Hz\n",
      "2023-04-29 01:02:12.620628: I tensorflow/compiler/xla/service/service.cc:168] XLA service 0x2dbdce0 initialized for platform Host (this does not guarantee that XLA will be used). Devices:\n",
      "2023-04-29 01:02:12.620666: I tensorflow/compiler/xla/service/service.cc:176]   StreamExecutor device (0): Host, Default Version\n",
      "2023-04-29 01:02:12.776756: I tensorflow/stream_executor/cuda/cuda_gpu_executor.cc:941] successful NUMA node read from SysFS had negative value (-1), but there must be at least one NUMA node, so returning NUMA node zero\n",
      "2023-04-29 01:02:12.779060: I tensorflow/compiler/xla/service/service.cc:168] XLA service 0x2f01e30 initialized for platform CUDA (this does not guarantee that XLA will be used). Devices:\n",
      "2023-04-29 01:02:12.779098: I tensorflow/compiler/xla/service/service.cc:176]   StreamExecutor device (0): Tesla V100-SXM3-32GB, Compute Capability 7.0\n",
      "2023-04-29 01:02:12.779890: I tensorflow/stream_executor/cuda/cuda_gpu_executor.cc:941] successful NUMA node read from SysFS had negative value (-1), but there must be at least one NUMA node, so returning NUMA node zero\n",
      "2023-04-29 01:02:12.781574: I tensorflow/core/common_runtime/gpu/gpu_device.cc:1720] Found device 0 with properties: \n",
      "pciBusID: 0000:06:00.0 name: Tesla V100-SXM3-32GB computeCapability: 7.0\n",
      "coreClock: 1.597GHz coreCount: 80 deviceMemorySize: 31.75GiB deviceMemoryBandwidth: 913.62GiB/s\n",
      "2023-04-29 01:02:12.781657: I tensorflow/stream_executor/platform/default/dso_loader.cc:49] Successfully opened dynamic library libcudart.so.10.1\n",
      "2023-04-29 01:02:12.781682: I tensorflow/stream_executor/platform/default/dso_loader.cc:49] Successfully opened dynamic library libcublas.so.10\n",
      "2023-04-29 01:02:12.781696: I tensorflow/stream_executor/platform/default/dso_loader.cc:49] Successfully opened dynamic library libcublasLt.so.10\n",
      "2023-04-29 01:02:12.781709: I tensorflow/stream_executor/platform/default/dso_loader.cc:49] Successfully opened dynamic library libcufft.so.10\n",
      "2023-04-29 01:02:12.781721: I tensorflow/stream_executor/platform/default/dso_loader.cc:49] Successfully opened dynamic library libcurand.so.10\n",
      "2023-04-29 01:02:12.781734: I tensorflow/stream_executor/platform/default/dso_loader.cc:49] Successfully opened dynamic library libcusolver.so.10\n",
      "2023-04-29 01:02:12.781746: I tensorflow/stream_executor/platform/default/dso_loader.cc:49] Successfully opened dynamic library libcusparse.so.10\n",
      "2023-04-29 01:02:12.781768: I tensorflow/stream_executor/platform/default/dso_loader.cc:49] Successfully opened dynamic library libcudnn.so.7\n",
      "2023-04-29 01:02:12.781858: I tensorflow/stream_executor/cuda/cuda_gpu_executor.cc:941] successful NUMA node read from SysFS had negative value (-1), but there must be at least one NUMA node, so returning NUMA node zero\n",
      "2023-04-29 01:02:12.783559: I tensorflow/stream_executor/cuda/cuda_gpu_executor.cc:941] successful NUMA node read from SysFS had negative value (-1), but there must be at least one NUMA node, so returning NUMA node zero\n",
      "2023-04-29 01:02:12.785179: I tensorflow/core/common_runtime/gpu/gpu_device.cc:1862] Adding visible gpu devices: 1\n",
      "2023-04-29 01:02:12.785300: I tensorflow/stream_executor/platform/default/dso_loader.cc:49] Successfully opened dynamic library libcudart.so.10.1\n",
      "2023-04-29 01:02:13.353157: I tensorflow/core/common_runtime/gpu/gpu_device.cc:1261] Device interconnect StreamExecutor with strength 1 edge matrix:\n",
      "2023-04-29 01:02:13.353212: I tensorflow/core/common_runtime/gpu/gpu_device.cc:1267]      1 \n",
      "2023-04-29 01:02:13.353220: I tensorflow/core/common_runtime/gpu/gpu_device.cc:1280] 1:   N \n",
      "2023-04-29 01:02:13.353604: I tensorflow/stream_executor/cuda/cuda_gpu_executor.cc:941] successful NUMA node read from SysFS had negative value (-1), but there must be at least one NUMA node, so returning NUMA node zero\n",
      "2023-04-29 01:02:13.355407: I tensorflow/stream_executor/cuda/cuda_gpu_executor.cc:941] successful NUMA node read from SysFS had negative value (-1), but there must be at least one NUMA node, so returning NUMA node zero\n",
      "2023-04-29 01:02:13.357111: I tensorflow/core/common_runtime/gpu/gpu_device.cc:1406] Created TensorFlow device (/job:localhost/replica:0/task:0/device:GPU:0 with 29840 MB memory) -> physical GPU (device: 1, name: Tesla V100-SXM3-32GB, pci bus id: 0000:06:00.0, compute capability: 7.0)\n",
      "2023-04-29 01:02:13.972125: I tensorflow/stream_executor/platform/default/dso_loader.cc:49] Successfully opened dynamic library libcublas.so.10\n"
     ]
    },
    {
     "name": "stdout",
     "output_type": "stream",
     "text": [
      "(1, 16, 3)\n",
      "(1, 32)\n",
      "(1, 16, 3)\n"
     ]
    }
   ],
   "source": [
    "autoencoder = MultiLayerAutoencoder()\n",
    "\n",
    "test_out = autoencoder(train[0:1], training=False)\n",
    "print(test_out.shape)\n",
    "\n",
    "en_test_out = autoencoder.encoder(train[0:1], training=False)\n",
    "print(en_test_out.shape)\n",
    "\n",
    "de_test_out = autoencoder.decoder(en_test_out, training=False)\n",
    "print(de_test_out.shape)"
   ]
  },
  {
   "cell_type": "code",
   "execution_count": 18,
   "id": "1737a249",
   "metadata": {},
   "outputs": [],
   "source": [
    "autoencoder_optimizer = tf.keras.optimizers.Adam(learning_rate=0.001)"
   ]
  },
  {
   "cell_type": "markdown",
   "id": "d135bd01",
   "metadata": {},
   "source": [
    "## Latent Discriminator"
   ]
  },
  {
   "cell_type": "code",
   "execution_count": 19,
   "id": "3f44ca8d",
   "metadata": {},
   "outputs": [],
   "source": [
    "class LatentDisc(keras.Model):\n",
    "    def __init__(self):\n",
    "        super(LatentDisc, self).__init__()\n",
    "        \n",
    "        # self.l1 = keras.layers.Dense(128, activation='relu')(self.input)\n",
    "        self.l1 = keras.layers.Dense(64, activation='relu')\n",
    "        self.l2 = keras.layers.Dense(32, activation='relu')\n",
    "        self.l3 = keras.layers.Dense(16, activation='relu')\n",
    "        self.outp = keras.layers.Dense(1, activation='sigmoid')\n",
    "        \n",
    "    def call(self, x, training=True):\n",
    "        x = self.l1(x)\n",
    "        x = self.l2(x)\n",
    "        x = self.l3(x)\n",
    "        x = self.outp(x)\n",
    "        return x"
   ]
  },
  {
   "cell_type": "code",
   "execution_count": 20,
   "id": "5a0f055a",
   "metadata": {},
   "outputs": [
    {
     "name": "stdout",
     "output_type": "stream",
     "text": [
      "(1, 1)\n"
     ]
    }
   ],
   "source": [
    "ldisc = LatentDisc()\n",
    "\n",
    "test_out = ldisc(np.ones(shape=(1, LATENT_DIM)), training=False)\n",
    "print(test_out.shape)"
   ]
  },
  {
   "cell_type": "code",
   "execution_count": 21,
   "id": "4da8ab60",
   "metadata": {},
   "outputs": [],
   "source": [
    "ldisc_optimizer = tf.keras.optimizers.Adam(learning_rate=0.001)"
   ]
  },
  {
   "cell_type": "markdown",
   "id": "03bd886e",
   "metadata": {},
   "source": [
    "## Visual Discriminator\n",
    "(and classifier)"
   ]
  },
  {
   "cell_type": "code",
   "execution_count": 22,
   "id": "ea88edad",
   "metadata": {},
   "outputs": [],
   "source": [
    "class LstmVisualDisc(keras.Model):\n",
    "    def __init__(self):\n",
    "        super(LstmVisualDisc, self).__init__()\n",
    "        \n",
    "        self.lstm = keras.layers.LSTM(1)\n",
    "        self.outp = keras.layers.Dense(1, activation='sigmoid')\n",
    "        \n",
    "    def call(self, x, training=True):\n",
    "        x = self.lstm(x)\n",
    "        x = self.outp(x)\n",
    "        return x"
   ]
  },
  {
   "cell_type": "code",
   "execution_count": 23,
   "id": "1fe09838",
   "metadata": {},
   "outputs": [],
   "source": [
    "class MultiLayerVisualDisc(keras.Model):\n",
    "    def __init__(self):\n",
    "        super(MultiLayerVisualDisc, self).__init__()\n",
    "        \n",
    "        self.flatten = keras.layers.Flatten()\n",
    "        self.l1 = keras.layers.Dense(64, activation='relu')\n",
    "        self.l2 = keras.layers.Dense(32, activation='relu')\n",
    "        self.l3 = keras.layers.Dense(16, activation='relu')\n",
    "        self.outp = keras.layers.Dense(1, activation='sigmoid')\n",
    "        \n",
    "    def call(self, x, training=True):\n",
    "        x = self.flatten(x)\n",
    "        x = self.l1(x)\n",
    "        x = self.l2(x)\n",
    "        x = self.l3(x)\n",
    "        x = self.outp(x)\n",
    "        return x"
   ]
  },
  {
   "cell_type": "code",
   "execution_count": 24,
   "id": "dddd546f",
   "metadata": {},
   "outputs": [
    {
     "name": "stdout",
     "output_type": "stream",
     "text": [
      "(1, 1)\n"
     ]
    }
   ],
   "source": [
    "vdisc = MultiLayerVisualDisc()\n",
    "\n",
    "test_out = vdisc(train[0:1], training=False)\n",
    "print(test_out.shape)"
   ]
  },
  {
   "cell_type": "code",
   "execution_count": 25,
   "id": "12015852",
   "metadata": {},
   "outputs": [],
   "source": [
    "vdisc_optimizer = tf.keras.optimizers.Adam(learning_rate=0.001)"
   ]
  },
  {
   "cell_type": "code",
   "execution_count": 26,
   "id": "4742d0be",
   "metadata": {},
   "outputs": [
    {
     "name": "stdout",
     "output_type": "stream",
     "text": [
      "(1, 1)\n"
     ]
    }
   ],
   "source": [
    "classifier = MultiLayerVisualDisc()\n",
    "test_out = classifier(train[0:1], training=False)\n",
    "print(test_out.shape)"
   ]
  },
  {
   "cell_type": "code",
   "execution_count": 27,
   "id": "508e4963",
   "metadata": {},
   "outputs": [],
   "source": [
    "classifier_optimizer = tf.keras.optimizers.Adam(learning_rate=0.001)"
   ]
  },
  {
   "cell_type": "markdown",
   "id": "9a8d2b0d",
   "metadata": {},
   "source": [
    "# Helpers"
   ]
  },
  {
   "cell_type": "code",
   "execution_count": 28,
   "id": "672b843b",
   "metadata": {},
   "outputs": [],
   "source": [
    "checkpoint_dir = PROJECT_PATH + 'train_data/discriminator/checkpoints'\n",
    "checkpoint_prefix = os.path.join(checkpoint_dir, \"ckpt\")\n",
    "checkpoint = tf.train.Checkpoint(autoencoder_optimizer=autoencoder_optimizer,\n",
    "                                ldisc_optimizer=ldisc_optimizer,\n",
    "                                vdisc_optimizer=vdisc_optimizer,\n",
    "                                classifier_optimizer=classifier_optimizer,\n",
    "                                autoencoder=autoencoder,\n",
    "                                ldisc=ldisc,\n",
    "                                vdisc=vdisc,\n",
    "                                classifier=classifier)"
   ]
  },
  {
   "cell_type": "code",
   "execution_count": 29,
   "id": "1e922f65",
   "metadata": {},
   "outputs": [],
   "source": [
    "log_dir=PROJECT_PATH + 'train_data/discriminator/logs/'\n",
    "\n",
    "summary_writer = tf.summary.create_file_writer(\n",
    "    log_dir + \"fit/\" + datetime.datetime.now().strftime(\"%Y%m%d-%H%M%S\"))"
   ]
  },
  {
   "cell_type": "code",
   "execution_count": 30,
   "id": "80cd5329",
   "metadata": {},
   "outputs": [],
   "source": [
    "bce = tf.keras.losses.BinaryCrossentropy(from_logits=True)\n",
    "mse = tf.keras.losses.MeanSquaredError()"
   ]
  },
  {
   "cell_type": "code",
   "execution_count": 31,
   "id": "945adad8",
   "metadata": {},
   "outputs": [],
   "source": [
    "l2_optimizer = tf.keras.optimizers.SGD(learning_rate=0.01, momentum=0.0)"
   ]
  },
  {
   "cell_type": "markdown",
   "id": "a78a16fd",
   "metadata": {},
   "source": [
    "# Prediction"
   ]
  },
  {
   "cell_type": "code",
   "execution_count": 32,
   "id": "87d657b7",
   "metadata": {},
   "outputs": [],
   "source": [
    "from sklearn.metrics import mean_squared_error"
   ]
  },
  {
   "cell_type": "code",
   "execution_count": 33,
   "id": "b9975802",
   "metadata": {},
   "outputs": [],
   "source": [
    "# @tf.function\n",
    "# def mse_pair(x):\n",
    "#     return mse(x[0], x[1])\n",
    "# \n",
    "# @tf.function\n",
    "# def predict(x):\n",
    "#     y = autoencoder(x)\n",
    "#     \n",
    "#     stacked = tf.stack([x, y], axis=1)\n",
    "#     err = tf.map_fn(mse_pair, stacked)\n",
    "#     \n",
    "#     return err"
   ]
  },
  {
   "cell_type": "code",
   "execution_count": 97,
   "id": "884017de",
   "metadata": {},
   "outputs": [],
   "source": [
    "@tf.function\n",
    "def predict(x):\n",
    "    y = autoencoder(x)\n",
    "    \n",
    "    err = tf.math.square(x[..., 2] - y[..., 2])\n",
    "    # err = tf.math.reduce_mean(err, axis=2)\n",
    "    err = tf.math.reduce_mean(err, axis=1)\n",
    "    \n",
    "    err = tf.math.sqrt(err)\n",
    "    \n",
    "    return err"
   ]
  },
  {
   "cell_type": "code",
   "execution_count": 98,
   "id": "20940ea5",
   "metadata": {},
   "outputs": [
    {
     "data": {
      "text/plain": [
       "array([0.08173571, 0.03815147, 0.09382783, ..., 0.07114984, 0.10290299,\n",
       "       0.03796435], dtype=float32)"
      ]
     },
     "execution_count": 98,
     "metadata": {},
     "output_type": "execute_result"
    }
   ],
   "source": [
    "predict(test).numpy()"
   ]
  },
  {
   "cell_type": "markdown",
   "id": "d2f99530",
   "metadata": {},
   "source": [
    "# Training"
   ]
  },
  {
   "cell_type": "code",
   "execution_count": 35,
   "id": "88fa9e88",
   "metadata": {},
   "outputs": [],
   "source": [
    "INM_ITERS = 5\n",
    "LAMBDA = 2\n",
    "EPOCHS = 10\n",
    "BATCH_SIZE = 32"
   ]
  },
  {
   "cell_type": "code",
   "execution_count": 36,
   "id": "6b27eb25",
   "metadata": {},
   "outputs": [],
   "source": [
    "train_dataset = tf.data.Dataset.from_tensor_slices(train).batch(BATCH_SIZE)"
   ]
  },
  {
   "cell_type": "code",
   "execution_count": 37,
   "id": "29fc2a6f",
   "metadata": {},
   "outputs": [],
   "source": [
    "@tf.function\n",
    "def train_step(x, step):\n",
    "    batch_size = x.shape[0]\n",
    "    zeros = np.zeros((batch_size, 1))\n",
    "    ones = np.ones((batch_size, 1))\n",
    "    \n",
    "    n = np.random.normal(0, I, x.shape)\n",
    "    x_noisy = x + n\n",
    "    \n",
    "    l1 = autoencoder.encoder(x_noisy)\n",
    "    l2 = tf.Variable(np.random.uniform(-1, 1, (batch_size, LATENT_DIM)))\n",
    "    \n",
    "    #\n",
    "    # Classifier update\n",
    "    #\n",
    "    \n",
    "    with tf.GradientTape() as gt:\n",
    "        l_classifier = bce(zeros, classifier(autoencoder.decoder(l2))) \\\n",
    "                        + bce(ones, classifier(autoencoder.decoder(l1)))\n",
    "        \n",
    "    classifier_gradients = gt.gradient(l_classifier, classifier.trainable_variables)\n",
    "    classifier_optimizer.apply_gradients(zip(classifier_gradients, classifier.trainable_variables)) \n",
    "    \n",
    "    #\n",
    "    # Discriminator update\n",
    "    #\n",
    "    \n",
    "    with tf.GradientTape(persistent=True) as gt:\n",
    "        l_latent = bce(zeros, ldisc(l1)) \\\n",
    "                    + bce(ones, ldisc(l2))\n",
    "        \n",
    "        l_visual = bce(zeros, vdisc(autoencoder.decoder(l2))) \\\n",
    "                    + bce(ones, vdisc(x))\n",
    "        \n",
    "    ldisc_gradients = gt.gradient(l_latent, ldisc.trainable_variables)\n",
    "    ldisc_optimizer.apply_gradients(zip(ldisc_gradients, ldisc.trainable_variables))\n",
    "    \n",
    "    vdisc_gradients = gt.gradient(l_visual, vdisc.trainable_variables)\n",
    "    vdisc_optimizer.apply_gradients(zip(vdisc_gradients, vdisc.trainable_variables))\n",
    "    \n",
    "    #\n",
    "    # Informative-negative mining\n",
    "    #\n",
    "    \n",
    "    for i in range(INM_ITERS):\n",
    "        with tf.GradientTape() as gt:\n",
    "            l_l2 = bce(ones, classifier(autoencoder.decoder(l2)))\n",
    "        \n",
    "        l2_gradients = gt.gradient(l_l2, l2)\n",
    "        l2_optimizer.apply_gradients([(l2_gradients, l2)])\n",
    "    \n",
    "    #\n",
    "    # Generator update\n",
    "    #\n",
    "    \n",
    "    with tf.GradientTape() as gt:\n",
    "        gt.watch(autoencoder.variables)\n",
    "        \n",
    "        l1 = autoencoder.encoder(x_noisy)\n",
    "        \n",
    "        l_ae_latent = bce(ones, ldisc(l1))\n",
    "        l_ae_visual = bce(ones, vdisc(autoencoder.decoder(l2)))\n",
    "        l_ae_mse = mse(x, autoencoder(x_noisy))\n",
    "        \n",
    "        total_ae_loss = l_ae_latent + l_ae_visual + LAMBDA * l_ae_mse\n",
    "        \n",
    "    ae_gradients = gt.gradient(total_ae_loss, autoencoder.variables)\n",
    "    autoencoder_optimizer.apply_gradients(zip(ae_gradients, autoencoder.variables))\n",
    "      \n",
    "    #\n",
    "    # Logging \n",
    "    #\n",
    "    \n",
    "    with summary_writer.as_default():\n",
    "        tf.summary.scalar('l_classifier', l_classifier, step=step)\n",
    "        tf.summary.scalar('l_latent', l_latent, step=step)\n",
    "        tf.summary.scalar('l_visual', l_visual, step=step)\n",
    "        tf.summary.scalar('l_ae_mse', l_ae_mse, step=step)\n",
    "        tf.summary.scalar('l_ae_latent', l_ae_latent, step=step)\n",
    "        tf.summary.scalar('l_ae_visual', l_ae_visual, step=step)\n",
    "        tf.summary.scalar('l_ae_total', total_ae_loss, step=step)\n",
    " "
   ]
  },
  {
   "cell_type": "code",
   "execution_count": 38,
   "id": "c54d899e",
   "metadata": {},
   "outputs": [],
   "source": [
    "# %reload_ext tensorboard\n",
    "# %tensorboard --logdir {log_dir} --host \"0.0.0.0\""
   ]
  },
  {
   "cell_type": "code",
   "execution_count": 44,
   "id": "18291c88",
   "metadata": {},
   "outputs": [
    {
     "data": {
      "text/plain": [
       "<tensorflow.python.training.tracking.util.CheckpointLoadStatus at 0x7fdffc166fd0>"
      ]
     },
     "execution_count": 44,
     "metadata": {},
     "output_type": "execute_result"
    }
   ],
   "source": [
    "checkpoint.restore(checkpoint_dir + '/ckpt-1')"
   ]
  },
  {
   "cell_type": "code",
   "execution_count": 40,
   "id": "b1c25cee",
   "metadata": {},
   "outputs": [],
   "source": [
    "@tf.function\n",
    "def fit(start, epochs):\n",
    "    step = 0\n",
    "    for epoch in range(start, start + epochs):\n",
    "        for batch in train_dataset:\n",
    "            train_step(batch, tf.cast(step, tf.int64))\n",
    "            \n",
    "            if (step+1) % 1000 == 0:\n",
    "                print('.', end='', flush=True)\n",
    "                \n",
    "            step += 1\n",
    "                \n",
    "        checkpoint.save(file_prefix=checkpoint_prefix)"
   ]
  },
  {
   "cell_type": "code",
   "execution_count": null,
   "id": "502ab901",
   "metadata": {
    "scrolled": false
   },
   "outputs": [
    {
     "name": "stdout",
     "output_type": "stream",
     "text": [
      "."
     ]
    }
   ],
   "source": [
    "fit(0, 10)"
   ]
  },
  {
   "cell_type": "markdown",
   "id": "6153c2b0",
   "metadata": {},
   "source": [
    "# Validate"
   ]
  },
  {
   "cell_type": "code",
   "execution_count": 99,
   "id": "af818982",
   "metadata": {},
   "outputs": [],
   "source": [
    "true_predict = predict(test).numpy()\n",
    "messed_predict = predict(test_messed).numpy()\n",
    "\n",
    "groups = [(true_predict[i:i+TEST_LEN], messed_predict[i:i+TEST_LEN]) for i in range(0, len(test), TEST_LEN)]"
   ]
  },
  {
   "cell_type": "code",
   "execution_count": 161,
   "id": "85e711b9",
   "metadata": {},
   "outputs": [],
   "source": [
    "def show(groups):\n",
    "    x = list(range(1, NOTES_QTY + 1))\n",
    "    y_mean = []\n",
    "    y_var = []\n",
    "    \n",
    "    diffs = []\n",
    "\n",
    "    for i in range(NOTES_QTY):\n",
    "        diff = groups[i][1] - groups[i][0]\n",
    "        diffs.append(diff)\n",
    "\n",
    "        m = np.mean(diff)\n",
    "        var = np.std(diff) / m\n",
    "\n",
    "        y_mean.append(m)\n",
    "        y_var.append(var)\n",
    "\n",
    "    fig, axs = plt.subplots(3, 2, figsize=(10, 10))\n",
    "    \n",
    "    axs[0][0].title.set_text('Diff - Average')\n",
    "    axs[0][0].plot(x, y_mean, 'o-')\n",
    "    \n",
    "    axs[0][1].title.set_text('Diff - Coefficient of variation')\n",
    "    axs[0][1].plot(x, y_var, 'o-')\n",
    "    \n",
    "    axs[1][0].title.set_text('Diff 1-2')\n",
    "    for i in range(0, 2):\n",
    "        axs[1][0].hist(diffs[i], bins=30, label=str(i + 1), alpha=0.5)\n",
    "    axs[1][0].legend()\n",
    "    \n",
    "    axs[1][1].title.set_text('Diff 3-4')\n",
    "    for i in range(2, 4):\n",
    "        axs[1][1].hist(diffs[i], bins=30, label=str(i + 1), alpha=0.5)\n",
    "    axs[1][1].legend()\n",
    "    \n",
    "    axs[2][0].title.set_text('Diff 8-9')\n",
    "    for i in range(7, 9):\n",
    "        axs[2][0].hist(diffs[i], bins=30, label=str(i + 1), alpha=0.5)\n",
    "    axs[2][0].legend()\n",
    "    \n",
    "    axs[2][1].title.set_text('Diff 15-16')\n",
    "    for i in range(14, 16):\n",
    "        axs[2][1].hist(diffs[i], bins=30, label=str(i + 1), alpha=0.5)\n",
    "    axs[2][1].legend()\n",
    "    \n",
    "    plt.subplots_adjust(hspace=0.3)\n",
    "    plt.show()"
   ]
  },
  {
   "cell_type": "code",
   "execution_count": 162,
   "id": "5f47b9a9",
   "metadata": {},
   "outputs": [
    {
     "data": {
      "image/png": "[encoded data removed]",
      "text/plain": [
       "<Figure size 1000x1000 with 6 Axes>"
      ]
     },
     "metadata": {},
     "output_type": "display_data"
    }
   ],
   "source": [
    "show(groups)"
   ]
  },
  {
   "cell_type": "code",
   "execution_count": 116,
   "id": "fc359772",
   "metadata": {},
   "outputs": [
    {
     "data": {
      "image/png": "[encoded data removed]",
      "text/plain": [
       "<Figure size 1000x700 with 4 Axes>"
      ]
     },
     "metadata": {},
     "output_type": "display_data"
    }
   ],
   "source": [
    "show(groups)"
   ]
  },
  {
   "cell_type": "code",
   "execution_count": null,
   "id": "8aec216b",
   "metadata": {},
   "outputs": [],
   "source": [
    "plt.hist()"
   ]
  }
 ],
 "metadata": {
  "kernelspec": {
   "display_name": "Python 3 (ipykernel)",
   "language": "python",
   "name": "python3"
  },
  "language_info": {
   "codemirror_mode": {
    "name": "ipython",
    "version": 3
   },
   "file_extension": ".py",
   "mimetype": "text/x-python",
   "name": "python",
   "nbconvert_exporter": "python",
   "pygments_lexer": "ipython3",
   "version": "3.9.16"
  }
 },
 "nbformat": 4,
 "nbformat_minor": 5
}
