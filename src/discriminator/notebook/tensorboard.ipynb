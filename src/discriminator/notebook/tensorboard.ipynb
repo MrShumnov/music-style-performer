{
 "cells": [
  {
   "cell_type": "code",
   "execution_count": 5,
   "id": "29442ccc",
   "metadata": {},
   "outputs": [],
   "source": [
    "import os\n",
    "os.environ['XLA_FLAGS'] = '--xla_gpu_cuda_data_dir=/usr/lib/cuda'"
   ]
  },
  {
   "cell_type": "code",
   "execution_count": 1,
   "id": "578a95c0",
   "metadata": {},
   "outputs": [
    {
     "data": {
      "text/html": [
       "\n",
       "      <iframe id=\"tensorboard-frame-1aaa3ce07bc541a6\" width=\"100%\" height=\"800\" frameborder=\"0\">\n",
       "      </iframe>\n",
       "      <script>\n",
       "        (function() {\n",
       "          const frame = document.getElementById(\"tensorboard-frame-1aaa3ce07bc541a6\");\n",
       "          const url = new URL(\"/\", window.location);\n",
       "          const port = 6014;\n",
       "          if (port) {\n",
       "            url.port = port;\n",
       "          }\n",
       "          frame.src = url;\n",
       "        })();\n",
       "      </script>\n",
       "    "
      ],
      "text/plain": [
       "<IPython.core.display.HTML object>"
      ]
     },
     "metadata": {},
     "output_type": "display_data"
    }
   ],
   "source": [
    "%reload_ext tensorboard\n",
    "%tensorboard --logdir {'/raid/shumnov/music-style-performer/traindata/vae/'} --host \"0.0.0.0\" --port=6014"
   ]
  },
  {
   "cell_type": "code",
   "execution_count": 19,
   "id": "d69f7797",
   "metadata": {},
   "outputs": [],
   "source": [
    "!kill 25515       "
   ]
  },
  {
   "cell_type": "code",
   "execution_count": 18,
   "id": "165f468b",
   "metadata": {},
   "outputs": [
    {
     "name": "stdout",
     "output_type": "stream",
     "text": [
      "25515 /raid/shumnov/anaconda3/envs/tf/bin/python /raid/shumnov/anaconda3/envs/tf/bin/tensorboard --logdir /raid/shumnov/music-style-performer/traindata/0011/logs/ --host 0.0.0.0 --port=6014\r\n"
     ]
    }
   ],
   "source": [
    "!pgrep tensorboard -a"
   ]
  },
  {
   "cell_type": "code",
   "execution_count": 2,
   "id": "9f3d3777",
   "metadata": {},
   "outputs": [
    {
     "data": {
      "text/html": [
       "\n",
       "      <iframe id=\"tensorboard-frame-5c07c6690718421d\" width=\"100%\" height=\"800\" frameborder=\"0\">\n",
       "      </iframe>\n",
       "      <script>\n",
       "        (function() {\n",
       "          const frame = document.getElementById(\"tensorboard-frame-5c07c6690718421d\");\n",
       "          const url = new URL(\"/\", window.location);\n",
       "          const port = 6015;\n",
       "          if (port) {\n",
       "            url.port = port;\n",
       "          }\n",
       "          frame.src = url;\n",
       "        })();\n",
       "      </script>\n",
       "    "
      ],
      "text/plain": [
       "<IPython.core.display.HTML object>"
      ]
     },
     "metadata": {},
     "output_type": "display_data"
    }
   ],
   "source": [
    "%reload_ext tensorboard\n",
    "%tensorboard --logdir {'/raid/shumnov/music-style-performer/traindata/'} --host \"0.0.0.0\" --port=6015"
   ]
  },
  {
   "cell_type": "code",
   "execution_count": null,
   "id": "42f9de39",
   "metadata": {},
   "outputs": [],
   "source": []
  }
 ],
 "metadata": {
  "kernelspec": {
   "display_name": "Python 3 (ipykernel)",
   "language": "python",
   "name": "python3"
  },
  "language_info": {
   "codemirror_mode": {
    "name": "ipython",
    "version": 3
   },
   "file_extension": ".py",
   "mimetype": "text/x-python",
   "name": "python",
   "nbconvert_exporter": "python",
   "pygments_lexer": "ipython3",
   "version": "3.9.16"
  }
 },
 "nbformat": 4,
 "nbformat_minor": 5
}
