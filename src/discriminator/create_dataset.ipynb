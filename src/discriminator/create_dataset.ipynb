{
 "cells": [
  {
   "cell_type": "code",
   "execution_count": 1,
   "id": "dd43e310",
   "metadata": {},
   "outputs": [],
   "source": [
    "import os\n",
    "import numpy as np\n",
    "import mido\n",
    "import glob\n",
    "from matplotlib import pyplot as plt"
   ]
  },
  {
   "cell_type": "code",
   "execution_count": 2,
   "id": "f8ed2234",
   "metadata": {},
   "outputs": [],
   "source": [
    "FILES_PATH = r'C:\\Users\\mrshu\\reps\\music-style-performer\\data\\GiantMIDI-voices/'"
   ]
  },
  {
   "cell_type": "code",
   "execution_count": 3,
   "id": "723b8f47",
   "metadata": {},
   "outputs": [],
   "source": [
    "mid = mido.MidiFile(FILES_PATH + 'Aloiz, Vladislav, 3 Morceaux, Op.33, CO3wGLavE4Y.mid')"
   ]
  },
  {
   "cell_type": "code",
   "execution_count": 4,
   "id": "67bd5fee",
   "metadata": {},
   "outputs": [],
   "source": [
    "def Note(tone, time, duration, velocity, dt):\n",
    "    return [tone, time, duration, velocity, dt]"
   ]
  },
  {
   "cell_type": "code",
   "execution_count": 5,
   "id": "fb180f86",
   "metadata": {},
   "outputs": [
    {
     "name": "stdout",
     "output_type": "stream",
     "text": [
      "Using matplotlib backend: TkAgg\n"
     ]
    }
   ],
   "source": [
    "def graph():\n",
    "    track = mid.tracks[0]\n",
    "\n",
    "    x = [[]]\n",
    "    y = [[]]\n",
    "\n",
    "    time = 0\n",
    "    for m in track:\n",
    "        time += m.time\n",
    "        #if m.type == 'note_on' and m.time > 1000:        \n",
    "        #    x.append([])\n",
    "        #    y.append([])\n",
    "        if m.type == 'note_on' and m.velocity > 0:\n",
    "            y[-1].append(m.note)\n",
    "            x[-1].append(time)\n",
    "        elif m.type == 'note_off' or (m.type == 'note_on' and m.velocity == 0):\n",
    "            y[-1].append(y[-1][-1])\n",
    "            x[-1].append(time)\n",
    "\n",
    "    %matplotlib\n",
    "    for i in range(len(x)):\n",
    "        plt.plot(x[i][:10], y[i][:10], '.-')\n",
    "    plt.show()\n",
    "    \n",
    "graph()"
   ]
  },
  {
   "cell_type": "code",
   "execution_count": 6,
   "id": "f4770fb8",
   "metadata": {},
   "outputs": [],
   "source": [
    "LINE_MIN_LENGTH = 16\n",
    "FIXED_LINE_LENGTH = 16"
   ]
  },
  {
   "cell_type": "code",
   "execution_count": 7,
   "id": "2d2066a6",
   "metadata": {},
   "outputs": [],
   "source": [
    "def track2line(track):\n",
    "    line = []\n",
    "\n",
    "    time = 0\n",
    "    for m in track:\n",
    "        time += m.time\n",
    "\n",
    "        if m.type == 'note_on' and m.velocity > 0:\n",
    "            if len(line) > 0:\n",
    "                line[-1][4] = time - line[-1][1]\n",
    "            line.append(Note(m.note, time, -1, m.velocity, -1))\n",
    "            \n",
    "        elif m.type == 'note_off' or (m.type == 'note_on' and m.velocity == 0):\n",
    "            i = 1\n",
    "            while line[-i][0] != m.note:\n",
    "                i += 1\n",
    "            \n",
    "            line[-i][2] = time - line[-1][1]\n",
    "            \n",
    "    return line\n",
    "\n",
    "            \n",
    "def split_line(line):\n",
    "    lines = []\n",
    "    prev = 0\n",
    "    \n",
    "    for i in range(1, len(line)):\n",
    "        diff = line[i][1] - line[i - 1][1]\n",
    "        \n",
    "        if diff > 10000 or (line[i - 1][2] > 100 and line[i - 1][2] * 5 < diff):\n",
    "            if i - prev > LINE_MIN_LENGTH:\n",
    "                lines.append(line[prev:i])\n",
    "                lines[-1][-1][4] = lines[-1][-1][2]\n",
    "            prev = i\n",
    "            \n",
    "    if len(line) - prev > LINE_MIN_LENGTH:\n",
    "        lines.append(line[prev:])\n",
    "        \n",
    "    return lines\n",
    "            \n",
    "    \n",
    "def track2lines(track):\n",
    "    line = track2line(track)\n",
    "    splitted = split_line(line)\n",
    "    \n",
    "    return splitted\n",
    "\n",
    "\n",
    "def mid2lines(mid):\n",
    "    lines = []\n",
    "    \n",
    "    for t in mid.tracks:\n",
    "        lines.extend(track2lines(t))\n",
    "        \n",
    "    return lines\n"
   ]
  },
  {
   "cell_type": "code",
   "execution_count": 8,
   "id": "0fe5cfe4",
   "metadata": {},
   "outputs": [
    {
     "name": "stdout",
     "output_type": "stream",
     "text": [
      "23\n"
     ]
    }
   ],
   "source": [
    "lines = mid2lines(mid)\n",
    "\n",
    "for l in lines:\n",
    "    x = []\n",
    "    for i in l:\n",
    "        x.extend([i[1], i[1] + i[4]])\n",
    "        \n",
    "    y = []\n",
    "    for i in l:\n",
    "        y.extend([i[3], i[3]])\n",
    "    \n",
    "    plt.plot(x, y, '.-')\n",
    "    \n",
    "plt.show()\n",
    "\n",
    "print(len(lines))"
   ]
  },
  {
   "cell_type": "code",
   "execution_count": 9,
   "id": "f4ce9fcd",
   "metadata": {},
   "outputs": [],
   "source": [
    "from numpy.lib.stride_tricks import sliding_window_view\n",
    "\n",
    "def stride_line(line):\n",
    "    line = np.array(line, dtype=int)\n",
    "\n",
    "    prev = line[0][0]\n",
    "    line[0][0] = 0\n",
    "    for i in range(1, len(line)):\n",
    "        line[i][0] = line[i][0] - prev\n",
    "        prev += line[i][0]\n",
    "\n",
    "    line[..., 1] -= line[0][1]\n",
    "\n",
    "    return np.squeeze(sliding_window_view(line, (FIXED_LINE_LENGTH, 5)))\n",
    "    \n",
    "def stride(lines):\n",
    "    res = stride_line(lines[0])\n",
    "    \n",
    "    for l in lines[1:]:\n",
    "        line_strided = stride_line(l)\n",
    "        res = np.append(res, line_strided, axis=0)\n",
    "    \n",
    "    return res\n"
   ]
  },
  {
   "cell_type": "code",
   "execution_count": 10,
   "id": "937e296a",
   "metadata": {
    "scrolled": true
   },
   "outputs": [
    {
     "name": "stdout",
     "output_type": "stream",
     "text": [
      "(306, 16, 5)\n",
      "[[[   0    0  535   94 1057]\n",
      "  [   1 1057  438   93 1072]\n",
      "  [   1 2129  321   83  736]\n",
      "  ...\n",
      "  [  -2 6314   69   73  163]\n",
      "  [   2 6477   66   80  352]\n",
      "  [  -2 6829   98   77  322]]\n",
      "\n",
      " [[   1 1057  438   93 1072]\n",
      "  [   1 2129  321   83  736]\n",
      "  [   1 2865  369   41  434]\n",
      "  ...\n",
      "  [   2 6477   66   80  352]\n",
      "  [  -2 6829   98   77  322]\n",
      "  [   4 7151   48   83  158]]\n",
      "\n",
      " [[   1 2129  321   83  736]\n",
      "  [   1 2865  369   41  434]\n",
      "  [   2 3299  127   39  380]\n",
      "  ...\n",
      "  [  -2 6829   98   77  322]\n",
      "  [   4 7151   48   83  158]\n",
      "  [   0 7309   48   81  158]]\n",
      "\n",
      " ...\n",
      "\n",
      " [[   4 1376   38   77  130]\n",
      "  [  -4 1506  219   87  230]\n",
      "  [   0 1736  112   67  123]\n",
      "  ...\n",
      "  [   0 3841    4   84  584]\n",
      "  [  -2 4425  113   81  290]\n",
      "  [   2 4715   98   71  407]]\n",
      "\n",
      " [[  -4 1506  219   87  230]\n",
      "  [   0 1736  112   67  123]\n",
      "  [   4 1859   38   76  120]\n",
      "  ...\n",
      "  [  -2 4425  113   81  290]\n",
      "  [   2 4715   98   71  407]\n",
      "  [  -4 5122   23   57  942]]\n",
      "\n",
      " [[   0 1736  112   67  123]\n",
      "  [   4 1859   38   76  120]\n",
      "  [  -2 1979   43   86  236]\n",
      "  ...\n",
      "  [   2 4715   98   71  407]\n",
      "  [  -4 5122   23   57  942]\n",
      "  [   7 6064 1237   82 1237]]]\n"
     ]
    }
   ],
   "source": [
    "np.set_printoptions(suppress=True)\n",
    "\n",
    "strided = stride(lines)\n",
    "print(strided.shape)\n",
    "print(strided)"
   ]
  },
  {
   "cell_type": "code",
   "execution_count": 11,
   "id": "8a99c559",
   "metadata": {},
   "outputs": [],
   "source": [
    "def process_file(fname):\n",
    "    mid = mido.MidiFile(FILES_PATH + fname)\n",
    "    \n",
    "    lines = mid2lines(mid)\n",
    "    if len(lines) > 0:\n",
    "        strided = stride(lines)\n",
    "        return strided\n",
    "\n",
    "\n",
    "def process_files(filenames):\n",
    "    res = process_file(filenames[0])\n",
    "    \n",
    "    for fname in filenames[1:]:\n",
    "        processed = process_file(fname)\n",
    "        if processed is not None:\n",
    "            res = np.append(res, processed, axis=0)\n",
    "        \n",
    "    return res"
   ]
  },
  {
   "cell_type": "code",
   "execution_count": 12,
   "id": "77de77d2",
   "metadata": {},
   "outputs": [
    {
     "name": "stdout",
     "output_type": "stream",
     "text": [
      "(5072011, 16, 5)\n"
     ]
    }
   ],
   "source": [
    "res = process_files(os.listdir(FILES_PATH))\n",
    "    \n",
    "print(res.shape)"
   ]
  },
  {
   "cell_type": "code",
   "execution_count": 13,
   "id": "e0dbf035",
   "metadata": {},
   "outputs": [],
   "source": [
    "np.save(r'C:\\Users\\mrshu\\reps\\music-style-performer\\data\\dset16.npy', res)"
   ]
  },
  {
   "cell_type": "code",
   "execution_count": 352,
   "id": "956ad71f",
   "metadata": {},
   "outputs": [],
   "source": [
    "_ = plt.hist(res[..., 0].flatten(), bins=range(-20, 20))"
   ]
  },
  {
   "cell_type": "code",
   "execution_count": 353,
   "id": "a9514d95",
   "metadata": {},
   "outputs": [],
   "source": [
    "_ = plt.hist(res[..., 3].flatten(), bins=100)"
   ]
  },
  {
   "cell_type": "code",
   "execution_count": null,
   "id": "efc38e03",
   "metadata": {},
   "outputs": [],
   "source": []
  }
 ],
 "metadata": {
  "kernelspec": {
   "display_name": "Python 3 (ipykernel)",
   "language": "python",
   "name": "python3"
  },
  "language_info": {
   "codemirror_mode": {
    "name": "ipython",
    "version": 3
   },
   "file_extension": ".py",
   "mimetype": "text/x-python",
   "name": "python",
   "nbconvert_exporter": "python",
   "pygments_lexer": "ipython3",
   "version": "3.7.9"
  }
 },
 "nbformat": 4,
 "nbformat_minor": 5
}
