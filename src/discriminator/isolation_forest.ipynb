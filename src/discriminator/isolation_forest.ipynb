{
 "cells": [
  {
   "cell_type": "code",
   "execution_count": 86,
   "id": "078651c6",
   "metadata": {},
   "outputs": [],
   "source": [
    "import numpy as np\n",
    "import random\n",
    "import sklearn\n",
    "from sklearn import metrics, ensemble\n",
    "from matplotlib import pyplot as plt\n",
    "\n",
    "np.set_printoptions(suppress=True)\n",
    "np.random.seed(100)\n",
    "random.seed(100)"
   ]
  },
  {
   "cell_type": "code",
   "execution_count": 28,
   "id": "58b1cabb",
   "metadata": {},
   "outputs": [],
   "source": [
    "def prepare(dset):\n",
    "    res = np.delete(dset, (1, 2), axis=2)\n",
    "    \n",
    "    tmp = res[..., 1].copy()\n",
    "    res[..., 1] = res[..., 2]\n",
    "    res[..., 2] = tmp\n",
    "    \n",
    "    return res"
   ]
  },
  {
   "cell_type": "code",
   "execution_count": 96,
   "id": "e04015ce",
   "metadata": {},
   "outputs": [],
   "source": [
    "def messup(lines, n):\n",
    "    for line in lines:\n",
    "        idxs = random.sample(range(len(line)), n)\n",
    "\n",
    "        for idx in idxs:\n",
    "            line[idx][2] = random.randint(10, 120)"
   ]
  },
  {
   "cell_type": "code",
   "execution_count": 72,
   "id": "12cf4406",
   "metadata": {},
   "outputs": [],
   "source": [
    "dset = np.load(r'C:\\Users\\mrshu\\reps\\music-style-performer\\data\\dset1.npy')"
   ]
  },
  {
   "cell_type": "code",
   "execution_count": 73,
   "id": "aad30a3e",
   "metadata": {
    "scrolled": true
   },
   "outputs": [],
   "source": [
    "processed = prepare(dset)\n",
    "np.random.shuffle(processed)"
   ]
  },
  {
   "cell_type": "code",
   "execution_count": 74,
   "id": "7b99e891",
   "metadata": {},
   "outputs": [
    {
     "name": "stdout",
     "output_type": "stream",
     "text": [
      "(6548538, 10, 3)\n"
     ]
    }
   ],
   "source": [
    "print(processed.shape)"
   ]
  },
  {
   "cell_type": "code",
   "execution_count": 75,
   "id": "89364d97",
   "metadata": {},
   "outputs": [
    {
     "name": "stdout",
     "output_type": "stream",
     "text": [
      "train: (6448538, 10, 3), test: (100000, 10, 3)\n"
     ]
    }
   ],
   "source": [
    "train = processed[:-100000] \n",
    "test = processed[-100000:]\n",
    "\n",
    "print(f'train: {train.shape}, test: {test.shape}')"
   ]
  },
  {
   "cell_type": "code",
   "execution_count": 97,
   "id": "e84cf7d4",
   "metadata": {},
   "outputs": [],
   "source": [
    "test_messed = [test[i * 10000: (i + 1) * 10000].copy() for i in range(10)]\n",
    "for i in range(10):\n",
    "    messup(test_messed[i], i + 1)"
   ]
  },
  {
   "cell_type": "code",
   "execution_count": 115,
   "id": "744a5674",
   "metadata": {},
   "outputs": [],
   "source": [
    "train_flatten = np.reshape(train.copy()[..., 2], (len(train), 10))\n",
    "test_flatten = np.reshape(test.copy()[..., 2], (len(test), 10))\n",
    "\n",
    "test_messed_flatten = []\n",
    "for i in range(10):\n",
    "    test_messed_flatten.append(np.reshape(test_messed[i].copy()[..., 2], (len(test_messed[i]), 10)))"
   ]
  },
  {
   "cell_type": "markdown",
   "id": "2c55ae1e",
   "metadata": {},
   "source": [
    "# Model"
   ]
  },
  {
   "cell_type": "code",
   "execution_count": 116,
   "id": "c1a529d0",
   "metadata": {},
   "outputs": [],
   "source": [
    "model = sklearn.ensemble.IsolationForest(n_estimators=100, max_samples='auto', contamination='auto', max_features=1.0)"
   ]
  },
  {
   "cell_type": "code",
   "execution_count": 117,
   "id": "2cd7e528",
   "metadata": {},
   "outputs": [
    {
     "data": {
      "text/plain": [
       "IsolationForest()"
      ]
     },
     "execution_count": 117,
     "metadata": {},
     "output_type": "execute_result"
    }
   ],
   "source": [
    "model.fit(train_flatten)"
   ]
  },
  {
   "cell_type": "code",
   "execution_count": 118,
   "id": "fdbe3b53",
   "metadata": {},
   "outputs": [],
   "source": [
    "truth_predict = model.predict(test_flatten)\n",
    "messed_predict = [model.predict(test_messed_flatten[i]) for i in range(10)]"
   ]
  },
  {
   "cell_type": "code",
   "execution_count": 119,
   "id": "9c926c05",
   "metadata": {},
   "outputs": [
    {
     "name": "stdout",
     "output_type": "stream",
     "text": [
      "{-1: 13521, 1: 86479}\n"
     ]
    }
   ],
   "source": [
    "unique, counts = np.unique(truth_predict, return_counts=True)\n",
    "print(dict(zip(unique, counts)))"
   ]
  },
  {
   "cell_type": "code",
   "execution_count": 120,
   "id": "64758ffb",
   "metadata": {},
   "outputs": [
    {
     "name": "stdout",
     "output_type": "stream",
     "text": [
      "{-1: 2613, 1: 7387}\n",
      "{-1: 4560, 1: 5440}\n",
      "{-1: 6563, 1: 3437}\n",
      "{-1: 8131, 1: 1869}\n",
      "{-1: 9017, 1: 983}\n",
      "{-1: 9477, 1: 523}\n",
      "{-1: 9780, 1: 220}\n",
      "{-1: 9891, 1: 109}\n",
      "{-1: 9952, 1: 48}\n",
      "{-1: 9964, 1: 36}\n"
     ]
    }
   ],
   "source": [
    "for i in range(10):\n",
    "    unique, counts = np.unique(messed_predict[i], return_counts=True)\n",
    "    print(dict(zip(unique, counts)))"
   ]
  },
  {
   "cell_type": "code",
   "execution_count": 122,
   "id": "2079b640",
   "metadata": {},
   "outputs": [
    {
     "data": {
      "text/plain": [
       "array([-0.03337875,  0.08272684,  0.0656414 , ...,  0.11258603,\n",
       "        0.08341398,  0.07636844])"
      ]
     },
     "execution_count": 122,
     "metadata": {},
     "output_type": "execute_result"
    }
   ],
   "source": [
    "model.decision_function(test_flatten)"
   ]
  },
  {
   "cell_type": "code",
   "execution_count": null,
   "id": "a6bdfd8b",
   "metadata": {},
   "outputs": [],
   "source": []
  }
 ],
 "metadata": {
  "kernelspec": {
   "display_name": "Python 3 (ipykernel)",
   "language": "python",
   "name": "python3"
  },
  "language_info": {
   "codemirror_mode": {
    "name": "ipython",
    "version": 3
   },
   "file_extension": ".py",
   "mimetype": "text/x-python",
   "name": "python",
   "nbconvert_exporter": "python",
   "pygments_lexer": "ipython3",
   "version": "3.7.9"
  }
 },
 "nbformat": 4,
 "nbformat_minor": 5
}
