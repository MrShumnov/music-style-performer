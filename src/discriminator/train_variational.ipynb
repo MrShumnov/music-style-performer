{
 "cells": [
  {
   "cell_type": "code",
   "execution_count": 1,
   "id": "b3d15641",
   "metadata": {},
   "outputs": [],
   "source": [
    "import os\n",
    "import numpy as np\n",
    "from matplotlib import pyplot as plt\n",
    "\n",
    "os.environ['XLA_FLAGS'] = '--xla_gpu_cuda_data_dir=/usr/lib/cuda'\n",
    "os.environ[\"CUDA_VISIBLE_DEVICES\"]=\"3\""
   ]
  },
  {
   "cell_type": "code",
   "execution_count": 2,
   "id": "16e8521e",
   "metadata": {},
   "outputs": [
    {
     "name": "stderr",
     "output_type": "stream",
     "text": [
      "2023-05-20 04:11:55.594384: I tensorflow/core/platform/cpu_feature_guard.cc:182] This TensorFlow binary is optimized to use available CPU instructions in performance-critical operations.\n",
      "To enable the following instructions: AVX2 AVX512F FMA, in other operations, rebuild TensorFlow with the appropriate compiler flags.\n",
      "2023-05-20 04:11:56.388312: W tensorflow/compiler/tf2tensorrt/utils/py_utils.cc:38] TF-TRT Warning: Could not find TensorRT\n"
     ]
    },
    {
     "name": "stdout",
     "output_type": "stream",
     "text": [
      "GPU available: 1\n"
     ]
    },
    {
     "name": "stderr",
     "output_type": "stream",
     "text": [
      "2023-05-20 04:11:57.517854: I tensorflow/compiler/xla/stream_executor/cuda/cuda_gpu_executor.cc:996] successful NUMA node read from SysFS had negative value (-1), but there must be at least one NUMA node, so returning NUMA node zero. See more at https://github.com/torvalds/linux/blob/v6.0/Documentation/ABI/testing/sysfs-bus-pci#L344-L355\n",
      "2023-05-20 04:11:57.555635: I tensorflow/compiler/xla/stream_executor/cuda/cuda_gpu_executor.cc:996] successful NUMA node read from SysFS had negative value (-1), but there must be at least one NUMA node, so returning NUMA node zero. See more at https://github.com/torvalds/linux/blob/v6.0/Documentation/ABI/testing/sysfs-bus-pci#L344-L355\n",
      "2023-05-20 04:11:57.558492: I tensorflow/compiler/xla/stream_executor/cuda/cuda_gpu_executor.cc:996] successful NUMA node read from SysFS had negative value (-1), but there must be at least one NUMA node, so returning NUMA node zero. See more at https://github.com/torvalds/linux/blob/v6.0/Documentation/ABI/testing/sysfs-bus-pci#L344-L355\n"
     ]
    }
   ],
   "source": [
    "import tensorflow as tf\n",
    "from tensorflow import keras\n",
    "\n",
    "print(\"GPU available:\", len(tf.config.list_physical_devices('GPU')))"
   ]
  },
  {
   "cell_type": "code",
   "execution_count": 3,
   "id": "238eb1c3",
   "metadata": {},
   "outputs": [],
   "source": [
    "from data_preprocessing import DataProcessor, Dataset\n",
    "from loss import WeightedMSE\n",
    "from var_autoencoder import MLPVarAutoencoder\n",
    "from model import OCCModel"
   ]
  },
  {
   "cell_type": "code",
   "execution_count": 4,
   "id": "d66b63d4",
   "metadata": {},
   "outputs": [],
   "source": [
    "PROJECT_PATH = '/raid/shumnov/music-style-performer/'"
   ]
  },
  {
   "cell_type": "code",
   "execution_count": 5,
   "id": "ebfeffd6",
   "metadata": {},
   "outputs": [],
   "source": [
    "BATCH_SIZE = 64"
   ]
  },
  {
   "cell_type": "code",
   "execution_count": 6,
   "id": "7670e00b",
   "metadata": {},
   "outputs": [],
   "source": [
    "absolute_velocities = [True, False]\n",
    "weights = [(1, 2), (1, 1)]\n",
    "latent_dim = [40, 20]\n",
    "architecture = [((256, 128), (0.2, 0.2), (128, 256), (0.2, 0.2)),\n",
    "                ((64, 32), (0, 0), (32, 64), (0, 0))]"
   ]
  },
  {
   "cell_type": "code",
   "execution_count": 7,
   "id": "b1e26041",
   "metadata": {},
   "outputs": [],
   "source": [
    "def test(av, ld, w, arch, name):\n",
    "    dp = DataProcessor(\n",
    "        notes_qty=20, \n",
    "        include_first_tone=False, \n",
    "        absolute_velocities=av\n",
    "    )\n",
    "    \n",
    "    dset = Dataset(dp, BATCH_SIZE)\n",
    "    dset.load_dset(PROJECT_PATH + 'data/dset20.npy', PROJECT_PATH + 'data/test_dset20.npy')\n",
    "    \n",
    "    #dset.train = dset.train[:1000]\n",
    "    #dset.test = dset.test[:1000]\n",
    "    #dset.vel_mess = dset.vel_mess[:1000]\n",
    "    #dset.leg_mess = dset.leg_mess[:1000]\n",
    "    \n",
    "    loss = WeightedMSE(\n",
    "        vel_mask=dp.vel_mask, \n",
    "        leg_mask=dp.leg_mask, \n",
    "        first_last_mask=dp.first_last_mask, \n",
    "        vel_weight=w[0], \n",
    "        leg_weight=w[1], \n",
    "        first_last_weight=1\n",
    "    )\n",
    "    \n",
    "    autoencoder = MLPVarAutoencoder(\n",
    "        input_size=dp.input_size,\n",
    "        latent_dim=ld,\n",
    "        noise=0.1,\n",
    "        encoder_layers=arch[0],\n",
    "        encoder_dropout=arch[1],\n",
    "        decoder_layers=arch[2],\n",
    "        decoder_dropout=arch[3],\n",
    "        mse_loss=loss\n",
    "    )\n",
    "    \n",
    "    model = OCCModel(\n",
    "        autoencoder=autoencoder,\n",
    "        dataprocessor=dp,\n",
    "        dist_weight=1, \n",
    "        vel_weight=1, \n",
    "        leg_weight=2\n",
    "    )\n",
    "    model.compile(\n",
    "        modelsdir=PROJECT_PATH+'traindata/vae',\n",
    "        name=name, \n",
    "        optimizer=keras.optimizers.Adam(3e-4),\n",
    "        loss=loss,\n",
    "        ckpt_epochs=1\n",
    "    )\n",
    "    model.summary()\n",
    "    \n",
    "    model.fit(dset, 10, 10)"
   ]
  },
  {
   "cell_type": "code",
   "execution_count": null,
   "id": "c7758594",
   "metadata": {},
   "outputs": [
    {
     "name": "stderr",
     "output_type": "stream",
     "text": [
      "2023-05-20 04:12:19.316963: I tensorflow/compiler/xla/stream_executor/cuda/cuda_gpu_executor.cc:996] successful NUMA node read from SysFS had negative value (-1), but there must be at least one NUMA node, so returning NUMA node zero. See more at https://github.com/torvalds/linux/blob/v6.0/Documentation/ABI/testing/sysfs-bus-pci#L344-L355\n",
      "2023-05-20 04:12:19.320196: I tensorflow/compiler/xla/stream_executor/cuda/cuda_gpu_executor.cc:996] successful NUMA node read from SysFS had negative value (-1), but there must be at least one NUMA node, so returning NUMA node zero. See more at https://github.com/torvalds/linux/blob/v6.0/Documentation/ABI/testing/sysfs-bus-pci#L344-L355\n",
      "2023-05-20 04:12:19.321827: I tensorflow/compiler/xla/stream_executor/cuda/cuda_gpu_executor.cc:996] successful NUMA node read from SysFS had negative value (-1), but there must be at least one NUMA node, so returning NUMA node zero. See more at https://github.com/torvalds/linux/blob/v6.0/Documentation/ABI/testing/sysfs-bus-pci#L344-L355\n",
      "2023-05-20 04:12:20.333870: I tensorflow/compiler/xla/stream_executor/cuda/cuda_gpu_executor.cc:996] successful NUMA node read from SysFS had negative value (-1), but there must be at least one NUMA node, so returning NUMA node zero. See more at https://github.com/torvalds/linux/blob/v6.0/Documentation/ABI/testing/sysfs-bus-pci#L344-L355\n",
      "2023-05-20 04:12:20.335608: I tensorflow/compiler/xla/stream_executor/cuda/cuda_gpu_executor.cc:996] successful NUMA node read from SysFS had negative value (-1), but there must be at least one NUMA node, so returning NUMA node zero. See more at https://github.com/torvalds/linux/blob/v6.0/Documentation/ABI/testing/sysfs-bus-pci#L344-L355\n",
      "2023-05-20 04:12:20.337513: I tensorflow/compiler/xla/stream_executor/cuda/cuda_gpu_executor.cc:996] successful NUMA node read from SysFS had negative value (-1), but there must be at least one NUMA node, so returning NUMA node zero. See more at https://github.com/torvalds/linux/blob/v6.0/Documentation/ABI/testing/sysfs-bus-pci#L344-L355\n",
      "2023-05-20 04:12:20.351487: I tensorflow/core/common_runtime/gpu/gpu_device.cc:1635] Created device /job:localhost/replica:0/task:0/device:GPU:0 with 26521 MB memory:  -> device: 0, name: Tesla V100-SXM3-32GB, pci bus id: 0000:06:00.0, compute capability: 7.0\n"
     ]
    },
    {
     "name": "stdout",
     "output_type": "stream",
     "text": [
      "Epoch 1/10\n"
     ]
    },
    {
     "name": "stderr",
     "output_type": "stream",
     "text": [
      "2023-05-20 04:12:26.769157: I tensorflow/compiler/xla/service/service.cc:169] XLA service 0x21715810 initialized for platform CUDA (this does not guarantee that XLA will be used). Devices:\n",
      "2023-05-20 04:12:26.769204: I tensorflow/compiler/xla/service/service.cc:177]   StreamExecutor device (0): Tesla V100-SXM3-32GB, Compute Capability 7.0\n",
      "2023-05-20 04:12:26.775558: I tensorflow/compiler/mlir/tensorflow/utils/dump_mlir_util.cc:269] disabling MLIR crash reproducer, set env var `MLIR_CRASH_REPRODUCER_DIRECTORY` to enable.\n",
      "2023-05-20 04:12:27.011079: I tensorflow/compiler/xla/stream_executor/cuda/cuda_dnn.cc:424] Loaded cuDNN version 8600\n",
      "2023-05-20 04:12:27.087699: E tensorflow/compiler/xla/stream_executor/gpu/asm_compiler.cc:114] *** WARNING *** You are using ptxas 9.1.108, which is older than 11.1. ptxas before 11.1 is known to miscompile XLA code, leading to incorrect results or invalid-address errors.\n",
      "\n",
      "2023-05-20 04:12:27.133958: I ./tensorflow/compiler/jit/device_compiler.h:180] Compiled cluster using XLA!  This line is logged at most once for the lifetime of the process.\n",
      "2023-05-20 04:12:27.219216: E tensorflow/compiler/xla/stream_executor/gpu/asm_compiler.cc:114] *** WARNING *** You are using ptxas 9.1.108, which is older than 11.1. ptxas before 11.1 is known to miscompile XLA code, leading to incorrect results or invalid-address errors.\n",
      "\n",
      "2023-05-20 04:12:27.354598: E tensorflow/compiler/xla/stream_executor/gpu/asm_compiler.cc:114] *** WARNING *** You are using ptxas 9.1.108, which is older than 11.1. ptxas before 11.1 is known to miscompile XLA code, leading to incorrect results or invalid-address errors.\n",
      "\n",
      "2023-05-20 04:12:27.490094: E tensorflow/compiler/xla/stream_executor/gpu/asm_compiler.cc:114] *** WARNING *** You are using ptxas 9.1.108, which is older than 11.1. ptxas before 11.1 is known to miscompile XLA code, leading to incorrect results or invalid-address errors.\n",
      "\n",
      "2023-05-20 04:12:27.724728: E tensorflow/compiler/xla/stream_executor/gpu/asm_compiler.cc:114] *** WARNING *** You are using ptxas 9.1.108, which is older than 11.1. ptxas before 11.1 is known to miscompile XLA code, leading to incorrect results or invalid-address errors.\n",
      "\n",
      "2023-05-20 04:12:27.964110: E tensorflow/compiler/xla/stream_executor/gpu/asm_compiler.cc:114] *** WARNING *** You are using ptxas 9.1.108, which is older than 11.1. ptxas before 11.1 is known to miscompile XLA code, leading to incorrect results or invalid-address errors.\n",
      "\n"
     ]
    }
   ],
   "source": [
    "for av in range(len(absolute_velocities)):\n",
    "    for w in range(len(weights)):\n",
    "        for ld in range(len(latent_dim)):\n",
    "            for a in range(len(architecture)):\n",
    "                test(absolute_velocities[av], latent_dim[ld], weights[w], architecture[a], f'{a}{w}{ld}{av}')"
   ]
  },
  {
   "cell_type": "code",
   "execution_count": null,
   "id": "9ea085a8",
   "metadata": {},
   "outputs": [],
   "source": []
  },
  {
   "cell_type": "code",
   "execution_count": null,
   "id": "0ea56612",
   "metadata": {},
   "outputs": [],
   "source": []
  }
 ],
 "metadata": {
  "kernelspec": {
   "display_name": "Python 3 (ipykernel)",
   "language": "python",
   "name": "python3"
  },
  "language_info": {
   "codemirror_mode": {
    "name": "ipython",
    "version": 3
   },
   "file_extension": ".py",
   "mimetype": "text/x-python",
   "name": "python",
   "nbconvert_exporter": "python",
   "pygments_lexer": "ipython3",
   "version": "3.9.16"
  }
 },
 "nbformat": 4,
 "nbformat_minor": 5
}
