{
 "cells": [
  {
   "cell_type": "code",
   "execution_count": 2,
   "id": "078651c6",
   "metadata": {},
   "outputs": [],
   "source": [
    "import numpy as np\n",
    "import random\n",
    "import sklearn\n",
    "from sklearn import metrics, ensemble, preprocessing\n",
    "from matplotlib import pyplot as plt\n",
    "from scipy.stats import norm\n",
    "import os\n",
    "import datetime\n",
    "\n",
    "np.set_printoptions(suppress=True)\n",
    "np.random.seed(100)\n",
    "random.seed(100)"
   ]
  },
  {
   "cell_type": "code",
   "execution_count": 3,
   "id": "3ebd4d0d",
   "metadata": {},
   "outputs": [
    {
     "name": "stderr",
     "output_type": "stream",
     "text": [
      "2023-04-26 13:36:39.308438: I tensorflow/stream_executor/platform/default/dso_loader.cc:49] Successfully opened dynamic library libcudart.so.10.1\n"
     ]
    },
    {
     "name": "stdout",
     "output_type": "stream",
     "text": [
      "2.4.1\n",
      "GPU available: 8\n"
     ]
    },
    {
     "name": "stderr",
     "output_type": "stream",
     "text": [
      "2023-04-26 13:36:40.392744: I tensorflow/stream_executor/platform/default/dso_loader.cc:49] Successfully opened dynamic library libcuda.so.1\n",
      "2023-04-26 13:36:40.521211: I tensorflow/stream_executor/cuda/cuda_gpu_executor.cc:941] successful NUMA node read from SysFS had negative value (-1), but there must be at least one NUMA node, so returning NUMA node zero\n",
      "2023-04-26 13:36:40.522497: I tensorflow/core/common_runtime/gpu/gpu_device.cc:1720] Found device 0 with properties: \n",
      "pciBusID: 0000:05:00.0 name: Tesla V100-SXM3-32GB computeCapability: 7.0\n",
      "coreClock: 1.597GHz coreCount: 80 deviceMemorySize: 31.75GiB deviceMemoryBandwidth: 913.62GiB/s\n",
      "2023-04-26 13:36:40.522682: I tensorflow/stream_executor/cuda/cuda_gpu_executor.cc:941] successful NUMA node read from SysFS had negative value (-1), but there must be at least one NUMA node, so returning NUMA node zero\n",
      "2023-04-26 13:36:40.524378: I tensorflow/core/common_runtime/gpu/gpu_device.cc:1720] Found device 1 with properties: \n",
      "pciBusID: 0000:06:00.0 name: Tesla V100-SXM3-32GB computeCapability: 7.0\n",
      "coreClock: 1.597GHz coreCount: 80 deviceMemorySize: 31.75GiB deviceMemoryBandwidth: 913.62GiB/s\n",
      "2023-04-26 13:36:40.524542: I tensorflow/stream_executor/cuda/cuda_gpu_executor.cc:941] successful NUMA node read from SysFS had negative value (-1), but there must be at least one NUMA node, so returning NUMA node zero\n",
      "2023-04-26 13:36:40.525962: I tensorflow/core/common_runtime/gpu/gpu_device.cc:1720] Found device 2 with properties: \n",
      "pciBusID: 0000:07:00.0 name: Tesla V100-SXM3-32GB computeCapability: 7.0\n",
      "coreClock: 1.597GHz coreCount: 80 deviceMemorySize: 31.75GiB deviceMemoryBandwidth: 913.62GiB/s\n",
      "2023-04-26 13:36:40.526065: I tensorflow/stream_executor/cuda/cuda_gpu_executor.cc:941] successful NUMA node read from SysFS had negative value (-1), but there must be at least one NUMA node, so returning NUMA node zero\n",
      "2023-04-26 13:36:40.527242: I tensorflow/core/common_runtime/gpu/gpu_device.cc:1720] Found device 3 with properties: \n",
      "pciBusID: 0000:08:00.0 name: Tesla V100-SXM3-32GB computeCapability: 7.0\n",
      "coreClock: 1.597GHz coreCount: 80 deviceMemorySize: 31.75GiB deviceMemoryBandwidth: 913.62GiB/s\n",
      "2023-04-26 13:36:40.527336: I tensorflow/stream_executor/cuda/cuda_gpu_executor.cc:941] successful NUMA node read from SysFS had negative value (-1), but there must be at least one NUMA node, so returning NUMA node zero\n",
      "2023-04-26 13:36:40.528526: I tensorflow/core/common_runtime/gpu/gpu_device.cc:1720] Found device 4 with properties: \n",
      "pciBusID: 0000:09:00.0 name: Tesla V100-SXM3-32GB computeCapability: 7.0\n",
      "coreClock: 1.597GHz coreCount: 80 deviceMemorySize: 31.75GiB deviceMemoryBandwidth: 913.62GiB/s\n",
      "2023-04-26 13:36:40.528607: I tensorflow/stream_executor/cuda/cuda_gpu_executor.cc:941] successful NUMA node read from SysFS had negative value (-1), but there must be at least one NUMA node, so returning NUMA node zero\n",
      "2023-04-26 13:36:40.530214: I tensorflow/core/common_runtime/gpu/gpu_device.cc:1720] Found device 5 with properties: \n",
      "pciBusID: 0000:0a:00.0 name: Tesla V100-SXM3-32GB computeCapability: 7.0\n",
      "coreClock: 1.597GHz coreCount: 80 deviceMemorySize: 31.75GiB deviceMemoryBandwidth: 913.62GiB/s\n",
      "2023-04-26 13:36:40.530294: I tensorflow/stream_executor/cuda/cuda_gpu_executor.cc:941] successful NUMA node read from SysFS had negative value (-1), but there must be at least one NUMA node, so returning NUMA node zero\n",
      "2023-04-26 13:36:40.531463: I tensorflow/core/common_runtime/gpu/gpu_device.cc:1720] Found device 6 with properties: \n",
      "pciBusID: 0000:0b:00.0 name: Tesla V100-SXM3-32GB computeCapability: 7.0\n",
      "coreClock: 1.597GHz coreCount: 80 deviceMemorySize: 31.75GiB deviceMemoryBandwidth: 913.62GiB/s\n",
      "2023-04-26 13:36:40.531533: I tensorflow/stream_executor/cuda/cuda_gpu_executor.cc:941] successful NUMA node read from SysFS had negative value (-1), but there must be at least one NUMA node, so returning NUMA node zero\n",
      "2023-04-26 13:36:40.533154: I tensorflow/core/common_runtime/gpu/gpu_device.cc:1720] Found device 7 with properties: \n",
      "pciBusID: 0000:0c:00.0 name: Tesla V100-SXM3-32GB computeCapability: 7.0\n",
      "coreClock: 1.597GHz coreCount: 80 deviceMemorySize: 31.75GiB deviceMemoryBandwidth: 913.62GiB/s\n",
      "2023-04-26 13:36:40.533225: I tensorflow/stream_executor/platform/default/dso_loader.cc:49] Successfully opened dynamic library libcudart.so.10.1\n",
      "2023-04-26 13:36:40.537080: I tensorflow/stream_executor/platform/default/dso_loader.cc:49] Successfully opened dynamic library libcublas.so.10\n",
      "2023-04-26 13:36:40.537197: I tensorflow/stream_executor/platform/default/dso_loader.cc:49] Successfully opened dynamic library libcublasLt.so.10\n",
      "2023-04-26 13:36:40.540268: I tensorflow/stream_executor/platform/default/dso_loader.cc:49] Successfully opened dynamic library libcufft.so.10\n",
      "2023-04-26 13:36:40.541076: I tensorflow/stream_executor/platform/default/dso_loader.cc:49] Successfully opened dynamic library libcurand.so.10\n",
      "2023-04-26 13:36:40.544930: I tensorflow/stream_executor/platform/default/dso_loader.cc:49] Successfully opened dynamic library libcusolver.so.10\n",
      "2023-04-26 13:36:40.547392: I tensorflow/stream_executor/platform/default/dso_loader.cc:49] Successfully opened dynamic library libcusparse.so.10\n",
      "2023-04-26 13:36:40.558274: I tensorflow/stream_executor/platform/default/dso_loader.cc:49] Successfully opened dynamic library libcudnn.so.7\n",
      "2023-04-26 13:36:40.558488: I tensorflow/stream_executor/cuda/cuda_gpu_executor.cc:941] successful NUMA node read from SysFS had negative value (-1), but there must be at least one NUMA node, so returning NUMA node zero\n",
      "2023-04-26 13:36:40.559804: I tensorflow/stream_executor/cuda/cuda_gpu_executor.cc:941] successful NUMA node read from SysFS had negative value (-1), but there must be at least one NUMA node, so returning NUMA node zero\n",
      "2023-04-26 13:36:40.561516: I tensorflow/stream_executor/cuda/cuda_gpu_executor.cc:941] successful NUMA node read from SysFS had negative value (-1), but there must be at least one NUMA node, so returning NUMA node zero\n",
      "2023-04-26 13:36:40.562966: I tensorflow/stream_executor/cuda/cuda_gpu_executor.cc:941] successful NUMA node read from SysFS had negative value (-1), but there must be at least one NUMA node, so returning NUMA node zero\n",
      "2023-04-26 13:36:40.564184: I tensorflow/stream_executor/cuda/cuda_gpu_executor.cc:941] successful NUMA node read from SysFS had negative value (-1), but there must be at least one NUMA node, so returning NUMA node zero\n",
      "2023-04-26 13:36:40.565433: I tensorflow/stream_executor/cuda/cuda_gpu_executor.cc:941] successful NUMA node read from SysFS had negative value (-1), but there must be at least one NUMA node, so returning NUMA node zero\n",
      "2023-04-26 13:36:40.567108: I tensorflow/stream_executor/cuda/cuda_gpu_executor.cc:941] successful NUMA node read from SysFS had negative value (-1), but there must be at least one NUMA node, so returning NUMA node zero\n",
      "2023-04-26 13:36:40.568312: I tensorflow/stream_executor/cuda/cuda_gpu_executor.cc:941] successful NUMA node read from SysFS had negative value (-1), but there must be at least one NUMA node, so returning NUMA node zero\n",
      "2023-04-26 13:36:40.569950: I tensorflow/stream_executor/cuda/cuda_gpu_executor.cc:941] successful NUMA node read from SysFS had negative value (-1), but there must be at least one NUMA node, so returning NUMA node zero\n",
      "2023-04-26 13:36:40.571173: I tensorflow/stream_executor/cuda/cuda_gpu_executor.cc:941] successful NUMA node read from SysFS had negative value (-1), but there must be at least one NUMA node, so returning NUMA node zero\n",
      "2023-04-26 13:36:40.572918: I tensorflow/stream_executor/cuda/cuda_gpu_executor.cc:941] successful NUMA node read from SysFS had negative value (-1), but there must be at least one NUMA node, so returning NUMA node zero\n",
      "2023-04-26 13:36:40.574362: I tensorflow/stream_executor/cuda/cuda_gpu_executor.cc:941] successful NUMA node read from SysFS had negative value (-1), but there must be at least one NUMA node, so returning NUMA node zero\n",
      "2023-04-26 13:36:40.575577: I tensorflow/stream_executor/cuda/cuda_gpu_executor.cc:941] successful NUMA node read from SysFS had negative value (-1), but there must be at least one NUMA node, so returning NUMA node zero\n",
      "2023-04-26 13:36:40.576832: I tensorflow/stream_executor/cuda/cuda_gpu_executor.cc:941] successful NUMA node read from SysFS had negative value (-1), but there must be at least one NUMA node, so returning NUMA node zero\n",
      "2023-04-26 13:36:40.578494: I tensorflow/stream_executor/cuda/cuda_gpu_executor.cc:941] successful NUMA node read from SysFS had negative value (-1), but there must be at least one NUMA node, so returning NUMA node zero\n",
      "2023-04-26 13:36:40.579685: I tensorflow/stream_executor/cuda/cuda_gpu_executor.cc:941] successful NUMA node read from SysFS had negative value (-1), but there must be at least one NUMA node, so returning NUMA node zero\n",
      "2023-04-26 13:36:40.581267: I tensorflow/core/common_runtime/gpu/gpu_device.cc:1862] Adding visible gpu devices: 0, 1, 2, 3, 4, 5, 6, 7\n"
     ]
    }
   ],
   "source": [
    "import tensorflow as tf\n",
    "from tensorflow import keras\n",
    "\n",
    "os.environ['TF_XLA_FLAGS'] = '--tf_xla_enable_xla_devices'\n",
    "\n",
    "print(tf.__version__)\n",
    "print(\"GPU available:\", len(tf.config.list_physical_devices('GPU')))\n",
    "\n",
    "gpus = tf.config.experimental.list_physical_devices('GPU')\n",
    "tf.config.experimental.set_visible_devices(gpus[1], 'GPU')\n",
    "\n",
    "tf.config.run_functions_eagerly(True)"
   ]
  },
  {
   "cell_type": "code",
   "execution_count": 4,
   "id": "539f694e",
   "metadata": {},
   "outputs": [],
   "source": [
    "PROJECT_PATH = '/raid/shumnov/music-style-performer/'"
   ]
  },
  {
   "cell_type": "code",
   "execution_count": 5,
   "id": "fc422a30",
   "metadata": {},
   "outputs": [],
   "source": [
    "NOTES_QTY = 16\n",
    "NOTE_PARAMS = 3\n",
    "TEST_LEN = 10000"
   ]
  },
  {
   "cell_type": "code",
   "execution_count": 6,
   "id": "58b1cabb",
   "metadata": {},
   "outputs": [],
   "source": [
    "def prepare(dset):\n",
    "    res = np.delete(dset, (1, 2), axis=2)\n",
    "    \n",
    "    tmp = res[..., 1].copy()\n",
    "    res[..., 1] = res[..., 2]\n",
    "    res[..., 2] = tmp\n",
    "    \n",
    "    # 0 - note\n",
    "    # 1 - duration\n",
    "    # 2 - velocity\n",
    "    \n",
    "    return res"
   ]
  },
  {
   "cell_type": "code",
   "execution_count": 7,
   "id": "6d82689e",
   "metadata": {},
   "outputs": [],
   "source": [
    "def normalize_train(dset):    \n",
    "    notes_scaler = sklearn.preprocessing.RobustScaler()\n",
    "    notes_scaler.fit(dset[..., 0])\n",
    "    dset[..., 0] = notes_scaler.transform(dset[..., 0])\n",
    "    \n",
    "    duration_scaler = sklearn.preprocessing.MaxAbsScaler()\n",
    "    duration_scaler.fit(dset[..., 1])\n",
    "    dset[..., 1] = duration_scaler.transform(dset[..., 1])\n",
    "    \n",
    "    dset[..., 2] /= 127\n",
    "    \n",
    "    return (notes_scaler, duration_scaler)\n",
    "\n",
    "def normalize_test(dset, params):\n",
    "    notes_scaler, duration_scaler = params\n",
    "    \n",
    "    dset[..., 0] = notes_scaler.transform(dset[..., 0])\n",
    "    dset[..., 1] = duration_scaler.transform(dset[..., 1])\n",
    "    dset[..., 2] /= 127\n",
    "    "
   ]
  },
  {
   "cell_type": "code",
   "execution_count": 8,
   "id": "e04015ce",
   "metadata": {},
   "outputs": [],
   "source": [
    "def mess_n(lines, n):\n",
    "    mu, std = norm.fit(lines[..., 2].flatten())\n",
    "    \n",
    "    for line in lines:\n",
    "        idxs = random.sample(range(len(line)), n)\n",
    "\n",
    "        for idx in idxs:\n",
    "            line[idx][2] = np.random.normal(mu, std)\n",
    "            \n",
    "def mess(test):\n",
    "    test_messed = test.copy()\n",
    "    for i in range(NOTES_QTY):\n",
    "        mess_n(test_messed[i * TEST_LEN: (i + 1) * TEST_LEN], i+1)\n",
    "        \n",
    "    return test_messed"
   ]
  },
  {
   "cell_type": "code",
   "execution_count": 9,
   "id": "12cf4406",
   "metadata": {},
   "outputs": [],
   "source": [
    "dset = np.load(PROJECT_PATH + 'data/dset16.npy')\n",
    "dset = dset.astype(float)"
   ]
  },
  {
   "cell_type": "code",
   "execution_count": 10,
   "id": "15bdee12",
   "metadata": {},
   "outputs": [],
   "source": [
    "# unique, counts = np.unique(dset[...,3], return_counts=True)\n",
    "# plt.plot(unique, counts, '.-')\n",
    "# plt.show()"
   ]
  },
  {
   "cell_type": "code",
   "execution_count": 11,
   "id": "aad30a3e",
   "metadata": {
    "scrolled": true
   },
   "outputs": [],
   "source": [
    "processed = prepare(dset)\n",
    "np.random.shuffle(processed)"
   ]
  },
  {
   "cell_type": "code",
   "execution_count": 12,
   "id": "89364d97",
   "metadata": {},
   "outputs": [
    {
     "name": "stdout",
     "output_type": "stream",
     "text": [
      "train: (4912011, 16, 3), test: (160000, 16, 3), messed: (160000, 16, 3)\n"
     ]
    }
   ],
   "source": [
    "full_test_len = NOTES_QTY * TEST_LEN\n",
    "\n",
    "train = processed[:-full_test_len] \n",
    "test = processed[-full_test_len:]\n",
    "test_messed = mess(test)\n",
    "\n",
    "params = normalize_train(train)\n",
    "normalize_test(test, params)\n",
    "normalize_test(test_messed, params)\n",
    "\n",
    "print(f'train: {train.shape}, test: {test.shape}, messed: {test_messed.shape}')"
   ]
  },
  {
   "cell_type": "code",
   "execution_count": 105,
   "id": "744a5674",
   "metadata": {},
   "outputs": [
    {
     "data": {
      "image/png": "[encoded data removed]",
      "text/plain": [
       "<Figure size 640x480 with 1 Axes>"
      ]
     },
     "metadata": {},
     "output_type": "display_data"
    }
   ],
   "source": [
    "plt.hist(test_messed[..., 2].flatten(), bins=32, label='messed')\n",
    "plt.hist(test[..., 2].flatten(), bins=32, label='true', alpha=0.9)\n",
    "plt.legend()\n",
    "plt.show()"
   ]
  },
  {
   "cell_type": "markdown",
   "id": "2c55ae1e",
   "metadata": {},
   "source": [
    "# Models"
   ]
  },
  {
   "cell_type": "code",
   "execution_count": 14,
   "id": "2b899f9a",
   "metadata": {},
   "outputs": [],
   "source": [
    "LATENT_DIM = 32\n",
    "I = 0.01 # noise"
   ]
  },
  {
   "cell_type": "markdown",
   "id": "97962cf8",
   "metadata": {},
   "source": [
    "## Autoencoder"
   ]
  },
  {
   "cell_type": "code",
   "execution_count": 15,
   "id": "2c3f732b",
   "metadata": {},
   "outputs": [],
   "source": [
    "class LstmAutoencoder(keras.Model):\n",
    "    def __init__(self):\n",
    "        super(LstmAutoencoder, self).__init__()\n",
    "        \n",
    "        self.build_encoder()\n",
    "        self.build_decoder()\n",
    "        \n",
    "    def build_encoder(self):        \n",
    "        self.encoder = keras.Sequential([\n",
    "            keras.layers.Input(shape=(NOTES_QTY, NOTE_PARAMS)),\n",
    "            keras.layers.LSTM(LATENT_DIM, activation=\"tanh\"),\n",
    "        ])\n",
    "        \n",
    "    def build_decoder(self):\n",
    "        self.decoder = keras.Sequential([\n",
    "            keras.layers.RepeatVector(NOTES_QTY),\n",
    "            keras.layers.LSTM(NOTE_PARAMS, return_sequences=True)\n",
    "        ])\n",
    "\n",
    "    def call(self, x, training=True):\n",
    "        encoded = self.encoder(x, training=training)\n",
    "        decoded = self.decoder(encoded, training=training)\n",
    "        return decoded\n"
   ]
  },
  {
   "cell_type": "code",
   "execution_count": 16,
   "id": "4ded6227",
   "metadata": {},
   "outputs": [],
   "source": [
    "class MultiLayerAutoencoder(keras.Model):\n",
    "    def __init__(self):\n",
    "        super(MultiLayerAutoencoder, self).__init__()\n",
    "        \n",
    "        self.build_encoder()\n",
    "        self.build_decoder()\n",
    "        \n",
    "    def build_encoder(self):        \n",
    "        self.encoder = keras.Sequential([\n",
    "            keras.layers.Flatten(),\n",
    "            keras.layers.Dense(NOTES_QTY * NOTE_PARAMS, activation='relu'),\n",
    "            keras.layers.Dense(32, activation='relu'),\n",
    "            keras.layers.Dense(LATENT_DIM, activation='tanh'),\n",
    "        ])\n",
    "        \n",
    "    def build_decoder(self):\n",
    "        self.decoder = keras.Sequential([\n",
    "            keras.layers.Input(shape=(LATENT_DIM)),\n",
    "            keras.layers.Dense(32, activation='relu'),\n",
    "            keras.layers.Dense(32, activation='relu'),\n",
    "            keras.layers.Dense(NOTES_QTY * NOTE_PARAMS, activation='tanh'),\n",
    "            keras.layers.Reshape((NOTES_QTY, NOTE_PARAMS))\n",
    "        ])\n",
    "\n",
    "    def call(self, x, training=True):\n",
    "        encoded = self.encoder(x, training=training)\n",
    "        decoded = self.decoder(encoded, training=training)\n",
    "        return decoded"
   ]
  },
  {
   "cell_type": "code",
   "execution_count": 17,
   "id": "030109f3",
   "metadata": {
    "scrolled": true
   },
   "outputs": [
    {
     "name": "stderr",
     "output_type": "stream",
     "text": [
      "2023-04-26 13:37:05.412354: I tensorflow/core/platform/cpu_feature_guard.cc:142] This TensorFlow binary is optimized with oneAPI Deep Neural Network Library (oneDNN) to use the following CPU instructions in performance-critical operations:  SSE4.1 SSE4.2 AVX AVX2 AVX512F FMA\n",
      "To enable them in other operations, rebuild TensorFlow with the appropriate compiler flags.\n",
      "2023-04-26 13:37:05.423120: I tensorflow/core/platform/profile_utils/cpu_utils.cc:112] CPU Frequency: 2693670000 Hz\n",
      "2023-04-26 13:37:05.427053: I tensorflow/compiler/xla/service/service.cc:168] XLA service 0xc928a0 initialized for platform Host (this does not guarantee that XLA will be used). Devices:\n",
      "2023-04-26 13:37:05.427086: I tensorflow/compiler/xla/service/service.cc:176]   StreamExecutor device (0): Host, Default Version\n",
      "2023-04-26 13:37:05.786065: I tensorflow/stream_executor/cuda/cuda_gpu_executor.cc:941] successful NUMA node read from SysFS had negative value (-1), but there must be at least one NUMA node, so returning NUMA node zero\n",
      "2023-04-26 13:37:05.788278: I tensorflow/compiler/xla/service/service.cc:168] XLA service 0xdd1190 initialized for platform CUDA (this does not guarantee that XLA will be used). Devices:\n",
      "2023-04-26 13:37:05.788314: I tensorflow/compiler/xla/service/service.cc:176]   StreamExecutor device (0): Tesla V100-SXM3-32GB, Compute Capability 7.0\n",
      "2023-04-26 13:37:05.789291: I tensorflow/stream_executor/cuda/cuda_gpu_executor.cc:941] successful NUMA node read from SysFS had negative value (-1), but there must be at least one NUMA node, so returning NUMA node zero\n",
      "2023-04-26 13:37:05.794530: I tensorflow/core/common_runtime/gpu/gpu_device.cc:1720] Found device 0 with properties: \n",
      "pciBusID: 0000:06:00.0 name: Tesla V100-SXM3-32GB computeCapability: 7.0\n",
      "coreClock: 1.597GHz coreCount: 80 deviceMemorySize: 31.75GiB deviceMemoryBandwidth: 913.62GiB/s\n",
      "2023-04-26 13:37:05.794627: I tensorflow/stream_executor/platform/default/dso_loader.cc:49] Successfully opened dynamic library libcudart.so.10.1\n",
      "2023-04-26 13:37:05.794659: I tensorflow/stream_executor/platform/default/dso_loader.cc:49] Successfully opened dynamic library libcublas.so.10\n",
      "2023-04-26 13:37:05.794673: I tensorflow/stream_executor/platform/default/dso_loader.cc:49] Successfully opened dynamic library libcublasLt.so.10\n",
      "2023-04-26 13:37:05.794686: I tensorflow/stream_executor/platform/default/dso_loader.cc:49] Successfully opened dynamic library libcufft.so.10\n",
      "2023-04-26 13:37:05.794700: I tensorflow/stream_executor/platform/default/dso_loader.cc:49] Successfully opened dynamic library libcurand.so.10\n",
      "2023-04-26 13:37:05.794714: I tensorflow/stream_executor/platform/default/dso_loader.cc:49] Successfully opened dynamic library libcusolver.so.10\n",
      "2023-04-26 13:37:05.794727: I tensorflow/stream_executor/platform/default/dso_loader.cc:49] Successfully opened dynamic library libcusparse.so.10\n",
      "2023-04-26 13:37:05.794750: I tensorflow/stream_executor/platform/default/dso_loader.cc:49] Successfully opened dynamic library libcudnn.so.7\n",
      "2023-04-26 13:37:05.794853: I tensorflow/stream_executor/cuda/cuda_gpu_executor.cc:941] successful NUMA node read from SysFS had negative value (-1), but there must be at least one NUMA node, so returning NUMA node zero\n",
      "2023-04-26 13:37:05.805345: I tensorflow/stream_executor/cuda/cuda_gpu_executor.cc:941] successful NUMA node read from SysFS had negative value (-1), but there must be at least one NUMA node, so returning NUMA node zero\n",
      "2023-04-26 13:37:05.808146: I tensorflow/core/common_runtime/gpu/gpu_device.cc:1862] Adding visible gpu devices: 1\n",
      "2023-04-26 13:37:05.808326: I tensorflow/stream_executor/platform/default/dso_loader.cc:49] Successfully opened dynamic library libcudart.so.10.1\n",
      "2023-04-26 13:37:06.441395: I tensorflow/core/common_runtime/gpu/gpu_device.cc:1261] Device interconnect StreamExecutor with strength 1 edge matrix:\n",
      "2023-04-26 13:37:06.441448: I tensorflow/core/common_runtime/gpu/gpu_device.cc:1267]      1 \n",
      "2023-04-26 13:37:06.441455: I tensorflow/core/common_runtime/gpu/gpu_device.cc:1280] 1:   N \n",
      "2023-04-26 13:37:06.441857: I tensorflow/stream_executor/cuda/cuda_gpu_executor.cc:941] successful NUMA node read from SysFS had negative value (-1), but there must be at least one NUMA node, so returning NUMA node zero\n",
      "2023-04-26 13:37:06.443659: I tensorflow/stream_executor/cuda/cuda_gpu_executor.cc:941] successful NUMA node read from SysFS had negative value (-1), but there must be at least one NUMA node, so returning NUMA node zero\n",
      "2023-04-26 13:37:06.445327: I tensorflow/core/common_runtime/gpu/gpu_device.cc:1406] Created TensorFlow device (/job:localhost/replica:0/task:0/device:GPU:0 with 29699 MB memory) -> physical GPU (device: 1, name: Tesla V100-SXM3-32GB, pci bus id: 0000:06:00.0, compute capability: 7.0)\n",
      "2023-04-26 13:37:07.090217: I tensorflow/stream_executor/platform/default/dso_loader.cc:49] Successfully opened dynamic library libcublas.so.10\n"
     ]
    },
    {
     "name": "stdout",
     "output_type": "stream",
     "text": [
      "(1, 16, 3)\n",
      "(1, 32)\n",
      "(1, 16, 3)\n"
     ]
    }
   ],
   "source": [
    "autoencoder = MultiLayerAutoencoder()\n",
    "\n",
    "test_out = autoencoder(train[0:1], training=False)\n",
    "print(test_out.shape)\n",
    "\n",
    "en_test_out = autoencoder.encoder(train[0:1], training=False)\n",
    "print(en_test_out.shape)\n",
    "\n",
    "de_test_out = autoencoder.decoder(en_test_out, training=False)\n",
    "print(de_test_out.shape)"
   ]
  },
  {
   "cell_type": "code",
   "execution_count": 18,
   "id": "1737a249",
   "metadata": {},
   "outputs": [],
   "source": [
    "autoencoder_optimizer = tf.keras.optimizers.Adam(learning_rate=0.001)"
   ]
  },
  {
   "cell_type": "markdown",
   "id": "d135bd01",
   "metadata": {},
   "source": [
    "## Latent Discriminator"
   ]
  },
  {
   "cell_type": "code",
   "execution_count": 19,
   "id": "3f44ca8d",
   "metadata": {},
   "outputs": [],
   "source": [
    "class LatentDisc(keras.Model):\n",
    "    def __init__(self):\n",
    "        super(LatentDisc, self).__init__()\n",
    "        \n",
    "        # self.l1 = keras.layers.Dense(128, activation='relu')(self.input)\n",
    "        self.l1 = keras.layers.Dense(64, activation='relu')\n",
    "        self.l2 = keras.layers.Dense(32, activation='relu')\n",
    "        self.l3 = keras.layers.Dense(16, activation='relu')\n",
    "        self.outp = keras.layers.Dense(1, activation='sigmoid')\n",
    "        \n",
    "    def call(self, x, training=True):\n",
    "        x = self.l1(x)\n",
    "        x = self.l2(x)\n",
    "        x = self.l3(x)\n",
    "        x = self.outp(x)\n",
    "        return x"
   ]
  },
  {
   "cell_type": "code",
   "execution_count": 20,
   "id": "5a0f055a",
   "metadata": {},
   "outputs": [
    {
     "name": "stdout",
     "output_type": "stream",
     "text": [
      "(1, 1)\n"
     ]
    }
   ],
   "source": [
    "ldisc = LatentDisc()\n",
    "\n",
    "test_out = ldisc(np.ones(shape=(1, LATENT_DIM)), training=False)\n",
    "print(test_out.shape)"
   ]
  },
  {
   "cell_type": "code",
   "execution_count": 21,
   "id": "4da8ab60",
   "metadata": {},
   "outputs": [],
   "source": [
    "ldisc_optimizer = tf.keras.optimizers.Adam(learning_rate=0.001)"
   ]
  },
  {
   "cell_type": "markdown",
   "id": "03bd886e",
   "metadata": {},
   "source": [
    "## Visual Discriminator\n",
    "(and classifier)"
   ]
  },
  {
   "cell_type": "code",
   "execution_count": 22,
   "id": "ea88edad",
   "metadata": {},
   "outputs": [],
   "source": [
    "class LstmVisualDisc(keras.Model):\n",
    "    def __init__(self):\n",
    "        super(LstmVisualDisc, self).__init__()\n",
    "        \n",
    "        self.lstm = keras.layers.LSTM(1)\n",
    "        self.outp = keras.layers.Dense(1, activation='sigmoid')\n",
    "        \n",
    "    def call(self, x, training=True):\n",
    "        x = self.lstm(x)\n",
    "        x = self.outp(x)\n",
    "        return x"
   ]
  },
  {
   "cell_type": "code",
   "execution_count": 23,
   "id": "1fe09838",
   "metadata": {},
   "outputs": [],
   "source": [
    "class MultiLayerVisualDisc(keras.Model):\n",
    "    def __init__(self):\n",
    "        super(MultiLayerVisualDisc, self).__init__()\n",
    "        \n",
    "        self.flatten = keras.layers.Flatten()\n",
    "        self.l1 = keras.layers.Dense(64, activation='relu')\n",
    "        self.l2 = keras.layers.Dense(32, activation='relu')\n",
    "        self.l3 = keras.layers.Dense(16, activation='relu')\n",
    "        self.outp = keras.layers.Dense(1, activation='sigmoid')\n",
    "        \n",
    "    def call(self, x, training=True):\n",
    "        x = self.flatten(x)\n",
    "        x = self.l1(x)\n",
    "        x = self.l2(x)\n",
    "        x = self.l3(x)\n",
    "        x = self.outp(x)\n",
    "        return x"
   ]
  },
  {
   "cell_type": "code",
   "execution_count": 24,
   "id": "dddd546f",
   "metadata": {},
   "outputs": [
    {
     "name": "stdout",
     "output_type": "stream",
     "text": [
      "(1, 1)\n"
     ]
    }
   ],
   "source": [
    "vdisc = MultiLayerVisualDisc()\n",
    "\n",
    "test_out = vdisc(train[0:1], training=False)\n",
    "print(test_out.shape)"
   ]
  },
  {
   "cell_type": "code",
   "execution_count": 25,
   "id": "12015852",
   "metadata": {},
   "outputs": [],
   "source": [
    "vdisc_optimizer = tf.keras.optimizers.Adam(learning_rate=0.001)"
   ]
  },
  {
   "cell_type": "code",
   "execution_count": 26,
   "id": "4742d0be",
   "metadata": {},
   "outputs": [
    {
     "name": "stdout",
     "output_type": "stream",
     "text": [
      "(1, 1)\n"
     ]
    }
   ],
   "source": [
    "classifier = MultiLayerVisualDisc()\n",
    "test_out = classifier(train[0:1], training=False)\n",
    "print(test_out.shape)"
   ]
  },
  {
   "cell_type": "code",
   "execution_count": 27,
   "id": "508e4963",
   "metadata": {},
   "outputs": [],
   "source": [
    "classifier_optimizer = tf.keras.optimizers.Adam(learning_rate=0.001)"
   ]
  },
  {
   "cell_type": "markdown",
   "id": "9a8d2b0d",
   "metadata": {},
   "source": [
    "# Helpers"
   ]
  },
  {
   "cell_type": "code",
   "execution_count": 28,
   "id": "672b843b",
   "metadata": {},
   "outputs": [],
   "source": [
    "checkpoint_dir = PROJECT_PATH + 'train_data/discriminator/checkpoints'\n",
    "checkpoint_prefix = os.path.join(checkpoint_dir, \"ckpt\")\n",
    "checkpoint = tf.train.Checkpoint(autoencoder_optimizer=autoencoder_optimizer,\n",
    "                                ldisc_optimizer=ldisc_optimizer,\n",
    "                                vdisc_optimizer=vdisc_optimizer,\n",
    "                                classifier_optimizer=classifier_optimizer,\n",
    "                                autoencoder=autoencoder,\n",
    "                                ldisc=ldisc,\n",
    "                                vdisc=vdisc,\n",
    "                                classifier=classifier)"
   ]
  },
  {
   "cell_type": "code",
   "execution_count": 29,
   "id": "1e922f65",
   "metadata": {},
   "outputs": [],
   "source": [
    "log_dir=PROJECT_PATH + 'train_data/discriminator/logs/'\n",
    "\n",
    "summary_writer = tf.summary.create_file_writer(\n",
    "    log_dir + \"fit/\" + datetime.datetime.now().strftime(\"%Y%m%d-%H%M%S\"))"
   ]
  },
  {
   "cell_type": "code",
   "execution_count": 30,
   "id": "80cd5329",
   "metadata": {},
   "outputs": [],
   "source": [
    "bce = tf.keras.losses.BinaryCrossentropy(from_logits=True)\n",
    "mse = tf.keras.losses.MeanSquaredError()"
   ]
  },
  {
   "cell_type": "code",
   "execution_count": 31,
   "id": "945adad8",
   "metadata": {},
   "outputs": [],
   "source": [
    "l2_optimizer = tf.keras.optimizers.SGD(learning_rate=0.01, momentum=0.0)"
   ]
  },
  {
   "cell_type": "markdown",
   "id": "a78a16fd",
   "metadata": {},
   "source": [
    "# Prediction"
   ]
  },
  {
   "cell_type": "code",
   "execution_count": 32,
   "id": "87d657b7",
   "metadata": {},
   "outputs": [],
   "source": [
    "from sklearn.metrics import mean_squared_error"
   ]
  },
  {
   "cell_type": "code",
   "execution_count": 33,
   "id": "b9975802",
   "metadata": {},
   "outputs": [],
   "source": [
    "# @tf.function\n",
    "# def mse_pair(x):\n",
    "#     return mse(x[0], x[1])\n",
    "# \n",
    "# @tf.function\n",
    "# def predict(x):\n",
    "#     y = autoencoder(x)\n",
    "#     \n",
    "#     stacked = tf.stack([x, y], axis=1)\n",
    "#     err = tf.map_fn(mse_pair, stacked)\n",
    "#     \n",
    "#     return err"
   ]
  },
  {
   "cell_type": "code",
   "execution_count": 98,
   "id": "884017de",
   "metadata": {},
   "outputs": [],
   "source": [
    "@tf.function\n",
    "def predict(x):\n",
    "    y = autoencoder(x)\n",
    "    \n",
    "    err = tf.math.square(x - y)\n",
    "    err = tf.math.reduce_mean(err, axis=2)\n",
    "    err = tf.math.reduce_mean(err, axis=1)\n",
    "    \n",
    "    return err"
   ]
  },
  {
   "cell_type": "markdown",
   "id": "d2f99530",
   "metadata": {},
   "source": [
    "# Training"
   ]
  },
  {
   "cell_type": "code",
   "execution_count": 92,
   "id": "88fa9e88",
   "metadata": {},
   "outputs": [],
   "source": [
    "INM_ITERS = 5\n",
    "LAMBDA = 2\n",
    "EPOCHS = 10\n",
    "BATCH_SIZE = 32"
   ]
  },
  {
   "cell_type": "code",
   "execution_count": 93,
   "id": "6b27eb25",
   "metadata": {},
   "outputs": [],
   "source": [
    "train_dataset = tf.data.Dataset.from_tensor_slices(train).batch(BATCH_SIZE)"
   ]
  },
  {
   "cell_type": "code",
   "execution_count": 94,
   "id": "29fc2a6f",
   "metadata": {},
   "outputs": [],
   "source": [
    "@tf.function\n",
    "def train_step(x, step):\n",
    "    batch_size = len(x)\n",
    "    zeros = np.zeros((batch_size, 1))\n",
    "    ones = np.ones((batch_size, 1))\n",
    "    \n",
    "    n = np.random.normal(0, I, x.shape)\n",
    "    x_noisy = x + n\n",
    "    \n",
    "    l1 = autoencoder.encoder(x_noisy)\n",
    "    l2 = tf.Variable(np.random.uniform(-1, 1, (batch_size, LATENT_DIM)))\n",
    "    \n",
    "    #\n",
    "    # Classifier update\n",
    "    #\n",
    "    \n",
    "    with tf.GradientTape() as gt:\n",
    "        l_classifier = bce(zeros, classifier(autoencoder.decoder(l2))) \\\n",
    "                        + bce(ones, classifier(autoencoder.decoder(l1)))\n",
    "        \n",
    "    classifier_gradients = gt.gradient(l_classifier, classifier.trainable_variables)\n",
    "    classifier_optimizer.apply_gradients(zip(classifier_gradients, classifier.trainable_variables)) \n",
    "    \n",
    "    #\n",
    "    # Discriminator update\n",
    "    #\n",
    "    \n",
    "    with tf.GradientTape(persistent=True) as gt:\n",
    "        l_latent = bce(zeros, ldisc(l1)) \\\n",
    "                    + bce(ones, ldisc(l2))\n",
    "        \n",
    "        l_visual = bce(zeros, vdisc(autoencoder.decoder(l2))) \\\n",
    "                    + bce(ones, vdisc(x))\n",
    "        \n",
    "    ldisc_gradients = gt.gradient(l_latent, ldisc.trainable_variables)\n",
    "    ldisc_optimizer.apply_gradients(zip(ldisc_gradients, ldisc.trainable_variables))\n",
    "    \n",
    "    vdisc_gradients = gt.gradient(l_visual, vdisc.trainable_variables)\n",
    "    vdisc_optimizer.apply_gradients(zip(vdisc_gradients, vdisc.trainable_variables))\n",
    "    \n",
    "    #\n",
    "    # Informative-negative mining\n",
    "    #\n",
    "    \n",
    "    for i in range(INM_ITERS):\n",
    "        with tf.GradientTape() as gt:\n",
    "            l_l2 = bce(ones, classifier(autoencoder.decoder(l2)))\n",
    "        \n",
    "        l2_gradients = gt.gradient(l_l2, l2)\n",
    "        l2_optimizer.apply_gradients([(l2_gradients, l2)])\n",
    "    \n",
    "    #\n",
    "    # Generator update\n",
    "    #\n",
    "    \n",
    "    with tf.GradientTape() as gt:\n",
    "        gt.watch(autoencoder.variables)\n",
    "        \n",
    "        l_ae_latent = bce(ones, ldisc(l1))\n",
    "        l_ae_visual = bce(ones, vdisc(autoencoder.decoder(l2)))\n",
    "        l_ae_mse = mse(x, autoencoder(x_noisy))\n",
    "        \n",
    "        total_ae_loss = l_ae_latent + l_ae_visual + LAMBDA * l_ae_mse\n",
    "        \n",
    "    ae_gradients = gt.gradient(total_ae_loss, autoencoder.variables)\n",
    "    autoencoder_optimizer.apply_gradients(zip(ae_gradients, autoencoder.variables))\n",
    "      \n",
    "    #\n",
    "    # Logging \n",
    "    #\n",
    "    \n",
    "    with summary_writer.as_default():\n",
    "        tf.summary.scalar('l_classifier', l_classifier, step=step)\n",
    "        tf.summary.scalar('l_latent', l_latent, step=step)\n",
    "        tf.summary.scalar('l_visual', l_visual, step=step)\n",
    "        tf.summary.scalar('l_ae_latent', l_ae_latent, step=step)\n",
    "        tf.summary.scalar('l_ae_visual', l_ae_visual, step=step)\n",
    "        tf.summary.scalar('l_ae_mse', l_ae_mse, step=step)\n",
    "        tf.summary.scalar('l_ae_total', total_ae_loss, step=step)\n",
    " "
   ]
  },
  {
   "cell_type": "code",
   "execution_count": 95,
   "id": "c54d899e",
   "metadata": {},
   "outputs": [],
   "source": [
    "# %reload_ext tensorboard\n",
    "# %tensorboard --logdir {log_dir} --host \"0.0.0.0\""
   ]
  },
  {
   "cell_type": "code",
   "execution_count": 116,
   "id": "18291c88",
   "metadata": {},
   "outputs": [
    {
     "data": {
      "text/plain": [
       "<tensorflow.python.training.tracking.util.CheckpointLoadStatus at 0x7fc6a84a9df0>"
      ]
     },
     "execution_count": 116,
     "metadata": {},
     "output_type": "execute_result"
    }
   ],
   "source": [
    "checkpoint.restore(checkpoint_dir + '/ckpt-1')"
   ]
  },
  {
   "cell_type": "code",
   "execution_count": 38,
   "id": "b1c25cee",
   "metadata": {},
   "outputs": [],
   "source": [
    "def train_loop(start, epochs):\n",
    "    for epoch in range(start, start + epochs):\n",
    "        step = epoch * len(train_dataset)\n",
    "        for batch in train_dataset:\n",
    "            train_step(batch, step)\n",
    "            \n",
    "            if (step+1) % 1000 == 0:\n",
    "                print('.', end='', flush=True)\n",
    "                \n",
    "            step += 1\n",
    "                \n",
    "        checkpoint.save(file_prefix=checkpoint_prefix)"
   ]
  },
  {
   "cell_type": "code",
   "execution_count": null,
   "id": "502ab901",
   "metadata": {
    "scrolled": false
   },
   "outputs": [
    {
     "name": "stdout",
     "output_type": "stream",
     "text": [
      "."
     ]
    }
   ],
   "source": [
    "train_loop(0, 10)"
   ]
  },
  {
   "cell_type": "markdown",
   "id": "6153c2b0",
   "metadata": {},
   "source": [
    "# Validate"
   ]
  },
  {
   "cell_type": "code",
   "execution_count": 154,
   "id": "6ac40951",
   "metadata": {},
   "outputs": [
    {
     "name": "stdout",
     "output_type": "stream",
     "text": [
      "[[ 0.5         0.0368      0.67716535]\n",
      " [-0.5         0.0361      0.72440945]\n",
      " [ 0.          0.0356      0.7007874 ]\n",
      " [ 0.5         0.0353      0.74015748]\n",
      " [-0.5         0.0712      0.77165354]\n",
      " [ 1.25        0.0751      0.70866142]\n",
      " [-1.25        0.0778      0.7480315 ]\n",
      " [ 0.          0.076       0.65354331]\n",
      " [ 0.          0.1099      0.64566929]\n",
      " [ 0.5         0.034       0.66929134]\n",
      " [-0.5         0.0686      0.75590551]\n",
      " [ 0.5         0.0356      0.74015748]\n",
      " [-0.5         0.0932      0.80314961]\n",
      " [ 1.75        0.0107      0.74015748]\n",
      " [-2.5         0.0566      0.62992126]\n",
      " [-0.5         0.08882473  0.62204724]]\n",
      "\n",
      "[[ 0.591422    0.07286247  0.65091395]\n",
      " [-0.5800295   0.00287658  0.72076154]\n",
      " [ 0.11542608  0.0698655   0.6114338 ]\n",
      " [ 0.62217426  0.03781489  0.6610315 ]\n",
      " [-0.57331693  0.04644563  0.627465  ]\n",
      " [ 0.90327924  0.07663717  0.65446174]\n",
      " [-0.91206163  0.04578628  0.6102338 ]\n",
      " [ 0.14218447  0.07980363  0.74408406]\n",
      " [ 0.0985349   0.07175648  0.68898046]\n",
      " [ 0.46191964  0.10291739  0.5902453 ]\n",
      " [-0.6108572   0.08146248  0.7257102 ]\n",
      " [ 0.5337297   0.11624329  0.6721796 ]\n",
      " [-0.53963804  0.06874667  0.68124914]\n",
      " [ 0.9667903   0.06181869  0.6755698 ]\n",
      " [-0.99488485  0.044896    0.6827315 ]\n",
      " [-0.5148792   0.07375286  0.6965683 ]]\n"
     ]
    }
   ],
   "source": [
    "print(test[0], np.squeeze(autoencoder(test[0:1]).numpy()), sep='\\n\\n')"
   ]
  },
  {
   "cell_type": "code",
   "execution_count": 149,
   "id": "af818982",
   "metadata": {},
   "outputs": [],
   "source": [
    "true_predict = predict(test).numpy()\n",
    "messed_predict = predict(test_messed).numpy()\n",
    "\n",
    "groups = [(true_predict[i:i+TEST_LEN], messed_predict[i:i+TEST_LEN]) for i in range(0, len(test), TEST_LEN)]"
   ]
  },
  {
   "cell_type": "code",
   "execution_count": 150,
   "id": "85e711b9",
   "metadata": {},
   "outputs": [
    {
     "data": {
      "image/png": "[encoded data removed]",
      "text/plain": [
       "<Figure size 1000x300 with 2 Axes>"
      ]
     },
     "metadata": {},
     "output_type": "display_data"
    }
   ],
   "source": [
    "groups = validate()\n",
    "\n",
    "x = list(range(1, NOTES_QTY + 1))\n",
    "y_mean = []\n",
    "y_var = []\n",
    "\n",
    "for i in range(NOTES_QTY):\n",
    "    diff = groups[i][1] - groups[i][0]\n",
    "    \n",
    "    m = np.mean(diff)\n",
    "    var = np.std(diff) / m\n",
    "    \n",
    "    y_mean.append(m)\n",
    "    y_var.append(var)\n",
    "    \n",
    "fig, axs = plt.subplots(1, 2, figsize=(10, 3))\n",
    "    \n",
    "axs[0].plot(x, y_mean, 'o-')\n",
    "axs[1].plot(x, y_var, 'o-')\n",
    "\n",
    "plt.show()"
   ]
  },
  {
   "cell_type": "code",
   "execution_count": null,
   "id": "5f47b9a9",
   "metadata": {},
   "outputs": [],
   "source": []
  }
 ],
 "metadata": {
  "kernelspec": {
   "display_name": "Python 3 (ipykernel)",
   "language": "python",
   "name": "python3"
  },
  "language_info": {
   "codemirror_mode": {
    "name": "ipython",
    "version": 3
   },
   "file_extension": ".py",
   "mimetype": "text/x-python",
   "name": "python",
   "nbconvert_exporter": "python",
   "pygments_lexer": "ipython3",
   "version": "3.9.16"
  }
 },
 "nbformat": 4,
 "nbformat_minor": 5
}
